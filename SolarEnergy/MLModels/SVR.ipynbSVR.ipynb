{
  "cells": [
    {
      "cell_type": "markdown",
      "metadata": {
        "id": "view-in-github",
        "colab_type": "text"
      },
      "source": [
        "<a href=\"https://colab.research.google.com/github/snvssk/data298A/blob/saidev/SolarEnergy/MLModels/SVR.ipynbSVR.ipynb\" target=\"_parent\"><img src=\"https://colab.research.google.com/assets/colab-badge.svg\" alt=\"Open In Colab\"/></a>"
      ]
    },
    {
      "cell_type": "markdown",
      "metadata": {
        "id": "N3jmk-FJzrqP"
      },
      "source": [
        "Importing Libraries"
      ]
    },
    {
      "cell_type": "code",
      "execution_count": null,
      "metadata": {
        "id": "rxZPwXjEsn6T"
      },
      "outputs": [],
      "source": [
        "import numpy as np\n",
        "import matplotlib.pyplot as plt\n",
        "import pandas as pd\n",
        "\n",
        "from sklearn.metrics import r2_score, mean_squared_error, make_scorer\n",
        "from sklearn.linear_model import Ridge"
      ]
    },
    {
      "cell_type": "markdown",
      "metadata": {
        "id": "CL9hYAbAzwDv"
      },
      "source": [
        "Dataset Import"
      ]
    },
    {
      "cell_type": "code",
      "execution_count": null,
      "metadata": {
        "id": "CzVOvbyjtYtb"
      },
      "outputs": [],
      "source": [
        "dataset = pd.read_csv('./all_combined_city.csv')\n",
        "dataset = dataset.sample(frac =.4) "
      ]
    },
    {
      "cell_type": "markdown",
      "metadata": {
        "id": "kbyl0skpvsgF"
      },
      "source": [
        "### Input and Output Values"
      ]
    },
    {
      "cell_type": "code",
      "execution_count": null,
      "metadata": {
        "colab": {
          "base_uri": "https://localhost:8080/"
        },
        "id": "7qjQjSY82nNw",
        "outputId": "4c0f360c-62ed-4722-c8ff-e6ea6bf171b9"
      },
      "outputs": [
        {
          "data": {
            "text/plain": [
              "0"
            ]
          },
          "execution_count": 31,
          "metadata": {},
          "output_type": "execute_result"
        }
      ],
      "source": [
        "dataset['GHI'].isnull().values.sum()"
      ]
    },
    {
      "cell_type": "code",
      "execution_count": null,
      "metadata": {
        "colab": {
          "base_uri": "https://localhost:8080/"
        },
        "id": "Jy3fBCDnvwQN",
        "outputId": "d694bfd7-367c-4946-9ce3-5e6ac43e82e8"
      },
      "outputs": [
        {
          "data": {
            "text/plain": [
              "157655     495\n",
              "497019     941\n",
              "22991        0\n",
              "232567       0\n",
              "313867       0\n",
              "          ... \n",
              "42696     1002\n",
              "202619      44\n",
              "471380      60\n",
              "409716     152\n",
              "366367      21\n",
              "Name: GHI, Length: 210470, dtype: int64"
            ]
          },
          "execution_count": 32,
          "metadata": {},
          "output_type": "execute_result"
        }
      ],
      "source": [
        "target = dataset['GHI']#keeping only target(ghi) data here\n",
        "target"
      ]
    },
    {
      "cell_type": "code",
      "execution_count": null,
      "metadata": {
        "colab": {
          "base_uri": "https://localhost:8080/",
          "height": 476
        },
        "id": "gk9MTWA-vwT6",
        "outputId": "83d0f601-2b62-404c-c826-92eebff8091f"
      },
      "outputs": [
        {
          "data": {
            "text/html": [
              "\n",
              "  <div id=\"df-7c10beb3-23f7-4333-8ee8-c7eb44d898c3\">\n",
              "    <div class=\"colab-df-container\">\n",
              "      <div>\n",
              "<style scoped>\n",
              "    .dataframe tbody tr th:only-of-type {\n",
              "        vertical-align: middle;\n",
              "    }\n",
              "\n",
              "    .dataframe tbody tr th {\n",
              "        vertical-align: top;\n",
              "    }\n",
              "\n",
              "    .dataframe thead th {\n",
              "        text-align: right;\n",
              "    }\n",
              "</style>\n",
              "<table border=\"1\" class=\"dataframe\">\n",
              "  <thead>\n",
              "    <tr style=\"text-align: right;\">\n",
              "      <th></th>\n",
              "      <th>Year</th>\n",
              "      <th>Month</th>\n",
              "      <th>Day</th>\n",
              "      <th>Hour</th>\n",
              "      <th>Cloud_Type</th>\n",
              "      <th>Dew_Point</th>\n",
              "      <th>Solar_Zenith_Angle</th>\n",
              "      <th>Surface_Albedo</th>\n",
              "      <th>Wind_Speed</th>\n",
              "      <th>Precipitable_Water</th>\n",
              "      <th>Wind_Direction</th>\n",
              "      <th>Relative_Humidity</th>\n",
              "      <th>Temperature</th>\n",
              "      <th>Pressure</th>\n",
              "    </tr>\n",
              "  </thead>\n",
              "  <tbody>\n",
              "    <tr>\n",
              "      <th>157655</th>\n",
              "      <td>2019</td>\n",
              "      <td>12</td>\n",
              "      <td>28</td>\n",
              "      <td>11.5</td>\n",
              "      <td>0</td>\n",
              "      <td>5.1</td>\n",
              "      <td>61.21</td>\n",
              "      <td>0.120</td>\n",
              "      <td>1.5</td>\n",
              "      <td>1.400</td>\n",
              "      <td>347.0</td>\n",
              "      <td>56.42</td>\n",
              "      <td>13.6</td>\n",
              "      <td>1018</td>\n",
              "    </tr>\n",
              "    <tr>\n",
              "      <th>497019</th>\n",
              "      <td>2019</td>\n",
              "      <td>5</td>\n",
              "      <td>4</td>\n",
              "      <td>13.5</td>\n",
              "      <td>0</td>\n",
              "      <td>8.8</td>\n",
              "      <td>28.31</td>\n",
              "      <td>0.130</td>\n",
              "      <td>2.3</td>\n",
              "      <td>1.000</td>\n",
              "      <td>278.0</td>\n",
              "      <td>54.68</td>\n",
              "      <td>18.1</td>\n",
              "      <td>997</td>\n",
              "    </tr>\n",
              "    <tr>\n",
              "      <th>22991</th>\n",
              "      <td>2017</td>\n",
              "      <td>4</td>\n",
              "      <td>23</td>\n",
              "      <td>23.5</td>\n",
              "      <td>8</td>\n",
              "      <td>9.0</td>\n",
              "      <td>128.94</td>\n",
              "      <td>0.119</td>\n",
              "      <td>2.0</td>\n",
              "      <td>2.235</td>\n",
              "      <td>261.0</td>\n",
              "      <td>100.00</td>\n",
              "      <td>11.0</td>\n",
              "      <td>1010</td>\n",
              "    </tr>\n",
              "    <tr>\n",
              "      <th>232567</th>\n",
              "      <td>2019</td>\n",
              "      <td>4</td>\n",
              "      <td>6</td>\n",
              "      <td>3.5</td>\n",
              "      <td>8</td>\n",
              "      <td>9.4</td>\n",
              "      <td>116.06</td>\n",
              "      <td>0.180</td>\n",
              "      <td>1.7</td>\n",
              "      <td>2.500</td>\n",
              "      <td>179.0</td>\n",
              "      <td>84.77</td>\n",
              "      <td>11.9</td>\n",
              "      <td>1022</td>\n",
              "    </tr>\n",
              "    <tr>\n",
              "      <th>313867</th>\n",
              "      <td>2018</td>\n",
              "      <td>11</td>\n",
              "      <td>23</td>\n",
              "      <td>21.5</td>\n",
              "      <td>4</td>\n",
              "      <td>14.4</td>\n",
              "      <td>144.49</td>\n",
              "      <td>0.130</td>\n",
              "      <td>2.4</td>\n",
              "      <td>2.900</td>\n",
              "      <td>255.0</td>\n",
              "      <td>94.54</td>\n",
              "      <td>15.3</td>\n",
              "      <td>1020</td>\n",
              "    </tr>\n",
              "    <tr>\n",
              "      <th>...</th>\n",
              "      <td>...</td>\n",
              "      <td>...</td>\n",
              "      <td>...</td>\n",
              "      <td>...</td>\n",
              "      <td>...</td>\n",
              "      <td>...</td>\n",
              "      <td>...</td>\n",
              "      <td>...</td>\n",
              "      <td>...</td>\n",
              "      <td>...</td>\n",
              "      <td>...</td>\n",
              "      <td>...</td>\n",
              "      <td>...</td>\n",
              "      <td>...</td>\n",
              "    </tr>\n",
              "    <tr>\n",
              "      <th>42696</th>\n",
              "      <td>2018</td>\n",
              "      <td>6</td>\n",
              "      <td>8</td>\n",
              "      <td>12.0</td>\n",
              "      <td>0</td>\n",
              "      <td>9.4</td>\n",
              "      <td>14.55</td>\n",
              "      <td>0.120</td>\n",
              "      <td>3.8</td>\n",
              "      <td>2.000</td>\n",
              "      <td>290.0</td>\n",
              "      <td>41.28</td>\n",
              "      <td>23.3</td>\n",
              "      <td>1021</td>\n",
              "    </tr>\n",
              "    <tr>\n",
              "      <th>202619</th>\n",
              "      <td>2017</td>\n",
              "      <td>7</td>\n",
              "      <td>21</td>\n",
              "      <td>5.5</td>\n",
              "      <td>1</td>\n",
              "      <td>11.0</td>\n",
              "      <td>86.01</td>\n",
              "      <td>0.152</td>\n",
              "      <td>3.0</td>\n",
              "      <td>1.055</td>\n",
              "      <td>235.7</td>\n",
              "      <td>97.91</td>\n",
              "      <td>14.0</td>\n",
              "      <td>1010</td>\n",
              "    </tr>\n",
              "    <tr>\n",
              "      <th>471380</th>\n",
              "      <td>2017</td>\n",
              "      <td>11</td>\n",
              "      <td>16</td>\n",
              "      <td>10.0</td>\n",
              "      <td>8</td>\n",
              "      <td>14.0</td>\n",
              "      <td>62.14</td>\n",
              "      <td>0.104</td>\n",
              "      <td>1.9</td>\n",
              "      <td>3.459</td>\n",
              "      <td>245.6</td>\n",
              "      <td>97.51</td>\n",
              "      <td>15.0</td>\n",
              "      <td>1000</td>\n",
              "    </tr>\n",
              "    <tr>\n",
              "      <th>409716</th>\n",
              "      <td>2019</td>\n",
              "      <td>5</td>\n",
              "      <td>12</td>\n",
              "      <td>18.0</td>\n",
              "      <td>0</td>\n",
              "      <td>9.4</td>\n",
              "      <td>78.19</td>\n",
              "      <td>0.140</td>\n",
              "      <td>2.8</td>\n",
              "      <td>1.500</td>\n",
              "      <td>258.0</td>\n",
              "      <td>69.30</td>\n",
              "      <td>15.0</td>\n",
              "      <td>1018</td>\n",
              "    </tr>\n",
              "    <tr>\n",
              "      <th>366367</th>\n",
              "      <td>2016</td>\n",
              "      <td>11</td>\n",
              "      <td>20</td>\n",
              "      <td>15.5</td>\n",
              "      <td>8</td>\n",
              "      <td>11.0</td>\n",
              "      <td>76.64</td>\n",
              "      <td>0.122</td>\n",
              "      <td>0.7</td>\n",
              "      <td>2.404</td>\n",
              "      <td>299.4</td>\n",
              "      <td>93.98</td>\n",
              "      <td>14.0</td>\n",
              "      <td>1010</td>\n",
              "    </tr>\n",
              "  </tbody>\n",
              "</table>\n",
              "<p>210470 rows × 14 columns</p>\n",
              "</div>\n",
              "      <button class=\"colab-df-convert\" onclick=\"convertToInteractive('df-7c10beb3-23f7-4333-8ee8-c7eb44d898c3')\"\n",
              "              title=\"Convert this dataframe to an interactive table.\"\n",
              "              style=\"display:none;\">\n",
              "        \n",
              "  <svg xmlns=\"http://www.w3.org/2000/svg\" height=\"24px\"viewBox=\"0 0 24 24\"\n",
              "       width=\"24px\">\n",
              "    <path d=\"M0 0h24v24H0V0z\" fill=\"none\"/>\n",
              "    <path d=\"M18.56 5.44l.94 2.06.94-2.06 2.06-.94-2.06-.94-.94-2.06-.94 2.06-2.06.94zm-11 1L8.5 8.5l.94-2.06 2.06-.94-2.06-.94L8.5 2.5l-.94 2.06-2.06.94zm10 10l.94 2.06.94-2.06 2.06-.94-2.06-.94-.94-2.06-.94 2.06-2.06.94z\"/><path d=\"M17.41 7.96l-1.37-1.37c-.4-.4-.92-.59-1.43-.59-.52 0-1.04.2-1.43.59L10.3 9.45l-7.72 7.72c-.78.78-.78 2.05 0 2.83L4 21.41c.39.39.9.59 1.41.59.51 0 1.02-.2 1.41-.59l7.78-7.78 2.81-2.81c.8-.78.8-2.07 0-2.86zM5.41 20L4 18.59l7.72-7.72 1.47 1.35L5.41 20z\"/>\n",
              "  </svg>\n",
              "      </button>\n",
              "      \n",
              "  <style>\n",
              "    .colab-df-container {\n",
              "      display:flex;\n",
              "      flex-wrap:wrap;\n",
              "      gap: 12px;\n",
              "    }\n",
              "\n",
              "    .colab-df-convert {\n",
              "      background-color: #E8F0FE;\n",
              "      border: none;\n",
              "      border-radius: 50%;\n",
              "      cursor: pointer;\n",
              "      display: none;\n",
              "      fill: #1967D2;\n",
              "      height: 32px;\n",
              "      padding: 0 0 0 0;\n",
              "      width: 32px;\n",
              "    }\n",
              "\n",
              "    .colab-df-convert:hover {\n",
              "      background-color: #E2EBFA;\n",
              "      box-shadow: 0px 1px 2px rgba(60, 64, 67, 0.3), 0px 1px 3px 1px rgba(60, 64, 67, 0.15);\n",
              "      fill: #174EA6;\n",
              "    }\n",
              "\n",
              "    [theme=dark] .colab-df-convert {\n",
              "      background-color: #3B4455;\n",
              "      fill: #D2E3FC;\n",
              "    }\n",
              "\n",
              "    [theme=dark] .colab-df-convert:hover {\n",
              "      background-color: #434B5C;\n",
              "      box-shadow: 0px 1px 3px 1px rgba(0, 0, 0, 0.15);\n",
              "      filter: drop-shadow(0px 1px 2px rgba(0, 0, 0, 0.3));\n",
              "      fill: #FFFFFF;\n",
              "    }\n",
              "  </style>\n",
              "\n",
              "      <script>\n",
              "        const buttonEl =\n",
              "          document.querySelector('#df-7c10beb3-23f7-4333-8ee8-c7eb44d898c3 button.colab-df-convert');\n",
              "        buttonEl.style.display =\n",
              "          google.colab.kernel.accessAllowed ? 'block' : 'none';\n",
              "\n",
              "        async function convertToInteractive(key) {\n",
              "          const element = document.querySelector('#df-7c10beb3-23f7-4333-8ee8-c7eb44d898c3');\n",
              "          const dataTable =\n",
              "            await google.colab.kernel.invokeFunction('convertToInteractive',\n",
              "                                                     [key], {});\n",
              "          if (!dataTable) return;\n",
              "\n",
              "          const docLinkHtml = 'Like what you see? Visit the ' +\n",
              "            '<a target=\"_blank\" href=https://colab.research.google.com/notebooks/data_table.ipynb>data table notebook</a>'\n",
              "            + ' to learn more about interactive tables.';\n",
              "          element.innerHTML = '';\n",
              "          dataTable['output_type'] = 'display_data';\n",
              "          await google.colab.output.renderOutput(dataTable, element);\n",
              "          const docLink = document.createElement('div');\n",
              "          docLink.innerHTML = docLinkHtml;\n",
              "          element.appendChild(docLink);\n",
              "        }\n",
              "      </script>\n",
              "    </div>\n",
              "  </div>\n",
              "  "
            ],
            "text/plain": [
              "        Year  Month  Day  Hour  Cloud_Type  Dew_Point  Solar_Zenith_Angle  \\\n",
              "157655  2019     12   28  11.5           0        5.1               61.21   \n",
              "497019  2019      5    4  13.5           0        8.8               28.31   \n",
              "22991   2017      4   23  23.5           8        9.0              128.94   \n",
              "232567  2019      4    6   3.5           8        9.4              116.06   \n",
              "313867  2018     11   23  21.5           4       14.4              144.49   \n",
              "...      ...    ...  ...   ...         ...        ...                 ...   \n",
              "42696   2018      6    8  12.0           0        9.4               14.55   \n",
              "202619  2017      7   21   5.5           1       11.0               86.01   \n",
              "471380  2017     11   16  10.0           8       14.0               62.14   \n",
              "409716  2019      5   12  18.0           0        9.4               78.19   \n",
              "366367  2016     11   20  15.5           8       11.0               76.64   \n",
              "\n",
              "        Surface_Albedo  Wind_Speed  Precipitable_Water  Wind_Direction  \\\n",
              "157655           0.120         1.5               1.400           347.0   \n",
              "497019           0.130         2.3               1.000           278.0   \n",
              "22991            0.119         2.0               2.235           261.0   \n",
              "232567           0.180         1.7               2.500           179.0   \n",
              "313867           0.130         2.4               2.900           255.0   \n",
              "...                ...         ...                 ...             ...   \n",
              "42696            0.120         3.8               2.000           290.0   \n",
              "202619           0.152         3.0               1.055           235.7   \n",
              "471380           0.104         1.9               3.459           245.6   \n",
              "409716           0.140         2.8               1.500           258.0   \n",
              "366367           0.122         0.7               2.404           299.4   \n",
              "\n",
              "        Relative_Humidity  Temperature  Pressure  \n",
              "157655              56.42         13.6      1018  \n",
              "497019              54.68         18.1       997  \n",
              "22991              100.00         11.0      1010  \n",
              "232567              84.77         11.9      1022  \n",
              "313867              94.54         15.3      1020  \n",
              "...                   ...          ...       ...  \n",
              "42696               41.28         23.3      1021  \n",
              "202619              97.91         14.0      1010  \n",
              "471380              97.51         15.0      1000  \n",
              "409716              69.30         15.0      1018  \n",
              "366367              93.98         14.0      1010  \n",
              "\n",
              "[210470 rows x 14 columns]"
            ]
          },
          "execution_count": 43,
          "metadata": {},
          "output_type": "execute_result"
        }
      ],
      "source": [
        "input= dataset.drop(['GHI'], axis=1)\n",
        "input"
      ]
    },
    {
      "cell_type": "markdown",
      "metadata": {
        "id": "T6AxaYb-FdD2"
      },
      "source": [
        "Feature Scaling"
      ]
    },
    {
      "cell_type": "code",
      "execution_count": null,
      "metadata": {
        "id": "OHhm9fNRvwXT"
      },
      "outputs": [],
      "source": [
        "from sklearn.preprocessing import StandardScaler\n",
        "#Normalize the dataset\n",
        "sc = StandardScaler()\n",
        "input_normalized = sc.fit_transform(input)"
      ]
    },
    {
      "cell_type": "markdown",
      "metadata": {
        "id": "Osiokq0eFfsC"
      },
      "source": [
        "Split Data"
      ]
    },
    {
      "cell_type": "code",
      "execution_count": null,
      "metadata": {
        "id": "1f0imTXxvwa9"
      },
      "outputs": [],
      "source": [
        "from sklearn.model_selection import train_test_split\n",
        "X_train, X_test, y_train, y_test = train_test_split(input_normalized, target, test_size = 0.3, random_state = 1)\n"
      ]
    },
    {
      "cell_type": "markdown",
      "metadata": {
        "id": "gtdi98Dxz5FF"
      },
      "source": [
        "Training SVR on the Training set"
      ]
    },
    {
      "cell_type": "code",
      "execution_count": null,
      "metadata": {
        "colab": {
          "base_uri": "https://localhost:8080/"
        },
        "id": "wY2eedpnKgch",
        "outputId": "2851c7d0-217a-413b-d52b-7c5452ca8eb8"
      },
      "outputs": [
        {
          "data": {
            "text/plain": [
              "(147329, 14)"
            ]
          },
          "execution_count": 45,
          "metadata": {},
          "output_type": "execute_result"
        }
      ],
      "source": [
        "X_train.shape"
      ]
    },
    {
      "cell_type": "code",
      "execution_count": null,
      "metadata": {
        "colab": {
          "base_uri": "https://localhost:8080/"
        },
        "id": "7jfLJBbeKhBS",
        "outputId": "832efee6-daeb-4f00-d708-629be0ff3473"
      },
      "outputs": [
        {
          "data": {
            "text/plain": [
              "(63141,)"
            ]
          },
          "execution_count": 46,
          "metadata": {},
          "output_type": "execute_result"
        }
      ],
      "source": [
        "y_test.shape"
      ]
    },
    {
      "cell_type": "markdown",
      "metadata": {
        "id": "p8_gg3ZNz-z_"
      },
      "source": [
        "Confustion Matrix\n"
      ]
    },
    {
      "cell_type": "code",
      "execution_count": null,
      "metadata": {
        "colab": {
          "base_uri": "https://localhost:8080/"
        },
        "id": "_pjUylF3yoLo",
        "outputId": "6e52b99e-7a18-40c6-8767-398f97f797f3"
      },
      "outputs": [
        {
          "data": {
            "text/plain": [
              "SVR()"
            ]
          },
          "execution_count": 47,
          "metadata": {},
          "output_type": "execute_result"
        }
      ],
      "source": [
        "from sklearn.svm import SVR\n",
        "regressor = SVR(kernel = 'rbf')\n",
        "regressor.fit(X_train, y_train)"
      ]
    },
    {
      "cell_type": "code",
      "execution_count": null,
      "metadata": {
        "id": "kIGk_tAsz79D"
      },
      "outputs": [],
      "source": [
        "from sklearn.metrics import confusion_matrix, accuracy_score\n",
        "y_pred = regressor.predict(X_test)"
      ]
    },
    {
      "cell_type": "code",
      "execution_count": null,
      "metadata": {
        "id": "ecJVjl7rF0fQ"
      },
      "outputs": [],
      "source": [
        "import math\n",
        "\n",
        "MSE = np.square(np.subtract(y_test, y_pred)).mean() \n",
        " \n",
        "RMSE = math.sqrt(MSE)\n",
        "\n"
      ]
    },
    {
      "cell_type": "code",
      "execution_count": null,
      "metadata": {
        "colab": {
          "base_uri": "https://localhost:8080/"
        },
        "id": "D55rkomWGAgE",
        "outputId": "5d78d491-9caa-4c2e-e454-954eefaf245b"
      },
      "outputs": [
        {
          "data": {
            "text/plain": [
              "0.9381363969181051"
            ]
          },
          "execution_count": 50,
          "metadata": {},
          "output_type": "execute_result"
        }
      ],
      "source": [
        "r2_score(y_test, y_pred)"
      ]
    },
    {
      "cell_type": "code",
      "execution_count": null,
      "metadata": {
        "colab": {
          "base_uri": "https://localhost:8080/"
        },
        "id": "HVS84cHLGB6W",
        "outputId": "d32230cd-100a-4c0b-e54f-6976d8a06d1b"
      },
      "outputs": [
        {
          "data": {
            "text/plain": [
              "5684.7717588890655"
            ]
          },
          "execution_count": 41,
          "metadata": {},
          "output_type": "execute_result"
        }
      ],
      "source": [
        "MSE"
      ]
    },
    {
      "cell_type": "code",
      "execution_count": null,
      "metadata": {
        "colab": {
          "base_uri": "https://localhost:8080/"
        },
        "id": "lmjTGWkRGWx_",
        "outputId": "3c3f71f4-4ca9-499b-a699-0a7b726603cb"
      },
      "outputs": [
        {
          "data": {
            "text/plain": [
              "75.39742541286847"
            ]
          },
          "execution_count": 51,
          "metadata": {},
          "output_type": "execute_result"
        }
      ],
      "source": [
        "RMSE"
      ]
    },
    {
      "cell_type": "markdown",
      "source": [
        "Need Gridsearch for Hyper paramater Optimization"
      ],
      "metadata": {
        "id": "nahC3DYcgyH4"
      }
    },
    {
      "cell_type": "code",
      "execution_count": null,
      "metadata": {
        "id": "wQyrh08IIswu"
      },
      "outputs": [],
      "source": [
        "from sklearn.model_selection import GridSearchCV"
      ]
    },
    {
      "cell_type": "code",
      "execution_count": null,
      "metadata": {
        "id": "XEl8xKH6yoOb"
      },
      "outputs": [],
      "source": [
        "# Parameters for tuning\n",
        "parameters = {'kernel': ['rbf', 'poly', 'sigmoid'] ,\n",
        "               'gamma': [1e-4, 1e-3, 0.01, 0.1, 0.2,],\n",
        "               'C': [1, 10, 100, 1000, 10000]}\n"
      ]
    },
    {
      "cell_type": "code",
      "execution_count": null,
      "metadata": {
        "id": "bbZdWAZYyoRS"
      },
      "outputs": [],
      "source": [
        "svr_gs = GridSearchCV(SVR(epsilon = 0.01), \n",
        "                   scoring = 'neg_mean_squared_error',\n",
        "                   param_grid = parameters,\n",
        "                   verbose = 3,\n",
        "                   n_jobs = None,\n",
        "                   cv =2)\n"
      ]
    },
    {
      "cell_type": "code",
      "execution_count": null,
      "metadata": {
        "colab": {
          "base_uri": "https://localhost:8080/"
        },
        "id": "61pwOwr66VGP",
        "outputId": "51718222-4078-4a9d-dd5b-e42a3eeeb247"
      },
      "outputs": [
        {
          "output_type": "stream",
          "name": "stdout",
          "text": [
            "Fitting 2 folds for each of 75 candidates, totalling 150 fits\n",
            "[CV 1/2] END C=1, gamma=0.0001, kernel=rbf;, score=-112051.859 total time=13.9min\n",
            "[CV 2/2] END C=1, gamma=0.0001, kernel=rbf;, score=-112057.723 total time=13.8min\n",
            "[CV 1/2] END C=1, gamma=0.0001, kernel=poly;, score=-137401.239 total time=12.1min\n",
            "[CV 2/2] END C=1, gamma=0.0001, kernel=poly;, score=-137510.306 total time=12.1min\n",
            "[CV 1/2] END C=1, gamma=0.0001, kernel=sigmoid;, score=-123827.547 total time=13.0min\n",
            "[CV 2/2] END C=1, gamma=0.0001, kernel=sigmoid;, score=-123901.339 total time=13.0min\n",
            "[CV 1/2] END .C=1, gamma=0.001, kernel=rbf;, score=-43702.721 total time=13.3min\n",
            "[CV 2/2] END .C=1, gamma=0.001, kernel=rbf;, score=-43536.293 total time=13.2min\n",
            "[CV 1/2] END C=1, gamma=0.001, kernel=poly;, score=-137396.198 total time=12.2min\n",
            "[CV 2/2] END C=1, gamma=0.001, kernel=poly;, score=-137502.815 total time=12.2min\n",
            "[CV 1/2] END C=1, gamma=0.001, kernel=sigmoid;, score=-63949.589 total time=12.4min\n",
            "[CV 2/2] END C=1, gamma=0.001, kernel=sigmoid;, score=-63451.421 total time=12.4min\n",
            "[CV 1/2] END ..C=1, gamma=0.01, kernel=rbf;, score=-15090.521 total time=20.8min\n",
            "[CV 2/2] END ..C=1, gamma=0.01, kernel=rbf;, score=-15311.837 total time=12.9min\n"
          ]
        }
      ],
      "source": [
        "svr_gs.fit(X_train, y_train)"
      ]
    },
    {
      "cell_type": "code",
      "execution_count": null,
      "metadata": {
        "id": "AZILEshqLZvS"
      },
      "outputs": [],
      "source": [
        "print(\"Best parameters:\", svr_gs.best_params_)\n",
        "print(\"Lowest RMSE: \", (svr_gs.best_score_)**(1/2.0))"
      ]
    }
  ],
  "metadata": {
    "colab": {
      "collapsed_sections": [],
      "machine_shape": "hm",
      "provenance": [],
      "include_colab_link": true
    },
    "gpuClass": "premium",
    "kernelspec": {
      "display_name": "Python 3",
      "name": "python3"
    },
    "language_info": {
      "name": "python"
    }
  },
  "nbformat": 4,
  "nbformat_minor": 0
}