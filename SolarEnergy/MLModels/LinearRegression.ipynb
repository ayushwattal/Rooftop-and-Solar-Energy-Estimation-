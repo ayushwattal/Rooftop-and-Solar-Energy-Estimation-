{
  "cells": [
    {
      "cell_type": "code",
      "execution_count": null,
      "id": "cda18335",
      "metadata": {
        "id": "cda18335"
      },
      "outputs": [],
      "source": [
        "\"\"\"Predicting Solar Intensity Using Weather Data\n",
        "June 2019\n",
        "Alex Kim and Dane Stocks\n",
        "This module defines common utility functions, especially regarding data\n",
        "cleaning and structuring.\n",
        "\"\"\"\n",
        "import numpy as np\n",
        "\n",
        "\n",
        "def read_data(data_paths):\n",
        "    \"\"\"Read the data files and combine them into a single dataset.\n",
        "    Args:\n",
        "        data_paths (list): Strings of the paths to the data files.\n",
        "    Returns:\n",
        "        A single NumPy array consisting of the data from all datasets\n",
        "    \"\"\"\n",
        "    # Read the first data file\n",
        "    first_path = data_paths[0]\n",
        "    full_data = np.genfromtxt(first_path, delimiter=',', skip_header=2,\n",
        "            names=True)\n",
        "\n",
        "    # Append all remaining data files\n",
        "    num_files = len(data_paths)\n",
        "    for i in range(1, num_files):\n",
        "        path = data_paths[i]\n",
        "        new_data = np.genfromtxt(path, delimiter=',', skip_header=2,\n",
        "                names=True)\n",
        "        full_data = np.hstack((full_data, new_data))\n",
        "\n",
        "    return full_data\n",
        "\n",
        "\n",
        "def trim_vars(data):\n",
        "    \"\"\"Trim extraneous variables and observations from the data.\n",
        "    Args:\n",
        "        data (ndarray): The full unprocessed dataset\n",
        "    Returns:\n",
        "        The full dataset with extraneous variables and observations\n",
        "        trimmed off.\n",
        "    \"\"\"\n",
        "    # Remove all columns with names in `rm_vars`\n",
        "    rm_vars = ['f0','DHI', 'DNI', 'Clearsky_DHI', 'Clearsky_DNI','Clearsky_GHI', 'Fill_Flag','Global_Horizontal_UV_Irradiance_280400nm','Global_Horizontal_UV_Irradiance_295385nm']\n",
        "    var_names = list(data.dtype.names)\n",
        "    keep_vars = [_ for _ in var_names if _ not in rm_vars]\n",
        "    data_trimmed = data[keep_vars]\n",
        "    return data_trimmed\n",
        "\n",
        "\n",
        "def generate_ids(data):\n",
        "    \"\"\"Generate a unique ID for each row of the data. Each ID encodes\n",
        "    the date and time of the solar intensity measurement.\n",
        "    \"\"\"\n",
        "    pass\n",
        "\n",
        "\n",
        "def recode_time(data):\n",
        "    \"\"\"Recode the 'Hour' column to encapsulate both the hour and the\n",
        "    minute, and then remove the 'Minute' column.\n",
        "    Args:\n",
        "        data (ndarray): The full unprocessed dataset\n",
        "    Returns:\n",
        "        The full dataset with extraneous variables and observations\n",
        "    \"\"\"\n",
        "    # Recode 'Hour'\n",
        "    data['Hour'] = data['Hour'] + data['Minute'] / 60\n",
        "\n",
        "    # Remove 'Minute'\n",
        "    var_names = list(data.dtype.names)\n",
        "    keep_vars = [_ for _ in var_names if _ != 'Minute']\n",
        "    data_trimmed = data[keep_vars]\n",
        "    return data_trimmed\n",
        "\n",
        "\n",
        "def featurize(data, n_time_points):\n",
        "    \"\"\"\n",
        "    \"\"\"\n",
        "    pass\n",
        "\n",
        "\n",
        "def cluster_transform():\n",
        "    \"\"\"Transform the data for k-means clustering.\n",
        "    This function generates a transformed dataset where each row\n",
        "    corresponds to a day, and each column corresponds to a time during\n",
        "    the day (48 columns total). The cells are populated with solar\n",
        "    intensity values. All predictor variables (weather data) are ignored\n",
        "    here.\n",
        "    Args:\n",
        "    Returns:\n",
        "    \"\"\"\n",
        "\n",
        "\n",
        "def split_data():\n",
        "    \"\"\"\n",
        "    \"\"\"\n",
        "    pass\n",
        "\n",
        "\n",
        "def read_and_preprocess():\n",
        "    \"\"\"\n",
        "    \"\"\"\n",
        "    data_paths = ['https://raw.githubusercontent.com/Ritanjali-Jena/PublicDataSet/weatherdata/2016.csv','https://raw.githubusercontent.com/Ritanjali-Jena/PublicDataSet/weatherdata/2017.csv','https://raw.githubusercontent.com/Ritanjali-Jena/PublicDataSet/weatherdata/2018.csv','https://raw.githubusercontent.com/Ritanjali-Jena/PublicDataSet/weatherdata/2019.csv','https://raw.githubusercontent.com/Ritanjali-Jena/PublicDataSet/weatherdata/2020.csv']\n",
        "    dat = read_data(data_paths)\n",
        "    dat = trim_vars(dat)\n",
        "    dat = recode_time(dat)\n",
        "\n",
        "    return dat\n",
        "\n",
        "\n",
        "if __name__ == \"__main__\":\n",
        "    pass"
      ]
    },
    {
      "cell_type": "code",
      "execution_count": null,
      "id": "0d427f5b",
      "metadata": {
        "id": "0d427f5b"
      },
      "outputs": [],
      "source": [
        "#code to save cleaned and processed combine datafile in local system\n",
        "#import pandas as pd \n",
        "#pd.DataFrame(read_and_preprocess()).to_csv(\"/Users/ritu/Downloads/weatherdata/processed_combined_sanjose1.csv\")"
      ]
    },
    {
      "cell_type": "code",
      "execution_count": null,
      "id": "05244d03",
      "metadata": {
        "id": "05244d03",
        "outputId": "977cb1d6-af92-401e-aea6-839ae72f4b92"
      },
      "outputs": [
        {
          "name": "stderr",
          "output_type": "stream",
          "text": [
            "<frozen importlib._bootstrap>:228: RuntimeWarning: scipy._lib.messagestream.MessageStream size changed, may indicate binary incompatibility. Expected 56 from C header, got 64 from PyObject\n"
          ]
        }
      ],
      "source": [
        "import pandas as pd\n",
        "from sklearn.preprocessing import MinMaxScaler\n",
        "import sklearn\n",
        "from sklearn.model_selection import train_test_split\n",
        "from sklearn.linear_model import LinearRegression\n",
        "import matplotlib.pyplot as plt\n",
        "import seaborn as sns\n",
        "import numpy as np"
      ]
    },
    {
      "cell_type": "code",
      "execution_count": null,
      "id": "253839d3",
      "metadata": {
        "id": "253839d3"
      },
      "outputs": [],
      "source": [
        "nsrdb = read_and_preprocess()#nsrdb has nd array all weather data"
      ]
    },
    {
      "cell_type": "code",
      "execution_count": null,
      "id": "0dff265b",
      "metadata": {
        "id": "0dff265b"
      },
      "outputs": [],
      "source": [
        "df1 = pd.DataFrame(nsrdb)#converting nd-array to pandas for dataprep"
      ]
    },
    {
      "cell_type": "code",
      "execution_count": null,
      "id": "52dee44d",
      "metadata": {
        "id": "52dee44d",
        "outputId": "7b5af570-b723-4add-ebd0-b0ecd23f38d7"
      },
      "outputs": [
        {
          "data": {
            "text/html": [
              "<div>\n",
              "<style scoped>\n",
              "    .dataframe tbody tr th:only-of-type {\n",
              "        vertical-align: middle;\n",
              "    }\n",
              "\n",
              "    .dataframe tbody tr th {\n",
              "        vertical-align: top;\n",
              "    }\n",
              "\n",
              "    .dataframe thead th {\n",
              "        text-align: right;\n",
              "    }\n",
              "</style>\n",
              "<table border=\"1\" class=\"dataframe\">\n",
              "  <thead>\n",
              "    <tr style=\"text-align: right;\">\n",
              "      <th></th>\n",
              "      <th>Year</th>\n",
              "      <th>Month</th>\n",
              "      <th>Day</th>\n",
              "      <th>Hour</th>\n",
              "      <th>GHI</th>\n",
              "      <th>Cloud_Type</th>\n",
              "      <th>Dew_Point</th>\n",
              "      <th>Solar_Zenith_Angle</th>\n",
              "      <th>Surface_Albedo</th>\n",
              "      <th>Wind_Speed</th>\n",
              "      <th>Precipitable_Water</th>\n",
              "      <th>Wind_Direction</th>\n",
              "      <th>Relative_Humidity</th>\n",
              "      <th>Temperature</th>\n",
              "      <th>Pressure</th>\n",
              "    </tr>\n",
              "  </thead>\n",
              "  <tbody>\n",
              "    <tr>\n",
              "      <th>0</th>\n",
              "      <td>2016.0</td>\n",
              "      <td>1.0</td>\n",
              "      <td>1.0</td>\n",
              "      <td>0.0</td>\n",
              "      <td>0.0</td>\n",
              "      <td>1.0</td>\n",
              "      <td>0.0</td>\n",
              "      <td>165.51</td>\n",
              "      <td>0.12</td>\n",
              "      <td>1.0</td>\n",
              "      <td>0.742</td>\n",
              "      <td>72.0</td>\n",
              "      <td>88.77</td>\n",
              "      <td>3.0</td>\n",
              "      <td>1020.0</td>\n",
              "    </tr>\n",
              "    <tr>\n",
              "      <th>1</th>\n",
              "      <td>2016.0</td>\n",
              "      <td>1.0</td>\n",
              "      <td>1.0</td>\n",
              "      <td>0.5</td>\n",
              "      <td>0.0</td>\n",
              "      <td>0.0</td>\n",
              "      <td>0.0</td>\n",
              "      <td>165.12</td>\n",
              "      <td>0.12</td>\n",
              "      <td>1.0</td>\n",
              "      <td>0.751</td>\n",
              "      <td>72.0</td>\n",
              "      <td>88.77</td>\n",
              "      <td>2.0</td>\n",
              "      <td>1020.0</td>\n",
              "    </tr>\n",
              "  </tbody>\n",
              "</table>\n",
              "</div>"
            ],
            "text/plain": [
              "     Year  Month  Day  Hour  GHI  Cloud_Type  Dew_Point  Solar_Zenith_Angle  \\\n",
              "0  2016.0    1.0  1.0   0.0  0.0         1.0        0.0              165.51   \n",
              "1  2016.0    1.0  1.0   0.5  0.0         0.0        0.0              165.12   \n",
              "\n",
              "   Surface_Albedo  Wind_Speed  Precipitable_Water  Wind_Direction  \\\n",
              "0            0.12         1.0               0.742            72.0   \n",
              "1            0.12         1.0               0.751            72.0   \n",
              "\n",
              "   Relative_Humidity  Temperature  Pressure  \n",
              "0              88.77          3.0    1020.0  \n",
              "1              88.77          2.0    1020.0  "
            ]
          },
          "execution_count": 6,
          "metadata": {},
          "output_type": "execute_result"
        }
      ],
      "source": [
        "df1.head(2)"
      ]
    },
    {
      "cell_type": "code",
      "execution_count": null,
      "id": "d87ddc20",
      "metadata": {
        "id": "d87ddc20"
      },
      "outputs": [],
      "source": [
        "ghi = df1['GHI']#keeping only target(ghi) data here"
      ]
    },
    {
      "cell_type": "code",
      "execution_count": null,
      "id": "6f163a74",
      "metadata": {
        "id": "6f163a74",
        "outputId": "51578539-2dc5-475a-f73b-69430c12f3c6"
      },
      "outputs": [
        {
          "data": {
            "text/plain": [
              "array([   0.,   69.,  149., ..., 1044., 1034., 1040.])"
            ]
          },
          "execution_count": 43,
          "metadata": {},
          "output_type": "execute_result"
        }
      ],
      "source": [
        "ghi.unique()\n",
        "type(ghi)"
      ]
    },
    {
      "cell_type": "code",
      "execution_count": null,
      "id": "14b856f8",
      "metadata": {
        "id": "14b856f8",
        "outputId": "79863489-d670-4141-c0d4-88d7fce39b6e"
      },
      "outputs": [
        {
          "data": {
            "text/plain": [
              "pandas.core.frame.DataFrame"
            ]
          },
          "execution_count": 9,
          "metadata": {},
          "output_type": "execute_result"
        }
      ],
      "source": [
        "df3 = pd.DataFrame(ghi)\n",
        "type(df3)"
      ]
    },
    {
      "cell_type": "code",
      "execution_count": null,
      "id": "14cbeb6f",
      "metadata": {
        "id": "14cbeb6f",
        "outputId": "166a26c3-c0c3-4e1b-85e1-316cbf7ffab6"
      },
      "outputs": [
        {
          "data": {
            "text/html": [
              "<div>\n",
              "<style scoped>\n",
              "    .dataframe tbody tr th:only-of-type {\n",
              "        vertical-align: middle;\n",
              "    }\n",
              "\n",
              "    .dataframe tbody tr th {\n",
              "        vertical-align: top;\n",
              "    }\n",
              "\n",
              "    .dataframe thead th {\n",
              "        text-align: right;\n",
              "    }\n",
              "</style>\n",
              "<table border=\"1\" class=\"dataframe\">\n",
              "  <thead>\n",
              "    <tr style=\"text-align: right;\">\n",
              "      <th></th>\n",
              "      <th>GHI</th>\n",
              "    </tr>\n",
              "  </thead>\n",
              "  <tbody>\n",
              "    <tr>\n",
              "      <th>0</th>\n",
              "      <td>0.0</td>\n",
              "    </tr>\n",
              "    <tr>\n",
              "      <th>1</th>\n",
              "      <td>0.0</td>\n",
              "    </tr>\n",
              "    <tr>\n",
              "      <th>2</th>\n",
              "      <td>0.0</td>\n",
              "    </tr>\n",
              "    <tr>\n",
              "      <th>3</th>\n",
              "      <td>0.0</td>\n",
              "    </tr>\n",
              "    <tr>\n",
              "      <th>4</th>\n",
              "      <td>0.0</td>\n",
              "    </tr>\n",
              "  </tbody>\n",
              "</table>\n",
              "</div>"
            ],
            "text/plain": [
              "   GHI\n",
              "0  0.0\n",
              "1  0.0\n",
              "2  0.0\n",
              "3  0.0\n",
              "4  0.0"
            ]
          },
          "execution_count": 10,
          "metadata": {},
          "output_type": "execute_result"
        }
      ],
      "source": [
        "df3.head()"
      ]
    },
    {
      "cell_type": "code",
      "execution_count": null,
      "id": "6693436f",
      "metadata": {
        "id": "6693436f"
      },
      "outputs": [],
      "source": [
        "#ghi.describe()"
      ]
    },
    {
      "cell_type": "code",
      "execution_count": null,
      "id": "396008f6",
      "metadata": {
        "id": "396008f6"
      },
      "outputs": [],
      "source": [
        "#keeping all feature except ghi in weather variable, # 'Cloud_Type'\n",
        "weather = df1[['Year', 'Month', 'Day', 'Hour', 'Dew_Point', 'Solar_Zenith_Angle', 'Surface_Albedo', 'Wind_Speed', 'Precipitable_Water', 'Wind_Direction', 'Relative_Humidity', 'Temperature', 'Pressure']]"
      ]
    },
    {
      "cell_type": "code",
      "execution_count": null,
      "id": "ba556998",
      "metadata": {
        "id": "ba556998",
        "outputId": "0496e91a-be80-4afc-e830-7f3a43ebce9f"
      },
      "outputs": [
        {
          "data": {
            "text/html": [
              "<div>\n",
              "<style scoped>\n",
              "    .dataframe tbody tr th:only-of-type {\n",
              "        vertical-align: middle;\n",
              "    }\n",
              "\n",
              "    .dataframe tbody tr th {\n",
              "        vertical-align: top;\n",
              "    }\n",
              "\n",
              "    .dataframe thead th {\n",
              "        text-align: right;\n",
              "    }\n",
              "</style>\n",
              "<table border=\"1\" class=\"dataframe\">\n",
              "  <thead>\n",
              "    <tr style=\"text-align: right;\">\n",
              "      <th></th>\n",
              "      <th>Year</th>\n",
              "      <th>Month</th>\n",
              "      <th>Day</th>\n",
              "      <th>Hour</th>\n",
              "      <th>Dew_Point</th>\n",
              "      <th>Solar_Zenith_Angle</th>\n",
              "      <th>Surface_Albedo</th>\n",
              "      <th>Wind_Speed</th>\n",
              "      <th>Precipitable_Water</th>\n",
              "      <th>Wind_Direction</th>\n",
              "      <th>Relative_Humidity</th>\n",
              "      <th>Temperature</th>\n",
              "      <th>Pressure</th>\n",
              "    </tr>\n",
              "  </thead>\n",
              "  <tbody>\n",
              "    <tr>\n",
              "      <th>0</th>\n",
              "      <td>2016.0</td>\n",
              "      <td>1.0</td>\n",
              "      <td>1.0</td>\n",
              "      <td>0.0</td>\n",
              "      <td>0.0</td>\n",
              "      <td>165.51</td>\n",
              "      <td>0.12</td>\n",
              "      <td>1.0</td>\n",
              "      <td>0.742</td>\n",
              "      <td>72.0</td>\n",
              "      <td>88.77</td>\n",
              "      <td>3.0</td>\n",
              "      <td>1020.0</td>\n",
              "    </tr>\n",
              "    <tr>\n",
              "      <th>1</th>\n",
              "      <td>2016.0</td>\n",
              "      <td>1.0</td>\n",
              "      <td>1.0</td>\n",
              "      <td>0.5</td>\n",
              "      <td>0.0</td>\n",
              "      <td>165.12</td>\n",
              "      <td>0.12</td>\n",
              "      <td>1.0</td>\n",
              "      <td>0.751</td>\n",
              "      <td>72.0</td>\n",
              "      <td>88.77</td>\n",
              "      <td>2.0</td>\n",
              "      <td>1020.0</td>\n",
              "    </tr>\n",
              "    <tr>\n",
              "      <th>2</th>\n",
              "      <td>2016.0</td>\n",
              "      <td>1.0</td>\n",
              "      <td>1.0</td>\n",
              "      <td>1.0</td>\n",
              "      <td>0.0</td>\n",
              "      <td>162.22</td>\n",
              "      <td>0.12</td>\n",
              "      <td>1.0</td>\n",
              "      <td>0.760</td>\n",
              "      <td>73.1</td>\n",
              "      <td>88.62</td>\n",
              "      <td>2.0</td>\n",
              "      <td>1020.0</td>\n",
              "    </tr>\n",
              "    <tr>\n",
              "      <th>3</th>\n",
              "      <td>2016.0</td>\n",
              "      <td>1.0</td>\n",
              "      <td>1.0</td>\n",
              "      <td>1.5</td>\n",
              "      <td>0.0</td>\n",
              "      <td>157.79</td>\n",
              "      <td>0.12</td>\n",
              "      <td>1.0</td>\n",
              "      <td>0.766</td>\n",
              "      <td>73.1</td>\n",
              "      <td>95.25</td>\n",
              "      <td>2.0</td>\n",
              "      <td>1020.0</td>\n",
              "    </tr>\n",
              "    <tr>\n",
              "      <th>4</th>\n",
              "      <td>2016.0</td>\n",
              "      <td>1.0</td>\n",
              "      <td>1.0</td>\n",
              "      <td>2.0</td>\n",
              "      <td>0.0</td>\n",
              "      <td>152.57</td>\n",
              "      <td>0.12</td>\n",
              "      <td>1.0</td>\n",
              "      <td>0.773</td>\n",
              "      <td>65.4</td>\n",
              "      <td>94.70</td>\n",
              "      <td>2.0</td>\n",
              "      <td>1020.0</td>\n",
              "    </tr>\n",
              "  </tbody>\n",
              "</table>\n",
              "</div>"
            ],
            "text/plain": [
              "     Year  Month  Day  Hour  Dew_Point  Solar_Zenith_Angle  Surface_Albedo  \\\n",
              "0  2016.0    1.0  1.0   0.0        0.0              165.51            0.12   \n",
              "1  2016.0    1.0  1.0   0.5        0.0              165.12            0.12   \n",
              "2  2016.0    1.0  1.0   1.0        0.0              162.22            0.12   \n",
              "3  2016.0    1.0  1.0   1.5        0.0              157.79            0.12   \n",
              "4  2016.0    1.0  1.0   2.0        0.0              152.57            0.12   \n",
              "\n",
              "   Wind_Speed  Precipitable_Water  Wind_Direction  Relative_Humidity  \\\n",
              "0         1.0               0.742            72.0              88.77   \n",
              "1         1.0               0.751            72.0              88.77   \n",
              "2         1.0               0.760            73.1              88.62   \n",
              "3         1.0               0.766            73.1              95.25   \n",
              "4         1.0               0.773            65.4              94.70   \n",
              "\n",
              "   Temperature  Pressure  \n",
              "0          3.0    1020.0  \n",
              "1          2.0    1020.0  \n",
              "2          2.0    1020.0  \n",
              "3          2.0    1020.0  \n",
              "4          2.0    1020.0  "
            ]
          },
          "execution_count": 13,
          "metadata": {},
          "output_type": "execute_result"
        }
      ],
      "source": [
        "weather.head()"
      ]
    },
    {
      "cell_type": "code",
      "execution_count": null,
      "id": "ebc159ec",
      "metadata": {
        "id": "ebc159ec"
      },
      "outputs": [],
      "source": [
        "#weather['Cloud_Type'] = weather['Cloud_Type'].replace([1.0, 0.0],['Cloudy','Clear'])"
      ]
    },
    {
      "cell_type": "code",
      "execution_count": null,
      "id": "180ac839",
      "metadata": {
        "id": "180ac839"
      },
      "outputs": [],
      "source": [
        "#data normalization on weather data\n",
        "scaler = MinMaxScaler()\n",
        "scaler.fit(weather)\n",
        "weather_norm=scaler.transform(weather)"
      ]
    },
    {
      "cell_type": "code",
      "execution_count": null,
      "id": "a4c1bfda",
      "metadata": {
        "id": "a4c1bfda",
        "outputId": "30098e10-7b81-4d63-9e68-03f1ed28bdab"
      },
      "outputs": [
        {
          "data": {
            "text/plain": [
              "array([[0.        , 0.        , 0.        , ..., 0.88005981, 0.07239819,\n",
              "        0.63829787],\n",
              "       [0.        , 0.        , 0.        , ..., 0.88005981, 0.04977376,\n",
              "        0.63829787],\n",
              "       [0.        , 0.        , 0.        , ..., 0.87845776, 0.04977376,\n",
              "        0.63829787],\n",
              "       ...,\n",
              "       [1.        , 1.        , 1.        , ..., 0.86008758, 0.20588235,\n",
              "        0.72340426],\n",
              "       [1.        , 1.        , 1.        , ..., 0.96486169, 0.19230769,\n",
              "        0.72340426],\n",
              "       [1.        , 1.        , 1.        , ..., 0.95791947, 0.19457014,\n",
              "        0.72340426]])"
            ]
          },
          "execution_count": 16,
          "metadata": {},
          "output_type": "execute_result"
        }
      ],
      "source": [
        "#normalized features in nd arrays\n",
        "weather_norm"
      ]
    },
    {
      "cell_type": "code",
      "execution_count": null,
      "id": "1179842c",
      "metadata": {
        "id": "1179842c",
        "outputId": "8155fd3b-3163-482b-d801-b0f27f6f492c"
      },
      "outputs": [
        {
          "data": {
            "text/plain": [
              "pandas.core.frame.DataFrame"
            ]
          },
          "execution_count": 17,
          "metadata": {},
          "output_type": "execute_result"
        }
      ],
      "source": [
        "#converting nd array into pandas data frame for data prep\n",
        "wq =pd.DataFrame(weather_norm)\n",
        "type(wq)"
      ]
    },
    {
      "cell_type": "code",
      "execution_count": null,
      "id": "d343f0d5",
      "metadata": {
        "id": "d343f0d5",
        "outputId": "9eda4929-fa6f-4e82-e068-918c11a5d99a"
      },
      "outputs": [
        {
          "data": {
            "text/html": [
              "<div>\n",
              "<style scoped>\n",
              "    .dataframe tbody tr th:only-of-type {\n",
              "        vertical-align: middle;\n",
              "    }\n",
              "\n",
              "    .dataframe tbody tr th {\n",
              "        vertical-align: top;\n",
              "    }\n",
              "\n",
              "    .dataframe thead th {\n",
              "        text-align: right;\n",
              "    }\n",
              "</style>\n",
              "<table border=\"1\" class=\"dataframe\">\n",
              "  <thead>\n",
              "    <tr style=\"text-align: right;\">\n",
              "      <th></th>\n",
              "      <th>0</th>\n",
              "      <th>1</th>\n",
              "      <th>2</th>\n",
              "      <th>3</th>\n",
              "      <th>4</th>\n",
              "      <th>5</th>\n",
              "      <th>6</th>\n",
              "      <th>7</th>\n",
              "      <th>8</th>\n",
              "      <th>9</th>\n",
              "      <th>10</th>\n",
              "      <th>11</th>\n",
              "      <th>12</th>\n",
              "    </tr>\n",
              "  </thead>\n",
              "  <tbody>\n",
              "    <tr>\n",
              "      <th>0</th>\n",
              "      <td>0.0</td>\n",
              "      <td>0.0</td>\n",
              "      <td>0.0</td>\n",
              "      <td>0.000000</td>\n",
              "      <td>0.429825</td>\n",
              "      <td>0.996317</td>\n",
              "      <td>0.2</td>\n",
              "      <td>0.126582</td>\n",
              "      <td>0.110320</td>\n",
              "      <td>0.200000</td>\n",
              "      <td>0.880060</td>\n",
              "      <td>0.072398</td>\n",
              "      <td>0.638298</td>\n",
              "    </tr>\n",
              "    <tr>\n",
              "      <th>1</th>\n",
              "      <td>0.0</td>\n",
              "      <td>0.0</td>\n",
              "      <td>0.0</td>\n",
              "      <td>0.021277</td>\n",
              "      <td>0.429825</td>\n",
              "      <td>0.993752</td>\n",
              "      <td>0.2</td>\n",
              "      <td>0.126582</td>\n",
              "      <td>0.112151</td>\n",
              "      <td>0.200000</td>\n",
              "      <td>0.880060</td>\n",
              "      <td>0.049774</td>\n",
              "      <td>0.638298</td>\n",
              "    </tr>\n",
              "    <tr>\n",
              "      <th>2</th>\n",
              "      <td>0.0</td>\n",
              "      <td>0.0</td>\n",
              "      <td>0.0</td>\n",
              "      <td>0.042553</td>\n",
              "      <td>0.429825</td>\n",
              "      <td>0.974679</td>\n",
              "      <td>0.2</td>\n",
              "      <td>0.126582</td>\n",
              "      <td>0.113983</td>\n",
              "      <td>0.203056</td>\n",
              "      <td>0.878458</td>\n",
              "      <td>0.049774</td>\n",
              "      <td>0.638298</td>\n",
              "    </tr>\n",
              "    <tr>\n",
              "      <th>3</th>\n",
              "      <td>0.0</td>\n",
              "      <td>0.0</td>\n",
              "      <td>0.0</td>\n",
              "      <td>0.063830</td>\n",
              "      <td>0.429825</td>\n",
              "      <td>0.945544</td>\n",
              "      <td>0.2</td>\n",
              "      <td>0.126582</td>\n",
              "      <td>0.115205</td>\n",
              "      <td>0.203056</td>\n",
              "      <td>0.949268</td>\n",
              "      <td>0.049774</td>\n",
              "      <td>0.638298</td>\n",
              "    </tr>\n",
              "    <tr>\n",
              "      <th>4</th>\n",
              "      <td>0.0</td>\n",
              "      <td>0.0</td>\n",
              "      <td>0.0</td>\n",
              "      <td>0.085106</td>\n",
              "      <td>0.429825</td>\n",
              "      <td>0.911213</td>\n",
              "      <td>0.2</td>\n",
              "      <td>0.126582</td>\n",
              "      <td>0.116629</td>\n",
              "      <td>0.181667</td>\n",
              "      <td>0.943394</td>\n",
              "      <td>0.049774</td>\n",
              "      <td>0.638298</td>\n",
              "    </tr>\n",
              "  </tbody>\n",
              "</table>\n",
              "</div>"
            ],
            "text/plain": [
              "    0    1    2         3         4         5    6         7         8   \\\n",
              "0  0.0  0.0  0.0  0.000000  0.429825  0.996317  0.2  0.126582  0.110320   \n",
              "1  0.0  0.0  0.0  0.021277  0.429825  0.993752  0.2  0.126582  0.112151   \n",
              "2  0.0  0.0  0.0  0.042553  0.429825  0.974679  0.2  0.126582  0.113983   \n",
              "3  0.0  0.0  0.0  0.063830  0.429825  0.945544  0.2  0.126582  0.115205   \n",
              "4  0.0  0.0  0.0  0.085106  0.429825  0.911213  0.2  0.126582  0.116629   \n",
              "\n",
              "         9         10        11        12  \n",
              "0  0.200000  0.880060  0.072398  0.638298  \n",
              "1  0.200000  0.880060  0.049774  0.638298  \n",
              "2  0.203056  0.878458  0.049774  0.638298  \n",
              "3  0.203056  0.949268  0.049774  0.638298  \n",
              "4  0.181667  0.943394  0.049774  0.638298  "
            ]
          },
          "execution_count": 18,
          "metadata": {},
          "output_type": "execute_result"
        }
      ],
      "source": [
        "wq.head()"
      ]
    },
    {
      "cell_type": "code",
      "execution_count": null,
      "id": "66366975",
      "metadata": {
        "id": "66366975",
        "outputId": "f79fe874-de8e-430d-e929-84ff58661081"
      },
      "outputs": [
        {
          "data": {
            "text/plain": [
              "list"
            ]
          },
          "execution_count": 19,
          "metadata": {},
          "output_type": "execute_result"
        }
      ],
      "source": [
        "#combining normalized features and non-normalized target ghi\n",
        "frames = [wq, df3]\n",
        "combined_data = pd.concat(frames,axis=1)\n",
        "type(frames)"
      ]
    },
    {
      "cell_type": "code",
      "execution_count": null,
      "id": "d25bbd08",
      "metadata": {
        "id": "d25bbd08",
        "outputId": "587ef5d3-f89e-48fc-e538-693daf613985"
      },
      "outputs": [
        {
          "data": {
            "text/html": [
              "<div>\n",
              "<style scoped>\n",
              "    .dataframe tbody tr th:only-of-type {\n",
              "        vertical-align: middle;\n",
              "    }\n",
              "\n",
              "    .dataframe tbody tr th {\n",
              "        vertical-align: top;\n",
              "    }\n",
              "\n",
              "    .dataframe thead th {\n",
              "        text-align: right;\n",
              "    }\n",
              "</style>\n",
              "<table border=\"1\" class=\"dataframe\">\n",
              "  <thead>\n",
              "    <tr style=\"text-align: right;\">\n",
              "      <th></th>\n",
              "      <th>0</th>\n",
              "      <th>1</th>\n",
              "      <th>2</th>\n",
              "      <th>3</th>\n",
              "      <th>4</th>\n",
              "      <th>5</th>\n",
              "      <th>6</th>\n",
              "      <th>7</th>\n",
              "      <th>8</th>\n",
              "      <th>9</th>\n",
              "      <th>10</th>\n",
              "      <th>11</th>\n",
              "      <th>12</th>\n",
              "      <th>GHI</th>\n",
              "    </tr>\n",
              "  </thead>\n",
              "  <tbody>\n",
              "    <tr>\n",
              "      <th>87681</th>\n",
              "      <td>1.0</td>\n",
              "      <td>1.0</td>\n",
              "      <td>1.0</td>\n",
              "      <td>0.702128</td>\n",
              "      <td>0.684211</td>\n",
              "      <td>0.470635</td>\n",
              "      <td>0.4</td>\n",
              "      <td>0.126582</td>\n",
              "      <td>0.264604</td>\n",
              "      <td>0.950000</td>\n",
              "      <td>0.776888</td>\n",
              "      <td>0.280543</td>\n",
              "      <td>0.723404</td>\n",
              "      <td>34.0</td>\n",
              "    </tr>\n",
              "    <tr>\n",
              "      <th>87682</th>\n",
              "      <td>1.0</td>\n",
              "      <td>1.0</td>\n",
              "      <td>1.0</td>\n",
              "      <td>0.723404</td>\n",
              "      <td>0.637427</td>\n",
              "      <td>0.505426</td>\n",
              "      <td>0.4</td>\n",
              "      <td>0.139241</td>\n",
              "      <td>0.244250</td>\n",
              "      <td>0.961111</td>\n",
              "      <td>0.728613</td>\n",
              "      <td>0.264706</td>\n",
              "      <td>0.723404</td>\n",
              "      <td>4.0</td>\n",
              "    </tr>\n",
              "    <tr>\n",
              "      <th>87683</th>\n",
              "      <td>1.0</td>\n",
              "      <td>1.0</td>\n",
              "      <td>1.0</td>\n",
              "      <td>0.744681</td>\n",
              "      <td>0.637427</td>\n",
              "      <td>0.540480</td>\n",
              "      <td>0.4</td>\n",
              "      <td>0.113924</td>\n",
              "      <td>0.223896</td>\n",
              "      <td>0.538889</td>\n",
              "      <td>0.733846</td>\n",
              "      <td>0.262443</td>\n",
              "      <td>0.723404</td>\n",
              "      <td>0.0</td>\n",
              "    </tr>\n",
              "    <tr>\n",
              "      <th>87684</th>\n",
              "      <td>1.0</td>\n",
              "      <td>1.0</td>\n",
              "      <td>1.0</td>\n",
              "      <td>0.765957</td>\n",
              "      <td>0.634503</td>\n",
              "      <td>0.576784</td>\n",
              "      <td>0.4</td>\n",
              "      <td>0.101266</td>\n",
              "      <td>0.223896</td>\n",
              "      <td>0.116667</td>\n",
              "      <td>0.725943</td>\n",
              "      <td>0.262443</td>\n",
              "      <td>0.723404</td>\n",
              "      <td>0.0</td>\n",
              "    </tr>\n",
              "    <tr>\n",
              "      <th>87685</th>\n",
              "      <td>1.0</td>\n",
              "      <td>1.0</td>\n",
              "      <td>1.0</td>\n",
              "      <td>0.787234</td>\n",
              "      <td>0.634503</td>\n",
              "      <td>0.614009</td>\n",
              "      <td>0.4</td>\n",
              "      <td>0.101266</td>\n",
              "      <td>0.203542</td>\n",
              "      <td>0.183333</td>\n",
              "      <td>0.725943</td>\n",
              "      <td>0.262443</td>\n",
              "      <td>0.723404</td>\n",
              "      <td>0.0</td>\n",
              "    </tr>\n",
              "    <tr>\n",
              "      <th>87686</th>\n",
              "      <td>1.0</td>\n",
              "      <td>1.0</td>\n",
              "      <td>1.0</td>\n",
              "      <td>0.808511</td>\n",
              "      <td>0.625731</td>\n",
              "      <td>0.652022</td>\n",
              "      <td>0.4</td>\n",
              "      <td>0.113924</td>\n",
              "      <td>0.183187</td>\n",
              "      <td>0.247222</td>\n",
              "      <td>0.712699</td>\n",
              "      <td>0.260181</td>\n",
              "      <td>0.702128</td>\n",
              "      <td>0.0</td>\n",
              "    </tr>\n",
              "    <tr>\n",
              "      <th>87687</th>\n",
              "      <td>1.0</td>\n",
              "      <td>1.0</td>\n",
              "      <td>1.0</td>\n",
              "      <td>0.829787</td>\n",
              "      <td>0.625731</td>\n",
              "      <td>0.690628</td>\n",
              "      <td>0.4</td>\n",
              "      <td>0.088608</td>\n",
              "      <td>0.162833</td>\n",
              "      <td>0.319444</td>\n",
              "      <td>0.702446</td>\n",
              "      <td>0.264706</td>\n",
              "      <td>0.702128</td>\n",
              "      <td>0.0</td>\n",
              "    </tr>\n",
              "    <tr>\n",
              "      <th>87688</th>\n",
              "      <td>1.0</td>\n",
              "      <td>1.0</td>\n",
              "      <td>1.0</td>\n",
              "      <td>0.851064</td>\n",
              "      <td>0.614035</td>\n",
              "      <td>0.729628</td>\n",
              "      <td>0.4</td>\n",
              "      <td>0.075949</td>\n",
              "      <td>0.162833</td>\n",
              "      <td>0.394444</td>\n",
              "      <td>0.676493</td>\n",
              "      <td>0.269231</td>\n",
              "      <td>0.702128</td>\n",
              "      <td>0.0</td>\n",
              "    </tr>\n",
              "    <tr>\n",
              "      <th>87689</th>\n",
              "      <td>1.0</td>\n",
              "      <td>1.0</td>\n",
              "      <td>1.0</td>\n",
              "      <td>0.872340</td>\n",
              "      <td>0.614035</td>\n",
              "      <td>0.768826</td>\n",
              "      <td>0.4</td>\n",
              "      <td>0.088608</td>\n",
              "      <td>0.162833</td>\n",
              "      <td>0.500000</td>\n",
              "      <td>0.701485</td>\n",
              "      <td>0.257919</td>\n",
              "      <td>0.702128</td>\n",
              "      <td>0.0</td>\n",
              "    </tr>\n",
              "    <tr>\n",
              "      <th>87690</th>\n",
              "      <td>1.0</td>\n",
              "      <td>1.0</td>\n",
              "      <td>1.0</td>\n",
              "      <td>0.893617</td>\n",
              "      <td>0.616959</td>\n",
              "      <td>0.807958</td>\n",
              "      <td>0.4</td>\n",
              "      <td>0.101266</td>\n",
              "      <td>0.162833</td>\n",
              "      <td>0.608333</td>\n",
              "      <td>0.723379</td>\n",
              "      <td>0.248869</td>\n",
              "      <td>0.702128</td>\n",
              "      <td>0.0</td>\n",
              "    </tr>\n",
              "    <tr>\n",
              "      <th>87691</th>\n",
              "      <td>1.0</td>\n",
              "      <td>1.0</td>\n",
              "      <td>1.0</td>\n",
              "      <td>0.914894</td>\n",
              "      <td>0.616959</td>\n",
              "      <td>0.846761</td>\n",
              "      <td>0.4</td>\n",
              "      <td>0.126582</td>\n",
              "      <td>0.162833</td>\n",
              "      <td>0.652778</td>\n",
              "      <td>0.761935</td>\n",
              "      <td>0.233032</td>\n",
              "      <td>0.723404</td>\n",
              "      <td>0.0</td>\n",
              "    </tr>\n",
              "    <tr>\n",
              "      <th>87692</th>\n",
              "      <td>1.0</td>\n",
              "      <td>1.0</td>\n",
              "      <td>1.0</td>\n",
              "      <td>0.936170</td>\n",
              "      <td>0.628655</td>\n",
              "      <td>0.884709</td>\n",
              "      <td>0.4</td>\n",
              "      <td>0.151899</td>\n",
              "      <td>0.162833</td>\n",
              "      <td>0.697222</td>\n",
              "      <td>0.829435</td>\n",
              "      <td>0.217195</td>\n",
              "      <td>0.723404</td>\n",
              "      <td>0.0</td>\n",
              "    </tr>\n",
              "    <tr>\n",
              "      <th>87693</th>\n",
              "      <td>1.0</td>\n",
              "      <td>1.0</td>\n",
              "      <td>1.0</td>\n",
              "      <td>0.957447</td>\n",
              "      <td>0.628655</td>\n",
              "      <td>0.921144</td>\n",
              "      <td>0.4</td>\n",
              "      <td>0.164557</td>\n",
              "      <td>0.162833</td>\n",
              "      <td>0.722222</td>\n",
              "      <td>0.860088</td>\n",
              "      <td>0.205882</td>\n",
              "      <td>0.723404</td>\n",
              "      <td>0.0</td>\n",
              "    </tr>\n",
              "    <tr>\n",
              "      <th>87694</th>\n",
              "      <td>1.0</td>\n",
              "      <td>1.0</td>\n",
              "      <td>1.0</td>\n",
              "      <td>0.978723</td>\n",
              "      <td>0.657895</td>\n",
              "      <td>0.954357</td>\n",
              "      <td>0.4</td>\n",
              "      <td>0.164557</td>\n",
              "      <td>0.183187</td>\n",
              "      <td>0.747222</td>\n",
              "      <td>0.964862</td>\n",
              "      <td>0.192308</td>\n",
              "      <td>0.723404</td>\n",
              "      <td>0.0</td>\n",
              "    </tr>\n",
              "    <tr>\n",
              "      <th>87695</th>\n",
              "      <td>1.0</td>\n",
              "      <td>1.0</td>\n",
              "      <td>1.0</td>\n",
              "      <td>1.000000</td>\n",
              "      <td>0.657895</td>\n",
              "      <td>0.981322</td>\n",
              "      <td>0.4</td>\n",
              "      <td>0.164557</td>\n",
              "      <td>0.183187</td>\n",
              "      <td>0.763889</td>\n",
              "      <td>0.957919</td>\n",
              "      <td>0.194570</td>\n",
              "      <td>0.723404</td>\n",
              "      <td>0.0</td>\n",
              "    </tr>\n",
              "  </tbody>\n",
              "</table>\n",
              "</div>"
            ],
            "text/plain": [
              "         0    1    2         3         4         5    6         7         8  \\\n",
              "87681  1.0  1.0  1.0  0.702128  0.684211  0.470635  0.4  0.126582  0.264604   \n",
              "87682  1.0  1.0  1.0  0.723404  0.637427  0.505426  0.4  0.139241  0.244250   \n",
              "87683  1.0  1.0  1.0  0.744681  0.637427  0.540480  0.4  0.113924  0.223896   \n",
              "87684  1.0  1.0  1.0  0.765957  0.634503  0.576784  0.4  0.101266  0.223896   \n",
              "87685  1.0  1.0  1.0  0.787234  0.634503  0.614009  0.4  0.101266  0.203542   \n",
              "87686  1.0  1.0  1.0  0.808511  0.625731  0.652022  0.4  0.113924  0.183187   \n",
              "87687  1.0  1.0  1.0  0.829787  0.625731  0.690628  0.4  0.088608  0.162833   \n",
              "87688  1.0  1.0  1.0  0.851064  0.614035  0.729628  0.4  0.075949  0.162833   \n",
              "87689  1.0  1.0  1.0  0.872340  0.614035  0.768826  0.4  0.088608  0.162833   \n",
              "87690  1.0  1.0  1.0  0.893617  0.616959  0.807958  0.4  0.101266  0.162833   \n",
              "87691  1.0  1.0  1.0  0.914894  0.616959  0.846761  0.4  0.126582  0.162833   \n",
              "87692  1.0  1.0  1.0  0.936170  0.628655  0.884709  0.4  0.151899  0.162833   \n",
              "87693  1.0  1.0  1.0  0.957447  0.628655  0.921144  0.4  0.164557  0.162833   \n",
              "87694  1.0  1.0  1.0  0.978723  0.657895  0.954357  0.4  0.164557  0.183187   \n",
              "87695  1.0  1.0  1.0  1.000000  0.657895  0.981322  0.4  0.164557  0.183187   \n",
              "\n",
              "              9        10        11        12   GHI  \n",
              "87681  0.950000  0.776888  0.280543  0.723404  34.0  \n",
              "87682  0.961111  0.728613  0.264706  0.723404   4.0  \n",
              "87683  0.538889  0.733846  0.262443  0.723404   0.0  \n",
              "87684  0.116667  0.725943  0.262443  0.723404   0.0  \n",
              "87685  0.183333  0.725943  0.262443  0.723404   0.0  \n",
              "87686  0.247222  0.712699  0.260181  0.702128   0.0  \n",
              "87687  0.319444  0.702446  0.264706  0.702128   0.0  \n",
              "87688  0.394444  0.676493  0.269231  0.702128   0.0  \n",
              "87689  0.500000  0.701485  0.257919  0.702128   0.0  \n",
              "87690  0.608333  0.723379  0.248869  0.702128   0.0  \n",
              "87691  0.652778  0.761935  0.233032  0.723404   0.0  \n",
              "87692  0.697222  0.829435  0.217195  0.723404   0.0  \n",
              "87693  0.722222  0.860088  0.205882  0.723404   0.0  \n",
              "87694  0.747222  0.964862  0.192308  0.723404   0.0  \n",
              "87695  0.763889  0.957919  0.194570  0.723404   0.0  "
            ]
          },
          "execution_count": 45,
          "metadata": {},
          "output_type": "execute_result"
        }
      ],
      "source": [
        "combined_data.tail(15)"
      ]
    },
    {
      "cell_type": "code",
      "execution_count": null,
      "id": "5a8566df",
      "metadata": {
        "id": "5a8566df",
        "outputId": "714a889e-5e64-4eb1-a31d-e2c604972df2"
      },
      "outputs": [
        {
          "data": {
            "text/plain": [
              "array([   0.,   69.,  149., ..., 1044., 1034., 1040.])"
            ]
          },
          "execution_count": 21,
          "metadata": {},
          "output_type": "execute_result"
        }
      ],
      "source": [
        "combined_data.GHI.unique()"
      ]
    },
    {
      "cell_type": "code",
      "execution_count": null,
      "id": "fa330e67",
      "metadata": {
        "id": "fa330e67",
        "outputId": "4b7476a9-d472-48ba-819e-5e52b66c0573"
      },
      "outputs": [
        {
          "data": {
            "text/plain": [
              "0"
            ]
          },
          "execution_count": 22,
          "metadata": {},
          "output_type": "execute_result"
        }
      ],
      "source": [
        "combined_data['GHI'].isnull().values.sum()"
      ]
    },
    {
      "cell_type": "code",
      "execution_count": null,
      "id": "ea8760eb",
      "metadata": {
        "id": "ea8760eb",
        "outputId": "c4deab4a-07d2-464c-a911-d2c35d21b656"
      },
      "outputs": [
        {
          "data": {
            "text/plain": [
              "pandas.core.frame.DataFrame"
            ]
          },
          "execution_count": 23,
          "metadata": {},
          "output_type": "execute_result"
        }
      ],
      "source": [
        "combined_data.GHI.shape\n",
        "type(combined_data)"
      ]
    },
    {
      "cell_type": "code",
      "execution_count": null,
      "id": "3b89f1c7",
      "metadata": {
        "id": "3b89f1c7",
        "outputId": "7a1447ed-c8b6-4e04-c570-ed15906a68c8"
      },
      "outputs": [
        {
          "data": {
            "text/plain": [
              "numpy.ndarray"
            ]
          },
          "execution_count": 24,
          "metadata": {},
          "output_type": "execute_result"
        }
      ],
      "source": [
        "#converting the final combined data into numpy array\n",
        "final_data = combined_data.to_numpy()\n",
        "type(final_data)"
      ]
    },
    {
      "cell_type": "code",
      "execution_count": null,
      "id": "4140645d",
      "metadata": {
        "id": "4140645d",
        "outputId": "3c1fdd71-4b92-450f-d8ec-6883cb49c473"
      },
      "outputs": [
        {
          "data": {
            "text/plain": [
              "array([[0.        , 0.        , 0.        , ..., 0.07239819, 0.63829787,\n",
              "        0.        ],\n",
              "       [0.        , 0.        , 0.        , ..., 0.04977376, 0.63829787,\n",
              "        0.        ],\n",
              "       [0.        , 0.        , 0.        , ..., 0.04977376, 0.63829787,\n",
              "        0.        ],\n",
              "       ...,\n",
              "       [1.        , 1.        , 1.        , ..., 0.20588235, 0.72340426,\n",
              "        0.        ],\n",
              "       [1.        , 1.        , 1.        , ..., 0.19230769, 0.72340426,\n",
              "        0.        ],\n",
              "       [1.        , 1.        , 1.        , ..., 0.19457014, 0.72340426,\n",
              "        0.        ]])"
            ]
          },
          "execution_count": 25,
          "metadata": {},
          "output_type": "execute_result"
        }
      ],
      "source": [
        "final_data "
      ]
    },
    {
      "cell_type": "code",
      "execution_count": null,
      "id": "5a591b2a",
      "metadata": {
        "id": "5a591b2a"
      },
      "outputs": [],
      "source": []
    },
    {
      "cell_type": "markdown",
      "id": "d6f53471",
      "metadata": {
        "id": "d6f53471"
      },
      "source": [
        "### weather_norm is normalized data except target(GHI), ghi is target feature with non normalized\n",
        "### x_train, y_train dataset will use to train the model to get f(X), \n",
        "### Y_test is actual ghi which will be used to compare with predicted ghi value, \n",
        "### x_test will be used to get the prediction, \n",
        "### model error = y_test-predicted\n"
      ]
    },
    {
      "cell_type": "markdown",
      "id": "9e79ce4a",
      "metadata": {
        "id": "9e79ce4a"
      },
      "source": [
        "# Modeling"
      ]
    },
    {
      "cell_type": "code",
      "execution_count": null,
      "id": "ac01c740",
      "metadata": {
        "id": "ac01c740",
        "outputId": "69e27197-8f5a-431e-bf4b-9b739b3b6e88"
      },
      "outputs": [
        {
          "name": "stdout",
          "output_type": "stream",
          "text": [
            "x_train shape (52617, 13)\n",
            "x_test shape (35079, 13)\n",
            "y_train shape (52617,)\n",
            "y_text shape (35079,)\n"
          ]
        }
      ],
      "source": [
        "#split data\n",
        "#x_train, y_train dataset to train the model, x_test will give prediction, y_test is actual and we compare y_test-x_test to get error\n",
        "X_train, X_test, Y_train, Y_test = sklearn.model_selection.train_test_split(weather_norm, ghi, test_size = 0.4, random_state = 5)\n",
        "print(\"x_train shape\",X_train.shape)\n",
        "print(\"x_test shape\",X_test.shape)\n",
        "print(\"y_train shape\",Y_train.shape)\n",
        "print(\"y_text shape\",Y_test.shape)"
      ]
    },
    {
      "cell_type": "code",
      "execution_count": null,
      "id": "004e88d2",
      "metadata": {
        "id": "004e88d2",
        "outputId": "2b0d8765-37eb-4c98-cc42-9ec8affc9cf8"
      },
      "outputs": [
        {
          "name": "stdout",
          "output_type": "stream",
          "text": [
            "1640       0.0\n",
            "77136      0.0\n",
            "45768    914.0\n",
            "31261     18.0\n",
            "46407      0.0\n",
            "         ...  \n",
            "11697    381.0\n",
            "77635    810.0\n",
            "20266      0.0\n",
            "20365      0.0\n",
            "36253      0.0\n",
            "Name: GHI, Length: 35079, dtype: float64\n"
          ]
        }
      ],
      "source": [
        "print(Y_test)"
      ]
    },
    {
      "cell_type": "code",
      "execution_count": null,
      "id": "0864b2fb",
      "metadata": {
        "id": "0864b2fb",
        "outputId": "3c4ea52d-976c-4854-9bb3-ab6e71108246"
      },
      "outputs": [
        {
          "data": {
            "image/png": "[encoded data removed]",
            "text/plain": [
              "<Figure size 432x288 with 1 Axes>"
            ]
          },
          "metadata": {},
          "output_type": "display_data"
        }
      ],
      "source": [
        "# code source:https://medium.com/@haydar_ai/learning-data-science-day-9-linear-regression-on-boston-housing-dataset-cd62a80775ef\n",
        "\n",
        "lm = LinearRegression()\n",
        "lm.fit(X_train, Y_train)\n",
        "\n",
        "Y_pred = lm.predict(X_test)\n",
        "\n",
        "plt.scatter(Y_test, Y_pred)\n",
        "plt.xlabel(\"Actual GHI: $Y_i$\")\n",
        "plt.ylabel(\"Predicted GHI: $\\hat{Y}_i$\")\n",
        "plt.title(\"Actual GHI vs Predicted GHI: $Y_i$ vs $\\hat{Y}_i$\")\n",
        "plt.show()"
      ]
    },
    {
      "cell_type": "markdown",
      "id": "e0eafda7",
      "metadata": {
        "id": "e0eafda7"
      },
      "source": [
        "## Actual ghi 200 predicting it from 100 to 500, actual is 1000 predicting it as 400 to 1000"
      ]
    },
    {
      "cell_type": "code",
      "execution_count": null,
      "id": "15ed6594",
      "metadata": {
        "id": "15ed6594",
        "outputId": "db4315f1-b558-44c5-d10f-58560f16778f"
      },
      "outputs": [
        {
          "name": "stderr",
          "output_type": "stream",
          "text": [
            "/opt/homebrew/Caskroom/miniforge/base/lib/python3.9/site-packages/seaborn/distributions.py:1699: FutureWarning: The `bw` parameter is deprecated in favor of `bw_method` and `bw_adjust`. Using 0.5 for `bw_method`, but please see the docs for the new parameters and update your code.\n",
            "  warnings.warn(msg, FutureWarning)\n"
          ]
        },
        {
          "data": {
            "image/png": "[encoded data removed]",
            "text/plain": [
              "<Figure size 432x288 with 1 Axes>"
            ]
          },
          "metadata": {},
          "output_type": "display_data"
        }
      ],
      "source": [
        "#delta_y is Actual GHI - Predicted GHI\n",
        "delta_y = Y_test - Y_pred\n",
        "sns.set_style('whitegrid')\n",
        "sns.kdeplot(np.array(delta_y), bw=0.5)\n",
        "plt.show()"
      ]
    },
    {
      "cell_type": "markdown",
      "id": "82eb9891",
      "metadata": {
        "id": "82eb9891"
      },
      "source": [
        "## Error distribution\n",
        "### delta_y is error, plotting the error distribution to see where maximum error points lie, the mean of error points lies around -10, maximum error is -10"
      ]
    },
    {
      "cell_type": "code",
      "execution_count": null,
      "id": "d040475f",
      "metadata": {
        "id": "d040475f",
        "outputId": "3f27521b-a012-4301-af42-e8f37b95111c"
      },
      "outputs": [
        {
          "data": {
            "text/plain": [
              "1640     -15.098181\n",
              "77136    -57.122118\n",
              "45768    132.085241\n",
              "31261   -162.553167\n",
              "46407   -151.439381\n",
              "            ...    \n",
              "11697    -22.352034\n",
              "77635    282.003288\n",
              "20266     58.066991\n",
              "20365    -92.912482\n",
              "36253   -100.990363\n",
              "Name: GHI, Length: 35079, dtype: float64"
            ]
          },
          "execution_count": 37,
          "metadata": {},
          "output_type": "execute_result"
        }
      ],
      "source": [
        "#Here for each data point we are getting actual vs predicted\n",
        "delta_y"
      ]
    },
    {
      "cell_type": "code",
      "execution_count": null,
      "id": "70739d6c",
      "metadata": {
        "id": "70739d6c"
      },
      "outputs": [],
      "source": []
    },
    {
      "cell_type": "code",
      "execution_count": null,
      "id": "ea93e6a8",
      "metadata": {
        "id": "ea93e6a8",
        "outputId": "da0ce407-8939-4713-d7fa-88a9e9dc217a"
      },
      "outputs": [
        {
          "name": "stderr",
          "output_type": "stream",
          "text": [
            "/opt/homebrew/Caskroom/miniforge/base/lib/python3.9/site-packages/seaborn/distributions.py:1699: FutureWarning: The `bw` parameter is deprecated in favor of `bw_method` and `bw_adjust`. Using 0.5 for `bw_method`, but please see the docs for the new parameters and update your code.\n",
            "  warnings.warn(msg, FutureWarning)\n"
          ]
        },
        {
          "data": {
            "image/png": "[encoded data removed]",
            "text/plain": [
              "<Figure size 432x288 with 1 Axes>"
            ]
          },
          "metadata": {},
          "output_type": "display_data"
        }
      ],
      "source": [
        "sns.set_style('whitegrid')\n",
        "sns.kdeplot(np.array(Y_pred), bw=0.5)\n",
        "plt.show()"
      ]
    },
    {
      "cell_type": "markdown",
      "id": "697e2b1d",
      "metadata": {
        "id": "697e2b1d"
      },
      "source": [
        "## Actual distribution\n",
        "###  We need to align error distribution and actual distribution for best model by doing feature engineering. "
      ]
    },
    {
      "cell_type": "code",
      "execution_count": null,
      "id": "02dc11c8",
      "metadata": {
        "id": "02dc11c8",
        "outputId": "26473daa-94e1-42d5-cc8e-a8bd74b703d9"
      },
      "outputs": [
        {
          "name": "stdout",
          "output_type": "stream",
          "text": [
            "Model MAE 110.0717215792884\n",
            "Model MSE 18537.769956457334\n",
            "Model RMSE 136.15347941370186\n"
          ]
        }
      ],
      "source": [
        "from sklearn import metrics\n",
        "#MAE\n",
        "print(\"Model MAE\", metrics.mean_absolute_error(Y_test, Y_pred))\n",
        "\n",
        "#MSE\n",
        "print(\"Model MSE\", metrics.mean_squared_error(Y_test, Y_pred))\n",
        "\n",
        "#RMSE\n",
        "print(\"Model RMSE\",np.sqrt(metrics.mean_squared_error(Y_test, Y_pred)))"
      ]
    },
    {
      "cell_type": "code",
      "execution_count": null,
      "id": "4f0179cd",
      "metadata": {
        "id": "4f0179cd",
        "outputId": "4c819828-34bb-4290-ff89-66812135bad6"
      },
      "outputs": [
        {
          "name": "stdout",
          "output_type": "stream",
          "text": [
            "Coefficient of Determination R2 0.7994574229451131\n"
          ]
        }
      ],
      "source": [
        "from sklearn.metrics import r2_score \n",
        " \n",
        "R_square = r2_score(Y_test, Y_pred) \n",
        "print('Coefficient of Determination R2', R_square) "
      ]
    },
    {
      "cell_type": "code",
      "execution_count": null,
      "id": "d4885079",
      "metadata": {
        "id": "d4885079"
      },
      "outputs": [],
      "source": []
    }
  ],
  "metadata": {
    "kernelspec": {
      "display_name": "Python 3 (ipykernel)",
      "language": "python",
      "name": "python3"
    },
    "language_info": {
      "codemirror_mode": {
        "name": "ipython",
        "version": 3
      },
      "file_extension": ".py",
      "mimetype": "text/x-python",
      "name": "python",
      "nbconvert_exporter": "python",
      "pygments_lexer": "ipython3",
      "version": "3.9.7"
    },
    "colab": {
      "provenance": []
    }
  },
  "nbformat": 4,
  "nbformat_minor": 5
}