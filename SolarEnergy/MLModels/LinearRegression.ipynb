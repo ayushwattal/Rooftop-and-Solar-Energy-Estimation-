{
  "cells": [
    {
      "cell_type": "markdown",
      "metadata": {
        "id": "view-in-github",
        "colab_type": "text"
      },
      "source": [
        "<a href=\"https://colab.research.google.com/github/snvssk/data298A/blob/saidev/SolarModel_LinearRegression_Fulldataset.ipynb\" target=\"_parent\"><img src=\"https://colab.research.google.com/assets/colab-badge.svg\" alt=\"Open In Colab\"/></a>"
      ]
    },
    {
      "cell_type": "code",
      "execution_count": 1,
      "id": "05244d03",
      "metadata": {
        "id": "05244d03"
      },
      "outputs": [],
      "source": [
        "import pandas as pd\n",
        "from sklearn.preprocessing import MinMaxScaler\n",
        "import sklearn\n",
        "from sklearn.model_selection import train_test_split\n",
        "from sklearn.linear_model import LinearRegression\n",
        "import matplotlib.pyplot as plt\n",
        "import seaborn as sns\n",
        "import numpy as np"
      ]
    },
    {
      "cell_type": "code",
      "execution_count": 5,
      "id": "253839d3",
      "metadata": {
        "id": "253839d3"
      },
      "outputs": [],
      "source": [
        "#nsrdb = read_and_preprocess()#nsrdb has nd array all weather data\n",
        "df = pd.read_csv('/content/all_cities_transformed_combined.csv')"
      ]
    },
    {
      "cell_type": "code",
      "execution_count": 6,
      "id": "52dee44d",
      "metadata": {
        "colab": {
          "base_uri": "https://localhost:8080/"
        },
        "id": "52dee44d",
        "outputId": "8d9b60a8-7df4-4fe8-94fc-b2208309e3ae"
      },
      "outputs": [
        {
          "output_type": "execute_result",
          "data": {
            "text/plain": [
              "<bound method NDFrame.head of         Unnamed: 0    Year  Month   Day  Hour  Minute  Temperature  \\\n",
              "0                0  2018.0    1.0   1.0   0.0     0.0         11.2   \n",
              "1                1  2018.0    1.0   1.0   0.0    30.0         11.2   \n",
              "2                2  2018.0    1.0   1.0   1.0     0.0         11.1   \n",
              "3                3  2018.0    1.0   1.0   1.0    30.0         11.0   \n",
              "4                4  2018.0    1.0   1.0   2.0     0.0         10.9   \n",
              "...            ...     ...    ...   ...   ...     ...          ...   \n",
              "946181      946181  2013.0   12.0  31.0  21.0    30.0          6.0   \n",
              "946182      946182  2013.0   12.0  31.0  22.0     0.0          6.0   \n",
              "946183      946183  2013.0   12.0  31.0  22.0    30.0          5.0   \n",
              "946184      946184  2013.0   12.0  31.0  23.0     0.0          4.0   \n",
              "946185      946185  2013.0   12.0  31.0  23.0    30.0          4.0   \n",
              "\n",
              "        Cloud_Type  Dew_Point  GHI  Relative_Humidity  Solar_Zenith_Angle  \\\n",
              "0              4.0       10.2  0.0              93.63              165.41   \n",
              "1              4.0       10.2  0.0              93.63              165.11   \n",
              "2              4.0       10.1  0.0              93.38              162.29   \n",
              "3              0.0       10.1  0.0              94.00              157.91   \n",
              "4              0.0        9.9  0.0              93.32              152.72   \n",
              "...            ...        ...  ...                ...                 ...   \n",
              "946181         1.0        0.0  0.0              74.05              142.58   \n",
              "946182         1.0        0.0  0.0              74.40              148.35   \n",
              "946183         0.0        0.0  0.0              79.80              153.89   \n",
              "946184         0.0        0.0  0.0              80.32              158.95   \n",
              "946185         0.0        0.0  0.0              86.20              163.08   \n",
              "\n",
              "        Surface_Albedo  Pressure  Precipitable_Water  Wind_Direction  \\\n",
              "0                0.100    1024.0               1.700           294.0   \n",
              "1                0.100    1024.0               1.700           307.0   \n",
              "2                0.100    1024.0               1.700           321.0   \n",
              "3                0.100    1024.0               1.800           332.0   \n",
              "4                0.100    1024.0               1.800           344.0   \n",
              "...                ...       ...                 ...             ...   \n",
              "946181           0.113    1020.0               0.950           174.5   \n",
              "946182           0.113    1020.0               0.977           152.1   \n",
              "946183           0.113    1020.0               0.972           152.1   \n",
              "946184           0.113    1020.0               0.968           166.7   \n",
              "946185           0.113    1020.0               0.980           166.7   \n",
              "\n",
              "        Wind_Speed  Location  \n",
              "0              0.7  117987.0  \n",
              "1              0.7  117987.0  \n",
              "2              0.7  117987.0  \n",
              "3              0.7  117987.0  \n",
              "4              0.7  117987.0  \n",
              "...            ...       ...  \n",
              "946181         0.6  117546.0  \n",
              "946182         0.9  117546.0  \n",
              "946183         1.1  117546.0  \n",
              "946184         1.3  117546.0  \n",
              "946185         1.3  117546.0  \n",
              "\n",
              "[946186 rows x 18 columns]>"
            ]
          },
          "metadata": {},
          "execution_count": 6
        }
      ],
      "source": [
        "df.head"
      ]
    },
    {
      "cell_type": "code",
      "source": [
        "df1 = df.drop(columns='Unnamed: 0')"
      ],
      "metadata": {
        "id": "VHCS1xGKIizE"
      },
      "id": "VHCS1xGKIizE",
      "execution_count": 7,
      "outputs": []
    },
    {
      "cell_type": "code",
      "source": [
        "df1"
      ],
      "metadata": {
        "colab": {
          "base_uri": "https://localhost:8080/",
          "height": 424
        },
        "id": "FgJ18j3dIi1r",
        "outputId": "73cd51ed-c722-4a05-e501-f2073d397f67"
      },
      "id": "FgJ18j3dIi1r",
      "execution_count": 8,
      "outputs": [
        {
          "output_type": "execute_result",
          "data": {
            "text/plain": [
              "          Year  Month   Day  Hour  Minute  Temperature  Cloud_Type  Dew_Point  \\\n",
              "0       2018.0    1.0   1.0   0.0     0.0         11.2         4.0       10.2   \n",
              "1       2018.0    1.0   1.0   0.0    30.0         11.2         4.0       10.2   \n",
              "2       2018.0    1.0   1.0   1.0     0.0         11.1         4.0       10.1   \n",
              "3       2018.0    1.0   1.0   1.0    30.0         11.0         0.0       10.1   \n",
              "4       2018.0    1.0   1.0   2.0     0.0         10.9         0.0        9.9   \n",
              "...        ...    ...   ...   ...     ...          ...         ...        ...   \n",
              "946181  2013.0   12.0  31.0  21.0    30.0          6.0         1.0        0.0   \n",
              "946182  2013.0   12.0  31.0  22.0     0.0          6.0         1.0        0.0   \n",
              "946183  2013.0   12.0  31.0  22.0    30.0          5.0         0.0        0.0   \n",
              "946184  2013.0   12.0  31.0  23.0     0.0          4.0         0.0        0.0   \n",
              "946185  2013.0   12.0  31.0  23.0    30.0          4.0         0.0        0.0   \n",
              "\n",
              "        GHI  Relative_Humidity  Solar_Zenith_Angle  Surface_Albedo  Pressure  \\\n",
              "0       0.0              93.63              165.41           0.100    1024.0   \n",
              "1       0.0              93.63              165.11           0.100    1024.0   \n",
              "2       0.0              93.38              162.29           0.100    1024.0   \n",
              "3       0.0              94.00              157.91           0.100    1024.0   \n",
              "4       0.0              93.32              152.72           0.100    1024.0   \n",
              "...     ...                ...                 ...             ...       ...   \n",
              "946181  0.0              74.05              142.58           0.113    1020.0   \n",
              "946182  0.0              74.40              148.35           0.113    1020.0   \n",
              "946183  0.0              79.80              153.89           0.113    1020.0   \n",
              "946184  0.0              80.32              158.95           0.113    1020.0   \n",
              "946185  0.0              86.20              163.08           0.113    1020.0   \n",
              "\n",
              "        Precipitable_Water  Wind_Direction  Wind_Speed  Location  \n",
              "0                    1.700           294.0         0.7  117987.0  \n",
              "1                    1.700           307.0         0.7  117987.0  \n",
              "2                    1.700           321.0         0.7  117987.0  \n",
              "3                    1.800           332.0         0.7  117987.0  \n",
              "4                    1.800           344.0         0.7  117987.0  \n",
              "...                    ...             ...         ...       ...  \n",
              "946181               0.950           174.5         0.6  117546.0  \n",
              "946182               0.977           152.1         0.9  117546.0  \n",
              "946183               0.972           152.1         1.1  117546.0  \n",
              "946184               0.968           166.7         1.3  117546.0  \n",
              "946185               0.980           166.7         1.3  117546.0  \n",
              "\n",
              "[946186 rows x 17 columns]"
            ],
            "text/html": [
              "\n",
              "  <div id=\"df-519feb49-846a-4c43-8931-b54a5b71909c\">\n",
              "    <div class=\"colab-df-container\">\n",
              "      <div>\n",
              "<style scoped>\n",
              "    .dataframe tbody tr th:only-of-type {\n",
              "        vertical-align: middle;\n",
              "    }\n",
              "\n",
              "    .dataframe tbody tr th {\n",
              "        vertical-align: top;\n",
              "    }\n",
              "\n",
              "    .dataframe thead th {\n",
              "        text-align: right;\n",
              "    }\n",
              "</style>\n",
              "<table border=\"1\" class=\"dataframe\">\n",
              "  <thead>\n",
              "    <tr style=\"text-align: right;\">\n",
              "      <th></th>\n",
              "      <th>Year</th>\n",
              "      <th>Month</th>\n",
              "      <th>Day</th>\n",
              "      <th>Hour</th>\n",
              "      <th>Minute</th>\n",
              "      <th>Temperature</th>\n",
              "      <th>Cloud_Type</th>\n",
              "      <th>Dew_Point</th>\n",
              "      <th>GHI</th>\n",
              "      <th>Relative_Humidity</th>\n",
              "      <th>Solar_Zenith_Angle</th>\n",
              "      <th>Surface_Albedo</th>\n",
              "      <th>Pressure</th>\n",
              "      <th>Precipitable_Water</th>\n",
              "      <th>Wind_Direction</th>\n",
              "      <th>Wind_Speed</th>\n",
              "      <th>Location</th>\n",
              "    </tr>\n",
              "  </thead>\n",
              "  <tbody>\n",
              "    <tr>\n",
              "      <th>0</th>\n",
              "      <td>2018.0</td>\n",
              "      <td>1.0</td>\n",
              "      <td>1.0</td>\n",
              "      <td>0.0</td>\n",
              "      <td>0.0</td>\n",
              "      <td>11.2</td>\n",
              "      <td>4.0</td>\n",
              "      <td>10.2</td>\n",
              "      <td>0.0</td>\n",
              "      <td>93.63</td>\n",
              "      <td>165.41</td>\n",
              "      <td>0.100</td>\n",
              "      <td>1024.0</td>\n",
              "      <td>1.700</td>\n",
              "      <td>294.0</td>\n",
              "      <td>0.7</td>\n",
              "      <td>117987.0</td>\n",
              "    </tr>\n",
              "    <tr>\n",
              "      <th>1</th>\n",
              "      <td>2018.0</td>\n",
              "      <td>1.0</td>\n",
              "      <td>1.0</td>\n",
              "      <td>0.0</td>\n",
              "      <td>30.0</td>\n",
              "      <td>11.2</td>\n",
              "      <td>4.0</td>\n",
              "      <td>10.2</td>\n",
              "      <td>0.0</td>\n",
              "      <td>93.63</td>\n",
              "      <td>165.11</td>\n",
              "      <td>0.100</td>\n",
              "      <td>1024.0</td>\n",
              "      <td>1.700</td>\n",
              "      <td>307.0</td>\n",
              "      <td>0.7</td>\n",
              "      <td>117987.0</td>\n",
              "    </tr>\n",
              "    <tr>\n",
              "      <th>2</th>\n",
              "      <td>2018.0</td>\n",
              "      <td>1.0</td>\n",
              "      <td>1.0</td>\n",
              "      <td>1.0</td>\n",
              "      <td>0.0</td>\n",
              "      <td>11.1</td>\n",
              "      <td>4.0</td>\n",
              "      <td>10.1</td>\n",
              "      <td>0.0</td>\n",
              "      <td>93.38</td>\n",
              "      <td>162.29</td>\n",
              "      <td>0.100</td>\n",
              "      <td>1024.0</td>\n",
              "      <td>1.700</td>\n",
              "      <td>321.0</td>\n",
              "      <td>0.7</td>\n",
              "      <td>117987.0</td>\n",
              "    </tr>\n",
              "    <tr>\n",
              "      <th>3</th>\n",
              "      <td>2018.0</td>\n",
              "      <td>1.0</td>\n",
              "      <td>1.0</td>\n",
              "      <td>1.0</td>\n",
              "      <td>30.0</td>\n",
              "      <td>11.0</td>\n",
              "      <td>0.0</td>\n",
              "      <td>10.1</td>\n",
              "      <td>0.0</td>\n",
              "      <td>94.00</td>\n",
              "      <td>157.91</td>\n",
              "      <td>0.100</td>\n",
              "      <td>1024.0</td>\n",
              "      <td>1.800</td>\n",
              "      <td>332.0</td>\n",
              "      <td>0.7</td>\n",
              "      <td>117987.0</td>\n",
              "    </tr>\n",
              "    <tr>\n",
              "      <th>4</th>\n",
              "      <td>2018.0</td>\n",
              "      <td>1.0</td>\n",
              "      <td>1.0</td>\n",
              "      <td>2.0</td>\n",
              "      <td>0.0</td>\n",
              "      <td>10.9</td>\n",
              "      <td>0.0</td>\n",
              "      <td>9.9</td>\n",
              "      <td>0.0</td>\n",
              "      <td>93.32</td>\n",
              "      <td>152.72</td>\n",
              "      <td>0.100</td>\n",
              "      <td>1024.0</td>\n",
              "      <td>1.800</td>\n",
              "      <td>344.0</td>\n",
              "      <td>0.7</td>\n",
              "      <td>117987.0</td>\n",
              "    </tr>\n",
              "    <tr>\n",
              "      <th>...</th>\n",
              "      <td>...</td>\n",
              "      <td>...</td>\n",
              "      <td>...</td>\n",
              "      <td>...</td>\n",
              "      <td>...</td>\n",
              "      <td>...</td>\n",
              "      <td>...</td>\n",
              "      <td>...</td>\n",
              "      <td>...</td>\n",
              "      <td>...</td>\n",
              "      <td>...</td>\n",
              "      <td>...</td>\n",
              "      <td>...</td>\n",
              "      <td>...</td>\n",
              "      <td>...</td>\n",
              "      <td>...</td>\n",
              "      <td>...</td>\n",
              "    </tr>\n",
              "    <tr>\n",
              "      <th>946181</th>\n",
              "      <td>2013.0</td>\n",
              "      <td>12.0</td>\n",
              "      <td>31.0</td>\n",
              "      <td>21.0</td>\n",
              "      <td>30.0</td>\n",
              "      <td>6.0</td>\n",
              "      <td>1.0</td>\n",
              "      <td>0.0</td>\n",
              "      <td>0.0</td>\n",
              "      <td>74.05</td>\n",
              "      <td>142.58</td>\n",
              "      <td>0.113</td>\n",
              "      <td>1020.0</td>\n",
              "      <td>0.950</td>\n",
              "      <td>174.5</td>\n",
              "      <td>0.6</td>\n",
              "      <td>117546.0</td>\n",
              "    </tr>\n",
              "    <tr>\n",
              "      <th>946182</th>\n",
              "      <td>2013.0</td>\n",
              "      <td>12.0</td>\n",
              "      <td>31.0</td>\n",
              "      <td>22.0</td>\n",
              "      <td>0.0</td>\n",
              "      <td>6.0</td>\n",
              "      <td>1.0</td>\n",
              "      <td>0.0</td>\n",
              "      <td>0.0</td>\n",
              "      <td>74.40</td>\n",
              "      <td>148.35</td>\n",
              "      <td>0.113</td>\n",
              "      <td>1020.0</td>\n",
              "      <td>0.977</td>\n",
              "      <td>152.1</td>\n",
              "      <td>0.9</td>\n",
              "      <td>117546.0</td>\n",
              "    </tr>\n",
              "    <tr>\n",
              "      <th>946183</th>\n",
              "      <td>2013.0</td>\n",
              "      <td>12.0</td>\n",
              "      <td>31.0</td>\n",
              "      <td>22.0</td>\n",
              "      <td>30.0</td>\n",
              "      <td>5.0</td>\n",
              "      <td>0.0</td>\n",
              "      <td>0.0</td>\n",
              "      <td>0.0</td>\n",
              "      <td>79.80</td>\n",
              "      <td>153.89</td>\n",
              "      <td>0.113</td>\n",
              "      <td>1020.0</td>\n",
              "      <td>0.972</td>\n",
              "      <td>152.1</td>\n",
              "      <td>1.1</td>\n",
              "      <td>117546.0</td>\n",
              "    </tr>\n",
              "    <tr>\n",
              "      <th>946184</th>\n",
              "      <td>2013.0</td>\n",
              "      <td>12.0</td>\n",
              "      <td>31.0</td>\n",
              "      <td>23.0</td>\n",
              "      <td>0.0</td>\n",
              "      <td>4.0</td>\n",
              "      <td>0.0</td>\n",
              "      <td>0.0</td>\n",
              "      <td>0.0</td>\n",
              "      <td>80.32</td>\n",
              "      <td>158.95</td>\n",
              "      <td>0.113</td>\n",
              "      <td>1020.0</td>\n",
              "      <td>0.968</td>\n",
              "      <td>166.7</td>\n",
              "      <td>1.3</td>\n",
              "      <td>117546.0</td>\n",
              "    </tr>\n",
              "    <tr>\n",
              "      <th>946185</th>\n",
              "      <td>2013.0</td>\n",
              "      <td>12.0</td>\n",
              "      <td>31.0</td>\n",
              "      <td>23.0</td>\n",
              "      <td>30.0</td>\n",
              "      <td>4.0</td>\n",
              "      <td>0.0</td>\n",
              "      <td>0.0</td>\n",
              "      <td>0.0</td>\n",
              "      <td>86.20</td>\n",
              "      <td>163.08</td>\n",
              "      <td>0.113</td>\n",
              "      <td>1020.0</td>\n",
              "      <td>0.980</td>\n",
              "      <td>166.7</td>\n",
              "      <td>1.3</td>\n",
              "      <td>117546.0</td>\n",
              "    </tr>\n",
              "  </tbody>\n",
              "</table>\n",
              "<p>946186 rows × 17 columns</p>\n",
              "</div>\n",
              "      <button class=\"colab-df-convert\" onclick=\"convertToInteractive('df-519feb49-846a-4c43-8931-b54a5b71909c')\"\n",
              "              title=\"Convert this dataframe to an interactive table.\"\n",
              "              style=\"display:none;\">\n",
              "        \n",
              "  <svg xmlns=\"http://www.w3.org/2000/svg\" height=\"24px\"viewBox=\"0 0 24 24\"\n",
              "       width=\"24px\">\n",
              "    <path d=\"M0 0h24v24H0V0z\" fill=\"none\"/>\n",
              "    <path d=\"M18.56 5.44l.94 2.06.94-2.06 2.06-.94-2.06-.94-.94-2.06-.94 2.06-2.06.94zm-11 1L8.5 8.5l.94-2.06 2.06-.94-2.06-.94L8.5 2.5l-.94 2.06-2.06.94zm10 10l.94 2.06.94-2.06 2.06-.94-2.06-.94-.94-2.06-.94 2.06-2.06.94z\"/><path d=\"M17.41 7.96l-1.37-1.37c-.4-.4-.92-.59-1.43-.59-.52 0-1.04.2-1.43.59L10.3 9.45l-7.72 7.72c-.78.78-.78 2.05 0 2.83L4 21.41c.39.39.9.59 1.41.59.51 0 1.02-.2 1.41-.59l7.78-7.78 2.81-2.81c.8-.78.8-2.07 0-2.86zM5.41 20L4 18.59l7.72-7.72 1.47 1.35L5.41 20z\"/>\n",
              "  </svg>\n",
              "      </button>\n",
              "      \n",
              "  <style>\n",
              "    .colab-df-container {\n",
              "      display:flex;\n",
              "      flex-wrap:wrap;\n",
              "      gap: 12px;\n",
              "    }\n",
              "\n",
              "    .colab-df-convert {\n",
              "      background-color: #E8F0FE;\n",
              "      border: none;\n",
              "      border-radius: 50%;\n",
              "      cursor: pointer;\n",
              "      display: none;\n",
              "      fill: #1967D2;\n",
              "      height: 32px;\n",
              "      padding: 0 0 0 0;\n",
              "      width: 32px;\n",
              "    }\n",
              "\n",
              "    .colab-df-convert:hover {\n",
              "      background-color: #E2EBFA;\n",
              "      box-shadow: 0px 1px 2px rgba(60, 64, 67, 0.3), 0px 1px 3px 1px rgba(60, 64, 67, 0.15);\n",
              "      fill: #174EA6;\n",
              "    }\n",
              "\n",
              "    [theme=dark] .colab-df-convert {\n",
              "      background-color: #3B4455;\n",
              "      fill: #D2E3FC;\n",
              "    }\n",
              "\n",
              "    [theme=dark] .colab-df-convert:hover {\n",
              "      background-color: #434B5C;\n",
              "      box-shadow: 0px 1px 3px 1px rgba(0, 0, 0, 0.15);\n",
              "      filter: drop-shadow(0px 1px 2px rgba(0, 0, 0, 0.3));\n",
              "      fill: #FFFFFF;\n",
              "    }\n",
              "  </style>\n",
              "\n",
              "      <script>\n",
              "        const buttonEl =\n",
              "          document.querySelector('#df-519feb49-846a-4c43-8931-b54a5b71909c button.colab-df-convert');\n",
              "        buttonEl.style.display =\n",
              "          google.colab.kernel.accessAllowed ? 'block' : 'none';\n",
              "\n",
              "        async function convertToInteractive(key) {\n",
              "          const element = document.querySelector('#df-519feb49-846a-4c43-8931-b54a5b71909c');\n",
              "          const dataTable =\n",
              "            await google.colab.kernel.invokeFunction('convertToInteractive',\n",
              "                                                     [key], {});\n",
              "          if (!dataTable) return;\n",
              "\n",
              "          const docLinkHtml = 'Like what you see? Visit the ' +\n",
              "            '<a target=\"_blank\" href=https://colab.research.google.com/notebooks/data_table.ipynb>data table notebook</a>'\n",
              "            + ' to learn more about interactive tables.';\n",
              "          element.innerHTML = '';\n",
              "          dataTable['output_type'] = 'display_data';\n",
              "          await google.colab.output.renderOutput(dataTable, element);\n",
              "          const docLink = document.createElement('div');\n",
              "          docLink.innerHTML = docLinkHtml;\n",
              "          element.appendChild(docLink);\n",
              "        }\n",
              "      </script>\n",
              "    </div>\n",
              "  </div>\n",
              "  "
            ]
          },
          "metadata": {},
          "execution_count": 8
        }
      ]
    },
    {
      "cell_type": "code",
      "source": [
        "null = df1[df1.isna().any(axis=1)]\n",
        "null"
      ],
      "metadata": {
        "colab": {
          "base_uri": "https://localhost:8080/",
          "height": 424
        },
        "id": "js7-7OtjIuNF",
        "outputId": "3e8962a3-664d-4145-b2ef-48b384bf392a"
      },
      "id": "js7-7OtjIuNF",
      "execution_count": 9,
      "outputs": [
        {
          "output_type": "execute_result",
          "data": {
            "text/plain": [
              "        Year     Month  Day  Hour  Minute  Temperature  Cloud_Type  Dew_Point  \\\n",
              "17520    NaN  117987.0  NaN   NaN     NaN        37.37        -8.0        NaN   \n",
              "17521    NaN       NaN  NaN   NaN     NaN          NaN         NaN        NaN   \n",
              "35042    NaN  117987.0  NaN   NaN     NaN        37.37        -8.0        NaN   \n",
              "35043    NaN       NaN  NaN   NaN     NaN          NaN         NaN        NaN   \n",
              "52564    NaN  117987.0  NaN   NaN     NaN        37.37        -8.0        NaN   \n",
              "...      ...       ...  ...   ...     ...          ...         ...        ...   \n",
              "893621   NaN       NaN  NaN   NaN     NaN          NaN         NaN        NaN   \n",
              "911142   NaN  117546.0  NaN   NaN     NaN        37.33        -8.0        NaN   \n",
              "911143   NaN       NaN  NaN   NaN     NaN          NaN         NaN        NaN   \n",
              "928664   NaN  117546.0  NaN   NaN     NaN        37.33        -8.0        NaN   \n",
              "928665   NaN       NaN  NaN   NaN     NaN          NaN         NaN        NaN   \n",
              "\n",
              "        GHI  Relative_Humidity  Solar_Zenith_Angle  Surface_Albedo  Pressure  \\\n",
              "17520   NaN                NaN                 NaN             NaN       NaN   \n",
              "17521   NaN                NaN                 NaN             NaN       NaN   \n",
              "35042   NaN                NaN                 NaN             NaN       NaN   \n",
              "35043   NaN                NaN                 NaN             NaN       NaN   \n",
              "52564   NaN                NaN                 NaN             NaN       NaN   \n",
              "...     ...                ...                 ...             ...       ...   \n",
              "893621  NaN                NaN                 NaN             NaN       NaN   \n",
              "911142  NaN                NaN                 NaN             NaN       NaN   \n",
              "911143  NaN                NaN                 NaN             NaN       NaN   \n",
              "928664  NaN                NaN                 NaN             NaN       NaN   \n",
              "928665  NaN                NaN                 NaN             NaN       NaN   \n",
              "\n",
              "        Precipitable_Water  Wind_Direction  Wind_Speed  Location  \n",
              "17520                  NaN             NaN         NaN  117987.0  \n",
              "17521                  NaN             NaN         NaN  117987.0  \n",
              "35042                  NaN             NaN         NaN  117987.0  \n",
              "35043                  NaN             NaN         NaN  117987.0  \n",
              "52564                  NaN             NaN         NaN  117987.0  \n",
              "...                    ...             ...         ...       ...  \n",
              "893621                 NaN             NaN         NaN  117546.0  \n",
              "911142                 NaN             NaN         NaN  117546.0  \n",
              "911143                 NaN             NaN         NaN  117546.0  \n",
              "928664                 NaN             NaN         NaN  117546.0  \n",
              "928665                 NaN             NaN         NaN  117546.0  \n",
              "\n",
              "[106 rows x 17 columns]"
            ],
            "text/html": [
              "\n",
              "  <div id=\"df-f0d8705b-21ff-4295-9da7-f0e63363819e\">\n",
              "    <div class=\"colab-df-container\">\n",
              "      <div>\n",
              "<style scoped>\n",
              "    .dataframe tbody tr th:only-of-type {\n",
              "        vertical-align: middle;\n",
              "    }\n",
              "\n",
              "    .dataframe tbody tr th {\n",
              "        vertical-align: top;\n",
              "    }\n",
              "\n",
              "    .dataframe thead th {\n",
              "        text-align: right;\n",
              "    }\n",
              "</style>\n",
              "<table border=\"1\" class=\"dataframe\">\n",
              "  <thead>\n",
              "    <tr style=\"text-align: right;\">\n",
              "      <th></th>\n",
              "      <th>Year</th>\n",
              "      <th>Month</th>\n",
              "      <th>Day</th>\n",
              "      <th>Hour</th>\n",
              "      <th>Minute</th>\n",
              "      <th>Temperature</th>\n",
              "      <th>Cloud_Type</th>\n",
              "      <th>Dew_Point</th>\n",
              "      <th>GHI</th>\n",
              "      <th>Relative_Humidity</th>\n",
              "      <th>Solar_Zenith_Angle</th>\n",
              "      <th>Surface_Albedo</th>\n",
              "      <th>Pressure</th>\n",
              "      <th>Precipitable_Water</th>\n",
              "      <th>Wind_Direction</th>\n",
              "      <th>Wind_Speed</th>\n",
              "      <th>Location</th>\n",
              "    </tr>\n",
              "  </thead>\n",
              "  <tbody>\n",
              "    <tr>\n",
              "      <th>17520</th>\n",
              "      <td>NaN</td>\n",
              "      <td>117987.0</td>\n",
              "      <td>NaN</td>\n",
              "      <td>NaN</td>\n",
              "      <td>NaN</td>\n",
              "      <td>37.37</td>\n",
              "      <td>-8.0</td>\n",
              "      <td>NaN</td>\n",
              "      <td>NaN</td>\n",
              "      <td>NaN</td>\n",
              "      <td>NaN</td>\n",
              "      <td>NaN</td>\n",
              "      <td>NaN</td>\n",
              "      <td>NaN</td>\n",
              "      <td>NaN</td>\n",
              "      <td>NaN</td>\n",
              "      <td>117987.0</td>\n",
              "    </tr>\n",
              "    <tr>\n",
              "      <th>17521</th>\n",
              "      <td>NaN</td>\n",
              "      <td>NaN</td>\n",
              "      <td>NaN</td>\n",
              "      <td>NaN</td>\n",
              "      <td>NaN</td>\n",
              "      <td>NaN</td>\n",
              "      <td>NaN</td>\n",
              "      <td>NaN</td>\n",
              "      <td>NaN</td>\n",
              "      <td>NaN</td>\n",
              "      <td>NaN</td>\n",
              "      <td>NaN</td>\n",
              "      <td>NaN</td>\n",
              "      <td>NaN</td>\n",
              "      <td>NaN</td>\n",
              "      <td>NaN</td>\n",
              "      <td>117987.0</td>\n",
              "    </tr>\n",
              "    <tr>\n",
              "      <th>35042</th>\n",
              "      <td>NaN</td>\n",
              "      <td>117987.0</td>\n",
              "      <td>NaN</td>\n",
              "      <td>NaN</td>\n",
              "      <td>NaN</td>\n",
              "      <td>37.37</td>\n",
              "      <td>-8.0</td>\n",
              "      <td>NaN</td>\n",
              "      <td>NaN</td>\n",
              "      <td>NaN</td>\n",
              "      <td>NaN</td>\n",
              "      <td>NaN</td>\n",
              "      <td>NaN</td>\n",
              "      <td>NaN</td>\n",
              "      <td>NaN</td>\n",
              "      <td>NaN</td>\n",
              "      <td>117987.0</td>\n",
              "    </tr>\n",
              "    <tr>\n",
              "      <th>35043</th>\n",
              "      <td>NaN</td>\n",
              "      <td>NaN</td>\n",
              "      <td>NaN</td>\n",
              "      <td>NaN</td>\n",
              "      <td>NaN</td>\n",
              "      <td>NaN</td>\n",
              "      <td>NaN</td>\n",
              "      <td>NaN</td>\n",
              "      <td>NaN</td>\n",
              "      <td>NaN</td>\n",
              "      <td>NaN</td>\n",
              "      <td>NaN</td>\n",
              "      <td>NaN</td>\n",
              "      <td>NaN</td>\n",
              "      <td>NaN</td>\n",
              "      <td>NaN</td>\n",
              "      <td>117987.0</td>\n",
              "    </tr>\n",
              "    <tr>\n",
              "      <th>52564</th>\n",
              "      <td>NaN</td>\n",
              "      <td>117987.0</td>\n",
              "      <td>NaN</td>\n",
              "      <td>NaN</td>\n",
              "      <td>NaN</td>\n",
              "      <td>37.37</td>\n",
              "      <td>-8.0</td>\n",
              "      <td>NaN</td>\n",
              "      <td>NaN</td>\n",
              "      <td>NaN</td>\n",
              "      <td>NaN</td>\n",
              "      <td>NaN</td>\n",
              "      <td>NaN</td>\n",
              "      <td>NaN</td>\n",
              "      <td>NaN</td>\n",
              "      <td>NaN</td>\n",
              "      <td>117987.0</td>\n",
              "    </tr>\n",
              "    <tr>\n",
              "      <th>...</th>\n",
              "      <td>...</td>\n",
              "      <td>...</td>\n",
              "      <td>...</td>\n",
              "      <td>...</td>\n",
              "      <td>...</td>\n",
              "      <td>...</td>\n",
              "      <td>...</td>\n",
              "      <td>...</td>\n",
              "      <td>...</td>\n",
              "      <td>...</td>\n",
              "      <td>...</td>\n",
              "      <td>...</td>\n",
              "      <td>...</td>\n",
              "      <td>...</td>\n",
              "      <td>...</td>\n",
              "      <td>...</td>\n",
              "      <td>...</td>\n",
              "    </tr>\n",
              "    <tr>\n",
              "      <th>893621</th>\n",
              "      <td>NaN</td>\n",
              "      <td>NaN</td>\n",
              "      <td>NaN</td>\n",
              "      <td>NaN</td>\n",
              "      <td>NaN</td>\n",
              "      <td>NaN</td>\n",
              "      <td>NaN</td>\n",
              "      <td>NaN</td>\n",
              "      <td>NaN</td>\n",
              "      <td>NaN</td>\n",
              "      <td>NaN</td>\n",
              "      <td>NaN</td>\n",
              "      <td>NaN</td>\n",
              "      <td>NaN</td>\n",
              "      <td>NaN</td>\n",
              "      <td>NaN</td>\n",
              "      <td>117546.0</td>\n",
              "    </tr>\n",
              "    <tr>\n",
              "      <th>911142</th>\n",
              "      <td>NaN</td>\n",
              "      <td>117546.0</td>\n",
              "      <td>NaN</td>\n",
              "      <td>NaN</td>\n",
              "      <td>NaN</td>\n",
              "      <td>37.33</td>\n",
              "      <td>-8.0</td>\n",
              "      <td>NaN</td>\n",
              "      <td>NaN</td>\n",
              "      <td>NaN</td>\n",
              "      <td>NaN</td>\n",
              "      <td>NaN</td>\n",
              "      <td>NaN</td>\n",
              "      <td>NaN</td>\n",
              "      <td>NaN</td>\n",
              "      <td>NaN</td>\n",
              "      <td>117546.0</td>\n",
              "    </tr>\n",
              "    <tr>\n",
              "      <th>911143</th>\n",
              "      <td>NaN</td>\n",
              "      <td>NaN</td>\n",
              "      <td>NaN</td>\n",
              "      <td>NaN</td>\n",
              "      <td>NaN</td>\n",
              "      <td>NaN</td>\n",
              "      <td>NaN</td>\n",
              "      <td>NaN</td>\n",
              "      <td>NaN</td>\n",
              "      <td>NaN</td>\n",
              "      <td>NaN</td>\n",
              "      <td>NaN</td>\n",
              "      <td>NaN</td>\n",
              "      <td>NaN</td>\n",
              "      <td>NaN</td>\n",
              "      <td>NaN</td>\n",
              "      <td>117546.0</td>\n",
              "    </tr>\n",
              "    <tr>\n",
              "      <th>928664</th>\n",
              "      <td>NaN</td>\n",
              "      <td>117546.0</td>\n",
              "      <td>NaN</td>\n",
              "      <td>NaN</td>\n",
              "      <td>NaN</td>\n",
              "      <td>37.33</td>\n",
              "      <td>-8.0</td>\n",
              "      <td>NaN</td>\n",
              "      <td>NaN</td>\n",
              "      <td>NaN</td>\n",
              "      <td>NaN</td>\n",
              "      <td>NaN</td>\n",
              "      <td>NaN</td>\n",
              "      <td>NaN</td>\n",
              "      <td>NaN</td>\n",
              "      <td>NaN</td>\n",
              "      <td>117546.0</td>\n",
              "    </tr>\n",
              "    <tr>\n",
              "      <th>928665</th>\n",
              "      <td>NaN</td>\n",
              "      <td>NaN</td>\n",
              "      <td>NaN</td>\n",
              "      <td>NaN</td>\n",
              "      <td>NaN</td>\n",
              "      <td>NaN</td>\n",
              "      <td>NaN</td>\n",
              "      <td>NaN</td>\n",
              "      <td>NaN</td>\n",
              "      <td>NaN</td>\n",
              "      <td>NaN</td>\n",
              "      <td>NaN</td>\n",
              "      <td>NaN</td>\n",
              "      <td>NaN</td>\n",
              "      <td>NaN</td>\n",
              "      <td>NaN</td>\n",
              "      <td>117546.0</td>\n",
              "    </tr>\n",
              "  </tbody>\n",
              "</table>\n",
              "<p>106 rows × 17 columns</p>\n",
              "</div>\n",
              "      <button class=\"colab-df-convert\" onclick=\"convertToInteractive('df-f0d8705b-21ff-4295-9da7-f0e63363819e')\"\n",
              "              title=\"Convert this dataframe to an interactive table.\"\n",
              "              style=\"display:none;\">\n",
              "        \n",
              "  <svg xmlns=\"http://www.w3.org/2000/svg\" height=\"24px\"viewBox=\"0 0 24 24\"\n",
              "       width=\"24px\">\n",
              "    <path d=\"M0 0h24v24H0V0z\" fill=\"none\"/>\n",
              "    <path d=\"M18.56 5.44l.94 2.06.94-2.06 2.06-.94-2.06-.94-.94-2.06-.94 2.06-2.06.94zm-11 1L8.5 8.5l.94-2.06 2.06-.94-2.06-.94L8.5 2.5l-.94 2.06-2.06.94zm10 10l.94 2.06.94-2.06 2.06-.94-2.06-.94-.94-2.06-.94 2.06-2.06.94z\"/><path d=\"M17.41 7.96l-1.37-1.37c-.4-.4-.92-.59-1.43-.59-.52 0-1.04.2-1.43.59L10.3 9.45l-7.72 7.72c-.78.78-.78 2.05 0 2.83L4 21.41c.39.39.9.59 1.41.59.51 0 1.02-.2 1.41-.59l7.78-7.78 2.81-2.81c.8-.78.8-2.07 0-2.86zM5.41 20L4 18.59l7.72-7.72 1.47 1.35L5.41 20z\"/>\n",
              "  </svg>\n",
              "      </button>\n",
              "      \n",
              "  <style>\n",
              "    .colab-df-container {\n",
              "      display:flex;\n",
              "      flex-wrap:wrap;\n",
              "      gap: 12px;\n",
              "    }\n",
              "\n",
              "    .colab-df-convert {\n",
              "      background-color: #E8F0FE;\n",
              "      border: none;\n",
              "      border-radius: 50%;\n",
              "      cursor: pointer;\n",
              "      display: none;\n",
              "      fill: #1967D2;\n",
              "      height: 32px;\n",
              "      padding: 0 0 0 0;\n",
              "      width: 32px;\n",
              "    }\n",
              "\n",
              "    .colab-df-convert:hover {\n",
              "      background-color: #E2EBFA;\n",
              "      box-shadow: 0px 1px 2px rgba(60, 64, 67, 0.3), 0px 1px 3px 1px rgba(60, 64, 67, 0.15);\n",
              "      fill: #174EA6;\n",
              "    }\n",
              "\n",
              "    [theme=dark] .colab-df-convert {\n",
              "      background-color: #3B4455;\n",
              "      fill: #D2E3FC;\n",
              "    }\n",
              "\n",
              "    [theme=dark] .colab-df-convert:hover {\n",
              "      background-color: #434B5C;\n",
              "      box-shadow: 0px 1px 3px 1px rgba(0, 0, 0, 0.15);\n",
              "      filter: drop-shadow(0px 1px 2px rgba(0, 0, 0, 0.3));\n",
              "      fill: #FFFFFF;\n",
              "    }\n",
              "  </style>\n",
              "\n",
              "      <script>\n",
              "        const buttonEl =\n",
              "          document.querySelector('#df-f0d8705b-21ff-4295-9da7-f0e63363819e button.colab-df-convert');\n",
              "        buttonEl.style.display =\n",
              "          google.colab.kernel.accessAllowed ? 'block' : 'none';\n",
              "\n",
              "        async function convertToInteractive(key) {\n",
              "          const element = document.querySelector('#df-f0d8705b-21ff-4295-9da7-f0e63363819e');\n",
              "          const dataTable =\n",
              "            await google.colab.kernel.invokeFunction('convertToInteractive',\n",
              "                                                     [key], {});\n",
              "          if (!dataTable) return;\n",
              "\n",
              "          const docLinkHtml = 'Like what you see? Visit the ' +\n",
              "            '<a target=\"_blank\" href=https://colab.research.google.com/notebooks/data_table.ipynb>data table notebook</a>'\n",
              "            + ' to learn more about interactive tables.';\n",
              "          element.innerHTML = '';\n",
              "          dataTable['output_type'] = 'display_data';\n",
              "          await google.colab.output.renderOutput(dataTable, element);\n",
              "          const docLink = document.createElement('div');\n",
              "          docLink.innerHTML = docLinkHtml;\n",
              "          element.appendChild(docLink);\n",
              "        }\n",
              "      </script>\n",
              "    </div>\n",
              "  </div>\n",
              "  "
            ]
          },
          "metadata": {},
          "execution_count": 9
        }
      ]
    },
    {
      "cell_type": "code",
      "source": [
        "df1.isnull().sum()"
      ],
      "metadata": {
        "colab": {
          "base_uri": "https://localhost:8080/"
        },
        "id": "J5e9BFsIIuQB",
        "outputId": "6425edd3-516d-42ab-e9fb-ed8fd38d1063"
      },
      "id": "J5e9BFsIIuQB",
      "execution_count": 10,
      "outputs": [
        {
          "output_type": "execute_result",
          "data": {
            "text/plain": [
              "Year                  106\n",
              "Month                  53\n",
              "Day                   106\n",
              "Hour                  106\n",
              "Minute                106\n",
              "Temperature            53\n",
              "Cloud_Type             53\n",
              "Dew_Point             106\n",
              "GHI                   106\n",
              "Relative_Humidity     106\n",
              "Solar_Zenith_Angle    106\n",
              "Surface_Albedo        106\n",
              "Pressure              106\n",
              "Precipitable_Water    106\n",
              "Wind_Direction        106\n",
              "Wind_Speed            106\n",
              "Location               10\n",
              "dtype: int64"
            ]
          },
          "metadata": {},
          "execution_count": 10
        }
      ]
    },
    {
      "cell_type": "code",
      "source": [
        "nsrdb = df1.dropna()\n",
        "#print(nsrdb)"
      ],
      "metadata": {
        "id": "DcrOKcEkI1vP"
      },
      "id": "DcrOKcEkI1vP",
      "execution_count": 11,
      "outputs": []
    },
    {
      "cell_type": "code",
      "source": [
        "nsrdb.isnull().sum()"
      ],
      "metadata": {
        "colab": {
          "base_uri": "https://localhost:8080/"
        },
        "id": "xBwkEqUiI1yX",
        "outputId": "e57dd127-8633-466e-e749-28260b8009e5"
      },
      "id": "xBwkEqUiI1yX",
      "execution_count": 12,
      "outputs": [
        {
          "output_type": "execute_result",
          "data": {
            "text/plain": [
              "Year                  0\n",
              "Month                 0\n",
              "Day                   0\n",
              "Hour                  0\n",
              "Minute                0\n",
              "Temperature           0\n",
              "Cloud_Type            0\n",
              "Dew_Point             0\n",
              "GHI                   0\n",
              "Relative_Humidity     0\n",
              "Solar_Zenith_Angle    0\n",
              "Surface_Albedo        0\n",
              "Pressure              0\n",
              "Precipitable_Water    0\n",
              "Wind_Direction        0\n",
              "Wind_Speed            0\n",
              "Location              0\n",
              "dtype: int64"
            ]
          },
          "metadata": {},
          "execution_count": 12
        }
      ]
    },
    {
      "cell_type": "code",
      "execution_count": 14,
      "id": "d87ddc20",
      "metadata": {
        "id": "d87ddc20",
        "colab": {
          "base_uri": "https://localhost:8080/"
        },
        "outputId": "58d93a24-66af-4c70-8b62-c13f0dacc67f"
      },
      "outputs": [
        {
          "output_type": "execute_result",
          "data": {
            "text/plain": [
              "<bound method NDFrame.head of 0         0.0\n",
              "1         0.0\n",
              "2         0.0\n",
              "3         0.0\n",
              "4         0.0\n",
              "         ... \n",
              "946181    0.0\n",
              "946182    0.0\n",
              "946183    0.0\n",
              "946184    0.0\n",
              "946185    0.0\n",
              "Name: GHI, Length: 946080, dtype: float64>"
            ]
          },
          "metadata": {},
          "execution_count": 14
        }
      ],
      "source": [
        "target = nsrdb['GHI']#keeping only target(ghi) data here\n",
        "target.head"
      ]
    },
    {
      "cell_type": "code",
      "execution_count": 15,
      "id": "6f163a74",
      "metadata": {
        "colab": {
          "base_uri": "https://localhost:8080/"
        },
        "id": "6f163a74",
        "outputId": "28806afe-402b-4eb2-b69e-111931c3b8f6"
      },
      "outputs": [
        {
          "output_type": "execute_result",
          "data": {
            "text/plain": [
              "pandas.core.series.Series"
            ]
          },
          "metadata": {},
          "execution_count": 15
        }
      ],
      "source": [
        "target.unique()\n",
        "type(target)"
      ]
    },
    {
      "cell_type": "code",
      "execution_count": 16,
      "id": "396008f6",
      "metadata": {
        "id": "396008f6"
      },
      "outputs": [],
      "source": [
        "#keeping all feature except ghi in weather variable, # 'Cloud_Type'\n",
        "weather = nsrdb.drop(['GHI'], axis=1)"
      ]
    },
    {
      "cell_type": "code",
      "execution_count": 17,
      "id": "ba556998",
      "metadata": {
        "colab": {
          "base_uri": "https://localhost:8080/"
        },
        "id": "ba556998",
        "outputId": "fc142bf0-26fc-402b-93ff-6371bba45c5a"
      },
      "outputs": [
        {
          "output_type": "execute_result",
          "data": {
            "text/plain": [
              "<bound method NDFrame.head of           Year  Month   Day  Hour  Minute  Temperature  Cloud_Type  Dew_Point  \\\n",
              "0       2018.0    1.0   1.0   0.0     0.0         11.2         4.0       10.2   \n",
              "1       2018.0    1.0   1.0   0.0    30.0         11.2         4.0       10.2   \n",
              "2       2018.0    1.0   1.0   1.0     0.0         11.1         4.0       10.1   \n",
              "3       2018.0    1.0   1.0   1.0    30.0         11.0         0.0       10.1   \n",
              "4       2018.0    1.0   1.0   2.0     0.0         10.9         0.0        9.9   \n",
              "...        ...    ...   ...   ...     ...          ...         ...        ...   \n",
              "946181  2013.0   12.0  31.0  21.0    30.0          6.0         1.0        0.0   \n",
              "946182  2013.0   12.0  31.0  22.0     0.0          6.0         1.0        0.0   \n",
              "946183  2013.0   12.0  31.0  22.0    30.0          5.0         0.0        0.0   \n",
              "946184  2013.0   12.0  31.0  23.0     0.0          4.0         0.0        0.0   \n",
              "946185  2013.0   12.0  31.0  23.0    30.0          4.0         0.0        0.0   \n",
              "\n",
              "        Relative_Humidity  Solar_Zenith_Angle  Surface_Albedo  Pressure  \\\n",
              "0                   93.63              165.41           0.100    1024.0   \n",
              "1                   93.63              165.11           0.100    1024.0   \n",
              "2                   93.38              162.29           0.100    1024.0   \n",
              "3                   94.00              157.91           0.100    1024.0   \n",
              "4                   93.32              152.72           0.100    1024.0   \n",
              "...                   ...                 ...             ...       ...   \n",
              "946181              74.05              142.58           0.113    1020.0   \n",
              "946182              74.40              148.35           0.113    1020.0   \n",
              "946183              79.80              153.89           0.113    1020.0   \n",
              "946184              80.32              158.95           0.113    1020.0   \n",
              "946185              86.20              163.08           0.113    1020.0   \n",
              "\n",
              "        Precipitable_Water  Wind_Direction  Wind_Speed  Location  \n",
              "0                    1.700           294.0         0.7  117987.0  \n",
              "1                    1.700           307.0         0.7  117987.0  \n",
              "2                    1.700           321.0         0.7  117987.0  \n",
              "3                    1.800           332.0         0.7  117987.0  \n",
              "4                    1.800           344.0         0.7  117987.0  \n",
              "...                    ...             ...         ...       ...  \n",
              "946181               0.950           174.5         0.6  117546.0  \n",
              "946182               0.977           152.1         0.9  117546.0  \n",
              "946183               0.972           152.1         1.1  117546.0  \n",
              "946184               0.968           166.7         1.3  117546.0  \n",
              "946185               0.980           166.7         1.3  117546.0  \n",
              "\n",
              "[946080 rows x 16 columns]>"
            ]
          },
          "metadata": {},
          "execution_count": 17
        }
      ],
      "source": [
        "weather.head"
      ]
    },
    {
      "cell_type": "code",
      "execution_count": null,
      "id": "ebc159ec",
      "metadata": {
        "id": "ebc159ec"
      },
      "outputs": [],
      "source": [
        "#weather['Cloud_Type'] = weather['Cloud_Type'].replace([1.0, 0.0],['Cloudy','Clear'])"
      ]
    },
    {
      "cell_type": "code",
      "execution_count": 18,
      "id": "180ac839",
      "metadata": {
        "id": "180ac839"
      },
      "outputs": [],
      "source": [
        "#data normalization on weather data\n",
        "scaler = MinMaxScaler()\n",
        "scaler.fit(weather)\n",
        "weather_norm=scaler.transform(weather)"
      ]
    },
    {
      "cell_type": "code",
      "execution_count": 19,
      "id": "a4c1bfda",
      "metadata": {
        "colab": {
          "base_uri": "https://localhost:8080/"
        },
        "id": "a4c1bfda",
        "outputId": "8e6fa365-855f-40be-9f4a-fe13b6418a2c"
      },
      "outputs": [
        {
          "output_type": "execute_result",
          "data": {
            "text/plain": [
              "array([[1.        , 0.        , 0.        , ..., 0.81666667, 0.05109489,\n",
              "        0.37489398],\n",
              "       [1.        , 0.        , 0.        , ..., 0.85277778, 0.05109489,\n",
              "        0.37489398],\n",
              "       [1.        , 0.        , 0.        , ..., 0.89166667, 0.05109489,\n",
              "        0.37489398],\n",
              "       ...,\n",
              "       [0.375     , 1.        , 1.        , ..., 0.4225    , 0.08029197,\n",
              "        0.25021204],\n",
              "       [0.375     , 1.        , 1.        , ..., 0.46305556, 0.09489051,\n",
              "        0.25021204],\n",
              "       [0.375     , 1.        , 1.        , ..., 0.46305556, 0.09489051,\n",
              "        0.25021204]])"
            ]
          },
          "metadata": {},
          "execution_count": 19
        }
      ],
      "source": [
        "#normalized features in nd arrays\n",
        "weather_norm"
      ]
    },
    {
      "cell_type": "code",
      "execution_count": 20,
      "id": "1179842c",
      "metadata": {
        "colab": {
          "base_uri": "https://localhost:8080/"
        },
        "id": "1179842c",
        "outputId": "1ededd4b-daf8-4f6e-c637-927a5ed7104e"
      },
      "outputs": [
        {
          "output_type": "execute_result",
          "data": {
            "text/plain": [
              "pandas.core.frame.DataFrame"
            ]
          },
          "metadata": {},
          "execution_count": 20
        }
      ],
      "source": [
        "#converting nd array into pandas data frame for data prep\n",
        "wq =pd.DataFrame(weather_norm)\n",
        "type(wq)"
      ]
    },
    {
      "cell_type": "code",
      "execution_count": 22,
      "id": "d343f0d5",
      "metadata": {
        "colab": {
          "base_uri": "https://localhost:8080/"
        },
        "id": "d343f0d5",
        "outputId": "c15d0392-416d-4367-b44f-f5212dbfe7e7"
      },
      "outputs": [
        {
          "output_type": "execute_result",
          "data": {
            "text/plain": [
              "<bound method NDFrame.head of            0    1    2         3    4         5         6         7   \\\n",
              "0       1.000  0.0  0.0  0.000000  0.0  0.271111  0.363636  0.737374   \n",
              "1       1.000  0.0  0.0  0.000000  1.0  0.271111  0.363636  0.737374   \n",
              "2       1.000  0.0  0.0  0.043478  0.0  0.268889  0.363636  0.734007   \n",
              "3       1.000  0.0  0.0  0.043478  1.0  0.266667  0.000000  0.734007   \n",
              "4       1.000  0.0  0.0  0.086957  0.0  0.264444  0.000000  0.727273   \n",
              "...       ...  ...  ...       ...  ...       ...       ...       ...   \n",
              "946075  0.375  1.0  1.0  0.913043  1.0  0.155556  0.090909  0.393939   \n",
              "946076  0.375  1.0  1.0  0.956522  0.0  0.155556  0.090909  0.393939   \n",
              "946077  0.375  1.0  1.0  0.956522  1.0  0.133333  0.000000  0.393939   \n",
              "946078  0.375  1.0  1.0  1.000000  0.0  0.111111  0.000000  0.393939   \n",
              "946079  0.375  1.0  1.0  1.000000  1.0  0.111111  0.000000  0.393939   \n",
              "\n",
              "              8         9         10    11        12        13        14  \\\n",
              "0       0.930534  0.995203  0.666667  0.80  0.292500  0.816667  0.051095   \n",
              "1       0.930534  0.993232  0.666667  0.80  0.292500  0.852778  0.051095   \n",
              "2       0.927808  0.974701  0.666667  0.80  0.292500  0.891667  0.051095   \n",
              "3       0.934569  0.945919  0.666667  0.80  0.311203  0.922222  0.051095   \n",
              "4       0.927154  0.911815  0.666667  0.80  0.311203  0.955556  0.051095   \n",
              "...          ...       ...       ...   ...       ...       ...       ...   \n",
              "946075  0.717012  0.845183  0.775000  0.75  0.152235  0.484722  0.043796   \n",
              "946076  0.720829  0.883099  0.775000  0.75  0.157284  0.422500  0.065693   \n",
              "946077  0.779716  0.919503  0.775000  0.75  0.156349  0.422500  0.080292   \n",
              "946078  0.785387  0.952753  0.775000  0.75  0.155601  0.463056  0.094891   \n",
              "946079  0.849509  0.979892  0.775000  0.75  0.157846  0.463056  0.094891   \n",
              "\n",
              "              15  \n",
              "0       0.374894  \n",
              "1       0.374894  \n",
              "2       0.374894  \n",
              "3       0.374894  \n",
              "4       0.374894  \n",
              "...          ...  \n",
              "946075  0.250212  \n",
              "946076  0.250212  \n",
              "946077  0.250212  \n",
              "946078  0.250212  \n",
              "946079  0.250212  \n",
              "\n",
              "[946080 rows x 16 columns]>"
            ]
          },
          "metadata": {},
          "execution_count": 22
        }
      ],
      "source": [
        "wq.head"
      ]
    },
    {
      "cell_type": "code",
      "execution_count": 23,
      "id": "66366975",
      "metadata": {
        "colab": {
          "base_uri": "https://localhost:8080/"
        },
        "id": "66366975",
        "outputId": "80357308-9f2f-4a50-e5c8-d807fca6301c"
      },
      "outputs": [
        {
          "output_type": "execute_result",
          "data": {
            "text/plain": [
              "list"
            ]
          },
          "metadata": {},
          "execution_count": 23
        }
      ],
      "source": [
        "#combining normalized features and non-normalized target ghi\n",
        "frames = [wq, target]\n",
        "combined_data = pd.concat(frames,axis=1)\n",
        "type(frames)"
      ]
    },
    {
      "cell_type": "code",
      "execution_count": 24,
      "id": "d25bbd08",
      "metadata": {
        "colab": {
          "base_uri": "https://localhost:8080/",
          "height": 676
        },
        "id": "d25bbd08",
        "outputId": "10f9ea06-a95e-4e13-f3f2-9d461372c54f"
      },
      "outputs": [
        {
          "output_type": "execute_result",
          "data": {
            "text/plain": [
              "      0    1    2         3    4         5         6         7         8  \\\n",
              "0   1.0  0.0  0.0  0.000000  0.0  0.271111  0.363636  0.737374  0.930534   \n",
              "1   1.0  0.0  0.0  0.000000  1.0  0.271111  0.363636  0.737374  0.930534   \n",
              "2   1.0  0.0  0.0  0.043478  0.0  0.268889  0.363636  0.734007  0.927808   \n",
              "3   1.0  0.0  0.0  0.043478  1.0  0.266667  0.000000  0.734007  0.934569   \n",
              "4   1.0  0.0  0.0  0.086957  0.0  0.264444  0.000000  0.727273  0.927154   \n",
              "5   1.0  0.0  0.0  0.086957  1.0  0.260000  0.000000  0.727273  0.940676   \n",
              "6   1.0  0.0  0.0  0.130435  0.0  0.257778  0.000000  0.717172  0.931625   \n",
              "7   1.0  0.0  0.0  0.130435  1.0  0.255556  0.000000  0.717172  0.938386   \n",
              "8   1.0  0.0  0.0  0.173913  0.0  0.251111  0.000000  0.710438  0.936096   \n",
              "9   1.0  0.0  0.0  0.173913  1.0  0.251111  0.000000  0.710438  0.936096   \n",
              "10  1.0  0.0  0.0  0.217391  0.0  0.248889  0.000000  0.703704  0.928462   \n",
              "11  1.0  0.0  0.0  0.217391  1.0  0.246667  0.000000  0.703704  0.936314   \n",
              "12  1.0  0.0  0.0  0.260870  0.0  0.244444  0.000000  0.696970  0.927263   \n",
              "13  1.0  0.0  0.0  0.260870  1.0  0.242222  0.000000  0.696970  0.934024   \n",
              "14  1.0  0.0  0.0  0.304348  0.0  0.240000  0.636364  0.690236  0.926390   \n",
              "15  1.0  0.0  0.0  0.304348  1.0  0.251111  0.636364  0.690236  0.893021   \n",
              "16  1.0  0.0  0.0  0.347826  0.0  0.260000  0.363636  0.696970  0.879935   \n",
              "17  1.0  0.0  0.0  0.347826  1.0  0.275556  0.636364  0.696970  0.836859   \n",
              "18  1.0  0.0  0.0  0.391304  0.0  0.293333  0.636364  0.710438  0.814613   \n",
              "19  1.0  0.0  0.0  0.391304  1.0  0.313333  0.636364  0.710438  0.762923   \n",
              "\n",
              "           9        10      11        12        13        14        15    GHI  \n",
              "0   0.995203  0.666667  0.8000  0.292500  0.816667  0.051095  0.374894    0.0  \n",
              "1   0.993232  0.666667  0.8000  0.292500  0.852778  0.051095  0.374894    0.0  \n",
              "2   0.974701  0.666667  0.8000  0.292500  0.891667  0.051095  0.374894    0.0  \n",
              "3   0.945919  0.666667  0.8000  0.311203  0.922222  0.051095  0.374894    0.0  \n",
              "4   0.911815  0.666667  0.8000  0.311203  0.955556  0.051095  0.374894    0.0  \n",
              "5   0.875016  0.666667  0.8000  0.311203  0.977778  0.051095  0.374894    0.0  \n",
              "6   0.836838  0.666667  0.8000  0.311203  1.000000  0.051095  0.374894    0.0  \n",
              "7   0.797937  0.666667  0.8000  0.311203  0.988889  0.051095  0.374894    0.0  \n",
              "8   0.758838  0.666667  0.8000  0.311203  0.977778  0.051095  0.374894    0.0  \n",
              "9   0.719740  0.666667  0.8000  0.311203  0.955556  0.051095  0.374894    0.0  \n",
              "10  0.680838  0.666667  0.8000  0.311203  0.930556  0.051095  0.374894    0.0  \n",
              "11  0.642397  0.666667  0.8125  0.311203  0.913889  0.051095  0.374894    0.0  \n",
              "12  0.604547  0.666667  0.8125  0.311203  0.894444  0.051095  0.374894    0.0  \n",
              "13  0.567552  0.666667  0.8125  0.311203  0.897222  0.051095  0.374894    0.0  \n",
              "14  0.531542  0.666667  0.8125  0.311203  0.902778  0.051095  0.374894    0.0  \n",
              "15  0.494020  0.666667  0.8125  0.311203  0.933333  0.051095  0.374894    7.0  \n",
              "16  0.462676  0.666667  0.8125  0.311203  0.963889  0.051095  0.374894   46.0  \n",
              "17  0.431791  0.666667  0.8250  0.311203  0.497222  0.065693  0.374894   89.0  \n",
              "18  0.403010  0.666667  0.8250  0.311203  0.033333  0.087591  0.374894  140.0  \n",
              "19  0.376791  0.666667  0.8250  0.311203  0.050000  0.102190  0.374894  224.0  "
            ],
            "text/html": [
              "\n",
              "  <div id=\"df-a98467c5-2d05-4d5c-8566-13adc06d52ff\">\n",
              "    <div class=\"colab-df-container\">\n",
              "      <div>\n",
              "<style scoped>\n",
              "    .dataframe tbody tr th:only-of-type {\n",
              "        vertical-align: middle;\n",
              "    }\n",
              "\n",
              "    .dataframe tbody tr th {\n",
              "        vertical-align: top;\n",
              "    }\n",
              "\n",
              "    .dataframe thead th {\n",
              "        text-align: right;\n",
              "    }\n",
              "</style>\n",
              "<table border=\"1\" class=\"dataframe\">\n",
              "  <thead>\n",
              "    <tr style=\"text-align: right;\">\n",
              "      <th></th>\n",
              "      <th>0</th>\n",
              "      <th>1</th>\n",
              "      <th>2</th>\n",
              "      <th>3</th>\n",
              "      <th>4</th>\n",
              "      <th>5</th>\n",
              "      <th>6</th>\n",
              "      <th>7</th>\n",
              "      <th>8</th>\n",
              "      <th>9</th>\n",
              "      <th>10</th>\n",
              "      <th>11</th>\n",
              "      <th>12</th>\n",
              "      <th>13</th>\n",
              "      <th>14</th>\n",
              "      <th>15</th>\n",
              "      <th>GHI</th>\n",
              "    </tr>\n",
              "  </thead>\n",
              "  <tbody>\n",
              "    <tr>\n",
              "      <th>0</th>\n",
              "      <td>1.0</td>\n",
              "      <td>0.0</td>\n",
              "      <td>0.0</td>\n",
              "      <td>0.000000</td>\n",
              "      <td>0.0</td>\n",
              "      <td>0.271111</td>\n",
              "      <td>0.363636</td>\n",
              "      <td>0.737374</td>\n",
              "      <td>0.930534</td>\n",
              "      <td>0.995203</td>\n",
              "      <td>0.666667</td>\n",
              "      <td>0.8000</td>\n",
              "      <td>0.292500</td>\n",
              "      <td>0.816667</td>\n",
              "      <td>0.051095</td>\n",
              "      <td>0.374894</td>\n",
              "      <td>0.0</td>\n",
              "    </tr>\n",
              "    <tr>\n",
              "      <th>1</th>\n",
              "      <td>1.0</td>\n",
              "      <td>0.0</td>\n",
              "      <td>0.0</td>\n",
              "      <td>0.000000</td>\n",
              "      <td>1.0</td>\n",
              "      <td>0.271111</td>\n",
              "      <td>0.363636</td>\n",
              "      <td>0.737374</td>\n",
              "      <td>0.930534</td>\n",
              "      <td>0.993232</td>\n",
              "      <td>0.666667</td>\n",
              "      <td>0.8000</td>\n",
              "      <td>0.292500</td>\n",
              "      <td>0.852778</td>\n",
              "      <td>0.051095</td>\n",
              "      <td>0.374894</td>\n",
              "      <td>0.0</td>\n",
              "    </tr>\n",
              "    <tr>\n",
              "      <th>2</th>\n",
              "      <td>1.0</td>\n",
              "      <td>0.0</td>\n",
              "      <td>0.0</td>\n",
              "      <td>0.043478</td>\n",
              "      <td>0.0</td>\n",
              "      <td>0.268889</td>\n",
              "      <td>0.363636</td>\n",
              "      <td>0.734007</td>\n",
              "      <td>0.927808</td>\n",
              "      <td>0.974701</td>\n",
              "      <td>0.666667</td>\n",
              "      <td>0.8000</td>\n",
              "      <td>0.292500</td>\n",
              "      <td>0.891667</td>\n",
              "      <td>0.051095</td>\n",
              "      <td>0.374894</td>\n",
              "      <td>0.0</td>\n",
              "    </tr>\n",
              "    <tr>\n",
              "      <th>3</th>\n",
              "      <td>1.0</td>\n",
              "      <td>0.0</td>\n",
              "      <td>0.0</td>\n",
              "      <td>0.043478</td>\n",
              "      <td>1.0</td>\n",
              "      <td>0.266667</td>\n",
              "      <td>0.000000</td>\n",
              "      <td>0.734007</td>\n",
              "      <td>0.934569</td>\n",
              "      <td>0.945919</td>\n",
              "      <td>0.666667</td>\n",
              "      <td>0.8000</td>\n",
              "      <td>0.311203</td>\n",
              "      <td>0.922222</td>\n",
              "      <td>0.051095</td>\n",
              "      <td>0.374894</td>\n",
              "      <td>0.0</td>\n",
              "    </tr>\n",
              "    <tr>\n",
              "      <th>4</th>\n",
              "      <td>1.0</td>\n",
              "      <td>0.0</td>\n",
              "      <td>0.0</td>\n",
              "      <td>0.086957</td>\n",
              "      <td>0.0</td>\n",
              "      <td>0.264444</td>\n",
              "      <td>0.000000</td>\n",
              "      <td>0.727273</td>\n",
              "      <td>0.927154</td>\n",
              "      <td>0.911815</td>\n",
              "      <td>0.666667</td>\n",
              "      <td>0.8000</td>\n",
              "      <td>0.311203</td>\n",
              "      <td>0.955556</td>\n",
              "      <td>0.051095</td>\n",
              "      <td>0.374894</td>\n",
              "      <td>0.0</td>\n",
              "    </tr>\n",
              "    <tr>\n",
              "      <th>5</th>\n",
              "      <td>1.0</td>\n",
              "      <td>0.0</td>\n",
              "      <td>0.0</td>\n",
              "      <td>0.086957</td>\n",
              "      <td>1.0</td>\n",
              "      <td>0.260000</td>\n",
              "      <td>0.000000</td>\n",
              "      <td>0.727273</td>\n",
              "      <td>0.940676</td>\n",
              "      <td>0.875016</td>\n",
              "      <td>0.666667</td>\n",
              "      <td>0.8000</td>\n",
              "      <td>0.311203</td>\n",
              "      <td>0.977778</td>\n",
              "      <td>0.051095</td>\n",
              "      <td>0.374894</td>\n",
              "      <td>0.0</td>\n",
              "    </tr>\n",
              "    <tr>\n",
              "      <th>6</th>\n",
              "      <td>1.0</td>\n",
              "      <td>0.0</td>\n",
              "      <td>0.0</td>\n",
              "      <td>0.130435</td>\n",
              "      <td>0.0</td>\n",
              "      <td>0.257778</td>\n",
              "      <td>0.000000</td>\n",
              "      <td>0.717172</td>\n",
              "      <td>0.931625</td>\n",
              "      <td>0.836838</td>\n",
              "      <td>0.666667</td>\n",
              "      <td>0.8000</td>\n",
              "      <td>0.311203</td>\n",
              "      <td>1.000000</td>\n",
              "      <td>0.051095</td>\n",
              "      <td>0.374894</td>\n",
              "      <td>0.0</td>\n",
              "    </tr>\n",
              "    <tr>\n",
              "      <th>7</th>\n",
              "      <td>1.0</td>\n",
              "      <td>0.0</td>\n",
              "      <td>0.0</td>\n",
              "      <td>0.130435</td>\n",
              "      <td>1.0</td>\n",
              "      <td>0.255556</td>\n",
              "      <td>0.000000</td>\n",
              "      <td>0.717172</td>\n",
              "      <td>0.938386</td>\n",
              "      <td>0.797937</td>\n",
              "      <td>0.666667</td>\n",
              "      <td>0.8000</td>\n",
              "      <td>0.311203</td>\n",
              "      <td>0.988889</td>\n",
              "      <td>0.051095</td>\n",
              "      <td>0.374894</td>\n",
              "      <td>0.0</td>\n",
              "    </tr>\n",
              "    <tr>\n",
              "      <th>8</th>\n",
              "      <td>1.0</td>\n",
              "      <td>0.0</td>\n",
              "      <td>0.0</td>\n",
              "      <td>0.173913</td>\n",
              "      <td>0.0</td>\n",
              "      <td>0.251111</td>\n",
              "      <td>0.000000</td>\n",
              "      <td>0.710438</td>\n",
              "      <td>0.936096</td>\n",
              "      <td>0.758838</td>\n",
              "      <td>0.666667</td>\n",
              "      <td>0.8000</td>\n",
              "      <td>0.311203</td>\n",
              "      <td>0.977778</td>\n",
              "      <td>0.051095</td>\n",
              "      <td>0.374894</td>\n",
              "      <td>0.0</td>\n",
              "    </tr>\n",
              "    <tr>\n",
              "      <th>9</th>\n",
              "      <td>1.0</td>\n",
              "      <td>0.0</td>\n",
              "      <td>0.0</td>\n",
              "      <td>0.173913</td>\n",
              "      <td>1.0</td>\n",
              "      <td>0.251111</td>\n",
              "      <td>0.000000</td>\n",
              "      <td>0.710438</td>\n",
              "      <td>0.936096</td>\n",
              "      <td>0.719740</td>\n",
              "      <td>0.666667</td>\n",
              "      <td>0.8000</td>\n",
              "      <td>0.311203</td>\n",
              "      <td>0.955556</td>\n",
              "      <td>0.051095</td>\n",
              "      <td>0.374894</td>\n",
              "      <td>0.0</td>\n",
              "    </tr>\n",
              "    <tr>\n",
              "      <th>10</th>\n",
              "      <td>1.0</td>\n",
              "      <td>0.0</td>\n",
              "      <td>0.0</td>\n",
              "      <td>0.217391</td>\n",
              "      <td>0.0</td>\n",
              "      <td>0.248889</td>\n",
              "      <td>0.000000</td>\n",
              "      <td>0.703704</td>\n",
              "      <td>0.928462</td>\n",
              "      <td>0.680838</td>\n",
              "      <td>0.666667</td>\n",
              "      <td>0.8000</td>\n",
              "      <td>0.311203</td>\n",
              "      <td>0.930556</td>\n",
              "      <td>0.051095</td>\n",
              "      <td>0.374894</td>\n",
              "      <td>0.0</td>\n",
              "    </tr>\n",
              "    <tr>\n",
              "      <th>11</th>\n",
              "      <td>1.0</td>\n",
              "      <td>0.0</td>\n",
              "      <td>0.0</td>\n",
              "      <td>0.217391</td>\n",
              "      <td>1.0</td>\n",
              "      <td>0.246667</td>\n",
              "      <td>0.000000</td>\n",
              "      <td>0.703704</td>\n",
              "      <td>0.936314</td>\n",
              "      <td>0.642397</td>\n",
              "      <td>0.666667</td>\n",
              "      <td>0.8125</td>\n",
              "      <td>0.311203</td>\n",
              "      <td>0.913889</td>\n",
              "      <td>0.051095</td>\n",
              "      <td>0.374894</td>\n",
              "      <td>0.0</td>\n",
              "    </tr>\n",
              "    <tr>\n",
              "      <th>12</th>\n",
              "      <td>1.0</td>\n",
              "      <td>0.0</td>\n",
              "      <td>0.0</td>\n",
              "      <td>0.260870</td>\n",
              "      <td>0.0</td>\n",
              "      <td>0.244444</td>\n",
              "      <td>0.000000</td>\n",
              "      <td>0.696970</td>\n",
              "      <td>0.927263</td>\n",
              "      <td>0.604547</td>\n",
              "      <td>0.666667</td>\n",
              "      <td>0.8125</td>\n",
              "      <td>0.311203</td>\n",
              "      <td>0.894444</td>\n",
              "      <td>0.051095</td>\n",
              "      <td>0.374894</td>\n",
              "      <td>0.0</td>\n",
              "    </tr>\n",
              "    <tr>\n",
              "      <th>13</th>\n",
              "      <td>1.0</td>\n",
              "      <td>0.0</td>\n",
              "      <td>0.0</td>\n",
              "      <td>0.260870</td>\n",
              "      <td>1.0</td>\n",
              "      <td>0.242222</td>\n",
              "      <td>0.000000</td>\n",
              "      <td>0.696970</td>\n",
              "      <td>0.934024</td>\n",
              "      <td>0.567552</td>\n",
              "      <td>0.666667</td>\n",
              "      <td>0.8125</td>\n",
              "      <td>0.311203</td>\n",
              "      <td>0.897222</td>\n",
              "      <td>0.051095</td>\n",
              "      <td>0.374894</td>\n",
              "      <td>0.0</td>\n",
              "    </tr>\n",
              "    <tr>\n",
              "      <th>14</th>\n",
              "      <td>1.0</td>\n",
              "      <td>0.0</td>\n",
              "      <td>0.0</td>\n",
              "      <td>0.304348</td>\n",
              "      <td>0.0</td>\n",
              "      <td>0.240000</td>\n",
              "      <td>0.636364</td>\n",
              "      <td>0.690236</td>\n",
              "      <td>0.926390</td>\n",
              "      <td>0.531542</td>\n",
              "      <td>0.666667</td>\n",
              "      <td>0.8125</td>\n",
              "      <td>0.311203</td>\n",
              "      <td>0.902778</td>\n",
              "      <td>0.051095</td>\n",
              "      <td>0.374894</td>\n",
              "      <td>0.0</td>\n",
              "    </tr>\n",
              "    <tr>\n",
              "      <th>15</th>\n",
              "      <td>1.0</td>\n",
              "      <td>0.0</td>\n",
              "      <td>0.0</td>\n",
              "      <td>0.304348</td>\n",
              "      <td>1.0</td>\n",
              "      <td>0.251111</td>\n",
              "      <td>0.636364</td>\n",
              "      <td>0.690236</td>\n",
              "      <td>0.893021</td>\n",
              "      <td>0.494020</td>\n",
              "      <td>0.666667</td>\n",
              "      <td>0.8125</td>\n",
              "      <td>0.311203</td>\n",
              "      <td>0.933333</td>\n",
              "      <td>0.051095</td>\n",
              "      <td>0.374894</td>\n",
              "      <td>7.0</td>\n",
              "    </tr>\n",
              "    <tr>\n",
              "      <th>16</th>\n",
              "      <td>1.0</td>\n",
              "      <td>0.0</td>\n",
              "      <td>0.0</td>\n",
              "      <td>0.347826</td>\n",
              "      <td>0.0</td>\n",
              "      <td>0.260000</td>\n",
              "      <td>0.363636</td>\n",
              "      <td>0.696970</td>\n",
              "      <td>0.879935</td>\n",
              "      <td>0.462676</td>\n",
              "      <td>0.666667</td>\n",
              "      <td>0.8125</td>\n",
              "      <td>0.311203</td>\n",
              "      <td>0.963889</td>\n",
              "      <td>0.051095</td>\n",
              "      <td>0.374894</td>\n",
              "      <td>46.0</td>\n",
              "    </tr>\n",
              "    <tr>\n",
              "      <th>17</th>\n",
              "      <td>1.0</td>\n",
              "      <td>0.0</td>\n",
              "      <td>0.0</td>\n",
              "      <td>0.347826</td>\n",
              "      <td>1.0</td>\n",
              "      <td>0.275556</td>\n",
              "      <td>0.636364</td>\n",
              "      <td>0.696970</td>\n",
              "      <td>0.836859</td>\n",
              "      <td>0.431791</td>\n",
              "      <td>0.666667</td>\n",
              "      <td>0.8250</td>\n",
              "      <td>0.311203</td>\n",
              "      <td>0.497222</td>\n",
              "      <td>0.065693</td>\n",
              "      <td>0.374894</td>\n",
              "      <td>89.0</td>\n",
              "    </tr>\n",
              "    <tr>\n",
              "      <th>18</th>\n",
              "      <td>1.0</td>\n",
              "      <td>0.0</td>\n",
              "      <td>0.0</td>\n",
              "      <td>0.391304</td>\n",
              "      <td>0.0</td>\n",
              "      <td>0.293333</td>\n",
              "      <td>0.636364</td>\n",
              "      <td>0.710438</td>\n",
              "      <td>0.814613</td>\n",
              "      <td>0.403010</td>\n",
              "      <td>0.666667</td>\n",
              "      <td>0.8250</td>\n",
              "      <td>0.311203</td>\n",
              "      <td>0.033333</td>\n",
              "      <td>0.087591</td>\n",
              "      <td>0.374894</td>\n",
              "      <td>140.0</td>\n",
              "    </tr>\n",
              "    <tr>\n",
              "      <th>19</th>\n",
              "      <td>1.0</td>\n",
              "      <td>0.0</td>\n",
              "      <td>0.0</td>\n",
              "      <td>0.391304</td>\n",
              "      <td>1.0</td>\n",
              "      <td>0.313333</td>\n",
              "      <td>0.636364</td>\n",
              "      <td>0.710438</td>\n",
              "      <td>0.762923</td>\n",
              "      <td>0.376791</td>\n",
              "      <td>0.666667</td>\n",
              "      <td>0.8250</td>\n",
              "      <td>0.311203</td>\n",
              "      <td>0.050000</td>\n",
              "      <td>0.102190</td>\n",
              "      <td>0.374894</td>\n",
              "      <td>224.0</td>\n",
              "    </tr>\n",
              "  </tbody>\n",
              "</table>\n",
              "</div>\n",
              "      <button class=\"colab-df-convert\" onclick=\"convertToInteractive('df-a98467c5-2d05-4d5c-8566-13adc06d52ff')\"\n",
              "              title=\"Convert this dataframe to an interactive table.\"\n",
              "              style=\"display:none;\">\n",
              "        \n",
              "  <svg xmlns=\"http://www.w3.org/2000/svg\" height=\"24px\"viewBox=\"0 0 24 24\"\n",
              "       width=\"24px\">\n",
              "    <path d=\"M0 0h24v24H0V0z\" fill=\"none\"/>\n",
              "    <path d=\"M18.56 5.44l.94 2.06.94-2.06 2.06-.94-2.06-.94-.94-2.06-.94 2.06-2.06.94zm-11 1L8.5 8.5l.94-2.06 2.06-.94-2.06-.94L8.5 2.5l-.94 2.06-2.06.94zm10 10l.94 2.06.94-2.06 2.06-.94-2.06-.94-.94-2.06-.94 2.06-2.06.94z\"/><path d=\"M17.41 7.96l-1.37-1.37c-.4-.4-.92-.59-1.43-.59-.52 0-1.04.2-1.43.59L10.3 9.45l-7.72 7.72c-.78.78-.78 2.05 0 2.83L4 21.41c.39.39.9.59 1.41.59.51 0 1.02-.2 1.41-.59l7.78-7.78 2.81-2.81c.8-.78.8-2.07 0-2.86zM5.41 20L4 18.59l7.72-7.72 1.47 1.35L5.41 20z\"/>\n",
              "  </svg>\n",
              "      </button>\n",
              "      \n",
              "  <style>\n",
              "    .colab-df-container {\n",
              "      display:flex;\n",
              "      flex-wrap:wrap;\n",
              "      gap: 12px;\n",
              "    }\n",
              "\n",
              "    .colab-df-convert {\n",
              "      background-color: #E8F0FE;\n",
              "      border: none;\n",
              "      border-radius: 50%;\n",
              "      cursor: pointer;\n",
              "      display: none;\n",
              "      fill: #1967D2;\n",
              "      height: 32px;\n",
              "      padding: 0 0 0 0;\n",
              "      width: 32px;\n",
              "    }\n",
              "\n",
              "    .colab-df-convert:hover {\n",
              "      background-color: #E2EBFA;\n",
              "      box-shadow: 0px 1px 2px rgba(60, 64, 67, 0.3), 0px 1px 3px 1px rgba(60, 64, 67, 0.15);\n",
              "      fill: #174EA6;\n",
              "    }\n",
              "\n",
              "    [theme=dark] .colab-df-convert {\n",
              "      background-color: #3B4455;\n",
              "      fill: #D2E3FC;\n",
              "    }\n",
              "\n",
              "    [theme=dark] .colab-df-convert:hover {\n",
              "      background-color: #434B5C;\n",
              "      box-shadow: 0px 1px 3px 1px rgba(0, 0, 0, 0.15);\n",
              "      filter: drop-shadow(0px 1px 2px rgba(0, 0, 0, 0.3));\n",
              "      fill: #FFFFFF;\n",
              "    }\n",
              "  </style>\n",
              "\n",
              "      <script>\n",
              "        const buttonEl =\n",
              "          document.querySelector('#df-a98467c5-2d05-4d5c-8566-13adc06d52ff button.colab-df-convert');\n",
              "        buttonEl.style.display =\n",
              "          google.colab.kernel.accessAllowed ? 'block' : 'none';\n",
              "\n",
              "        async function convertToInteractive(key) {\n",
              "          const element = document.querySelector('#df-a98467c5-2d05-4d5c-8566-13adc06d52ff');\n",
              "          const dataTable =\n",
              "            await google.colab.kernel.invokeFunction('convertToInteractive',\n",
              "                                                     [key], {});\n",
              "          if (!dataTable) return;\n",
              "\n",
              "          const docLinkHtml = 'Like what you see? Visit the ' +\n",
              "            '<a target=\"_blank\" href=https://colab.research.google.com/notebooks/data_table.ipynb>data table notebook</a>'\n",
              "            + ' to learn more about interactive tables.';\n",
              "          element.innerHTML = '';\n",
              "          dataTable['output_type'] = 'display_data';\n",
              "          await google.colab.output.renderOutput(dataTable, element);\n",
              "          const docLink = document.createElement('div');\n",
              "          docLink.innerHTML = docLinkHtml;\n",
              "          element.appendChild(docLink);\n",
              "        }\n",
              "      </script>\n",
              "    </div>\n",
              "  </div>\n",
              "  "
            ]
          },
          "metadata": {},
          "execution_count": 24
        }
      ],
      "source": [
        "combined_data.head(20)"
      ]
    },
    {
      "cell_type": "code",
      "execution_count": 25,
      "id": "5a8566df",
      "metadata": {
        "colab": {
          "base_uri": "https://localhost:8080/"
        },
        "id": "5a8566df",
        "outputId": "f55be9cd-e524-4c16-bf94-ea556abfaf9c"
      },
      "outputs": [
        {
          "output_type": "execute_result",
          "data": {
            "text/plain": [
              "array([   0.,    7.,   46., ..., 1050., 1053., 1047.])"
            ]
          },
          "metadata": {},
          "execution_count": 25
        }
      ],
      "source": [
        "combined_data.GHI.unique()"
      ]
    },
    {
      "cell_type": "code",
      "execution_count": 26,
      "id": "fa330e67",
      "metadata": {
        "colab": {
          "base_uri": "https://localhost:8080/"
        },
        "id": "fa330e67",
        "outputId": "32525340-ab05-45a6-c70c-5cf39d822825"
      },
      "outputs": [
        {
          "output_type": "execute_result",
          "data": {
            "text/plain": [
              "106"
            ]
          },
          "metadata": {},
          "execution_count": 26
        }
      ],
      "source": [
        "combined_data['GHI'].isnull().values.sum()"
      ]
    },
    {
      "cell_type": "code",
      "execution_count": 27,
      "id": "ea8760eb",
      "metadata": {
        "colab": {
          "base_uri": "https://localhost:8080/"
        },
        "id": "ea8760eb",
        "outputId": "8c86f8ce-1c5c-4d88-b235-a75fbe157adb"
      },
      "outputs": [
        {
          "output_type": "execute_result",
          "data": {
            "text/plain": [
              "pandas.core.frame.DataFrame"
            ]
          },
          "metadata": {},
          "execution_count": 27
        }
      ],
      "source": [
        "combined_data.GHI.shape\n",
        "type(combined_data)"
      ]
    },
    {
      "cell_type": "code",
      "execution_count": 28,
      "id": "3b89f1c7",
      "metadata": {
        "colab": {
          "base_uri": "https://localhost:8080/"
        },
        "id": "3b89f1c7",
        "outputId": "30ebe7d1-feb0-49f2-ba0c-37d09bf1d522"
      },
      "outputs": [
        {
          "output_type": "execute_result",
          "data": {
            "text/plain": [
              "numpy.ndarray"
            ]
          },
          "metadata": {},
          "execution_count": 28
        }
      ],
      "source": [
        "#converting the final combined data into numpy array\n",
        "final_data = combined_data.to_numpy()\n",
        "type(final_data)"
      ]
    },
    {
      "cell_type": "code",
      "execution_count": 29,
      "id": "4140645d",
      "metadata": {
        "colab": {
          "base_uri": "https://localhost:8080/"
        },
        "id": "4140645d",
        "outputId": "159132c8-a8a1-44aa-fc7f-1aaca90cf00a"
      },
      "outputs": [
        {
          "output_type": "execute_result",
          "data": {
            "text/plain": [
              "array([[1.        , 0.        , 0.        , ..., 0.05109489, 0.37489398,\n",
              "        0.        ],\n",
              "       [1.        , 0.        , 0.        , ..., 0.05109489, 0.37489398,\n",
              "        0.        ],\n",
              "       [1.        , 0.        , 0.        , ..., 0.05109489, 0.37489398,\n",
              "        0.        ],\n",
              "       ...,\n",
              "       [       nan,        nan,        nan, ...,        nan,        nan,\n",
              "        0.        ],\n",
              "       [       nan,        nan,        nan, ...,        nan,        nan,\n",
              "        0.        ],\n",
              "       [       nan,        nan,        nan, ...,        nan,        nan,\n",
              "        0.        ]])"
            ]
          },
          "metadata": {},
          "execution_count": 29
        }
      ],
      "source": [
        "final_data "
      ]
    },
    {
      "cell_type": "markdown",
      "id": "d6f53471",
      "metadata": {
        "id": "d6f53471"
      },
      "source": [
        "### weather_norm is normalized data except target(GHI), ghi is target feature with non normalized\n",
        "### x_train, y_train dataset will use to train the model to get f(X), \n",
        "### Y_test is actual ghi which will be used to compare with predicted ghi value, \n",
        "### x_test will be used to get the prediction, \n",
        "### model error = y_test-predicted\n"
      ]
    },
    {
      "cell_type": "markdown",
      "id": "9e79ce4a",
      "metadata": {
        "id": "9e79ce4a"
      },
      "source": [
        "# Modeling"
      ]
    },
    {
      "cell_type": "code",
      "execution_count": 30,
      "id": "ac01c740",
      "metadata": {
        "colab": {
          "base_uri": "https://localhost:8080/"
        },
        "id": "ac01c740",
        "outputId": "58ffeb65-f92b-41a8-d033-af777751f35c"
      },
      "outputs": [
        {
          "output_type": "stream",
          "name": "stdout",
          "text": [
            "x_train shape (662256, 16)\n",
            "x_test shape (283824, 16)\n",
            "y_train shape (662256,)\n",
            "y_text shape (283824,)\n"
          ]
        }
      ],
      "source": [
        "#split data\n",
        "#x_train, y_train dataset to train the model, x_test will give prediction, y_test is actual and we compare y_test-x_test to get error\n",
        "X_train, X_test, Y_train, Y_test = sklearn.model_selection.train_test_split(weather_norm, target, test_size = 0.3, random_state = 5)\n",
        "print(\"x_train shape\",X_train.shape)\n",
        "print(\"x_test shape\",X_test.shape)\n",
        "print(\"y_train shape\",Y_train.shape)\n",
        "print(\"y_text shape\",Y_test.shape)"
      ]
    },
    {
      "cell_type": "code",
      "execution_count": 32,
      "id": "0864b2fb",
      "metadata": {
        "colab": {
          "base_uri": "https://localhost:8080/"
        },
        "id": "0864b2fb",
        "outputId": "46ae060b-26a7-45a7-a9cc-8f9c0febf752"
      },
      "outputs": [
        {
          "output_type": "execute_result",
          "data": {
            "text/plain": [
              "LinearRegression()"
            ]
          },
          "metadata": {},
          "execution_count": 32
        }
      ],
      "source": [
        "# code source:https://medium.com/@haydar_ai/learning-data-science-day-9-linear-regression-on-boston-housing-dataset-cd62a80775ef\n",
        "\n",
        "lm = LinearRegression()\n",
        "lm.fit(X_train, Y_train)"
      ]
    },
    {
      "cell_type": "code",
      "source": [
        "Y_pred = lm.predict(X_test)\n",
        "\n",
        "plt.scatter(Y_test, Y_pred)\n",
        "plt.xlabel(\"Actual GHI: $Y_i$\")\n",
        "plt.ylabel(\"Predicted GHI: $\\hat{Y}_i$\")\n",
        "plt.title(\"Actual GHI vs Predicted GHI: $Y_i$ vs $\\hat{Y}_i$\")\n",
        "plt.show()"
      ],
      "metadata": {
        "colab": {
          "base_uri": "https://localhost:8080/",
          "height": 305
        },
        "id": "GChdhNPTJoqG",
        "outputId": "14f68511-8314-4706-800a-3ed34ccb03e1"
      },
      "id": "GChdhNPTJoqG",
      "execution_count": 33,
      "outputs": [
        {
          "output_type": "display_data",
          "data": {
            "text/plain": [
              "<Figure size 432x288 with 1 Axes>"
            ],
            "image/png": "[encoded data removed]"
          },
          "metadata": {
            "needs_background": "light"
          }
        }
      ]
    },
    {
      "cell_type": "markdown",
      "id": "e0eafda7",
      "metadata": {
        "id": "e0eafda7"
      },
      "source": [
        "## Actual ghi 200 predicting it from 100 to 500, actual is 1000 predicting it as 400 to 1000"
      ]
    },
    {
      "cell_type": "code",
      "execution_count": 34,
      "id": "15ed6594",
      "metadata": {
        "colab": {
          "base_uri": "https://localhost:8080/",
          "height": 300
        },
        "id": "15ed6594",
        "outputId": "7aeece05-24f4-449e-ed94-51f91fae6aa3"
      },
      "outputs": [
        {
          "output_type": "stream",
          "name": "stderr",
          "text": [
            "/usr/local/lib/python3.7/dist-packages/seaborn/distributions.py:1699: FutureWarning: The `bw` parameter is deprecated in favor of `bw_method` and `bw_adjust`. Using 0.5 for `bw_method`, but please see the docs for the new parameters and update your code.\n",
            "  warnings.warn(msg, FutureWarning)\n"
          ]
        },
        {
          "output_type": "display_data",
          "data": {
            "text/plain": [
              "<Figure size 432x288 with 1 Axes>"
            ],
            "image/png": "[encoded data removed]"
          },
          "metadata": {}
        }
      ],
      "source": [
        "#delta_y is Actual GHI - Predicted GHI\n",
        "delta_y = Y_test - Y_pred\n",
        "sns.set_style('whitegrid')\n",
        "sns.kdeplot(np.array(delta_y), bw=0.5)\n",
        "plt.show()"
      ]
    },
    {
      "cell_type": "markdown",
      "id": "82eb9891",
      "metadata": {
        "id": "82eb9891"
      },
      "source": [
        "## Error distribution\n",
        "### delta_y is error, plotting the error distribution to see where maximum error points lie, the mean of error points lies around -10, maximum error is -10"
      ]
    },
    {
      "cell_type": "code",
      "execution_count": 36,
      "id": "d040475f",
      "metadata": {
        "scrolled": true,
        "colab": {
          "base_uri": "https://localhost:8080/"
        },
        "id": "d040475f",
        "outputId": "ce7e01a0-5ebf-44a9-baf6-0032b6c3318e"
      },
      "outputs": [
        {
          "output_type": "execute_result",
          "data": {
            "text/plain": [
              "<bound method NDFrame.head of 74823      86.720170\n",
              "898866   -114.345106\n",
              "651488    117.301420\n",
              "823028     60.079373\n",
              "64741       9.772376\n",
              "             ...    \n",
              "510693   -129.706363\n",
              "631951    -29.697217\n",
              "351841    -49.231434\n",
              "482486    -12.977328\n",
              "316410    115.093203\n",
              "Name: GHI, Length: 283824, dtype: float64>"
            ]
          },
          "metadata": {},
          "execution_count": 36
        }
      ],
      "source": [
        "#Here for each data point we are getting actual vs predicted\n",
        "delta_y.head"
      ]
    },
    {
      "cell_type": "code",
      "execution_count": 37,
      "id": "ea93e6a8",
      "metadata": {
        "colab": {
          "base_uri": "https://localhost:8080/",
          "height": 300
        },
        "id": "ea93e6a8",
        "outputId": "390d6f02-4b14-4c1a-9185-aa500a5c52f3"
      },
      "outputs": [
        {
          "output_type": "stream",
          "name": "stderr",
          "text": [
            "/usr/local/lib/python3.7/dist-packages/seaborn/distributions.py:1699: FutureWarning: The `bw` parameter is deprecated in favor of `bw_method` and `bw_adjust`. Using 0.5 for `bw_method`, but please see the docs for the new parameters and update your code.\n",
            "  warnings.warn(msg, FutureWarning)\n"
          ]
        },
        {
          "output_type": "display_data",
          "data": {
            "text/plain": [
              "<Figure size 432x288 with 1 Axes>"
            ],
            "image/png": "[encoded data removed]"
          },
          "metadata": {}
        }
      ],
      "source": [
        "sns.set_style('whitegrid')\n",
        "sns.kdeplot(np.array(Y_pred), bw=0.5)\n",
        "plt.show()"
      ]
    },
    {
      "cell_type": "markdown",
      "id": "697e2b1d",
      "metadata": {
        "id": "697e2b1d"
      },
      "source": [
        "## Actual distribution\n",
        "###  We need to align error distribution and actual distribution for best model by doing feature engineering. "
      ]
    },
    {
      "cell_type": "code",
      "execution_count": 38,
      "id": "02dc11c8",
      "metadata": {
        "colab": {
          "base_uri": "https://localhost:8080/"
        },
        "id": "02dc11c8",
        "outputId": "584150a2-639e-44b5-e6e0-68096af6b8ae"
      },
      "outputs": [
        {
          "output_type": "stream",
          "name": "stdout",
          "text": [
            "Model MAE 110.62458396222092\n",
            "Model MSE 18756.655841554904\n",
            "Model RMSE 136.95494091691216\n"
          ]
        }
      ],
      "source": [
        "from sklearn import metrics\n",
        "print(\"Model MAE\", metrics.mean_absolute_error(Y_test, Y_pred))\n",
        "print(\"Model MSE\", metrics.mean_squared_error(Y_test, Y_pred))\n",
        "print(\"Model RMSE\",np.sqrt(metrics.mean_squared_error(Y_test, Y_pred)))"
      ]
    },
    {
      "cell_type": "code",
      "execution_count": 39,
      "id": "4f0179cd",
      "metadata": {
        "colab": {
          "base_uri": "https://localhost:8080/"
        },
        "id": "4f0179cd",
        "outputId": "9856101b-0f21-450c-dfc0-704e2aef9c17"
      },
      "outputs": [
        {
          "output_type": "stream",
          "name": "stdout",
          "text": [
            "Coefficient of Determination R2 0.7973051774616631\n"
          ]
        }
      ],
      "source": [
        "from sklearn.metrics import r2_score \n",
        "R_square = r2_score(Y_test, Y_pred) \n",
        "print('Coefficient of Determination R2', R_square) "
      ]
    },
    {
      "cell_type": "markdown",
      "source": [],
      "metadata": {
        "id": "BFkZgVNEKK32"
      },
      "id": "BFkZgVNEKK32"
    },
    {
      "cell_type": "markdown",
      "source": [
        "## Test"
      ],
      "metadata": {
        "id": "cRUJmV5DKK7K"
      },
      "id": "cRUJmV5DKK7K"
    },
    {
      "cell_type": "code",
      "source": [
        "import pandas as pd\n",
        "df=pd.read_csv('/content/fostercity_transformed_combined.csv')\n",
        "fostercity = df.drop(columns='Unnamed: 0')\n",
        "fostertest_final = fostercity.dropna()\n"
      ],
      "metadata": {
        "id": "UFnASzJ8KFCG"
      },
      "id": "UFnASzJ8KFCG",
      "execution_count": 40,
      "outputs": []
    },
    {
      "cell_type": "code",
      "source": [
        "actual = df['GHI']\n",
        "actual "
      ],
      "metadata": {
        "colab": {
          "base_uri": "https://localhost:8080/"
        },
        "id": "IRmFI61mK7mE",
        "outputId": "34ed5257-10df-4cf7-dd26-b01baca51c1f"
      },
      "id": "IRmFI61mK7mE",
      "execution_count": 44,
      "outputs": [
        {
          "output_type": "execute_result",
          "data": {
            "text/plain": [
              "0        0.0\n",
              "1        0.0\n",
              "2        0.0\n",
              "3        0.0\n",
              "4        0.0\n",
              "        ... \n",
              "35037    0.0\n",
              "35038    0.0\n",
              "35039    0.0\n",
              "35040    0.0\n",
              "35041    0.0\n",
              "Name: GHI, Length: 35042, dtype: float64"
            ]
          },
          "metadata": {},
          "execution_count": 44
        }
      ]
    },
    {
      "cell_type": "code",
      "source": [
        "fostertest_final.isnull().sum()"
      ],
      "metadata": {
        "colab": {
          "base_uri": "https://localhost:8080/"
        },
        "id": "dvog1d-jKFFb",
        "outputId": "75c82a67-16b4-41f6-8502-646a95a7a5f1"
      },
      "id": "dvog1d-jKFFb",
      "execution_count": 41,
      "outputs": [
        {
          "output_type": "execute_result",
          "data": {
            "text/plain": [
              "Year                  0\n",
              "Month                 0\n",
              "Day                   0\n",
              "Hour                  0\n",
              "Minute                0\n",
              "Temperature           0\n",
              "Cloud_Type            0\n",
              "Dew_Point             0\n",
              "GHI                   0\n",
              "Relative_Humidity     0\n",
              "Solar_Zenith_Angle    0\n",
              "Surface_Albedo        0\n",
              "Pressure              0\n",
              "Precipitable_Water    0\n",
              "Wind_Direction        0\n",
              "Wind_Speed            0\n",
              "Location              0\n",
              "dtype: int64"
            ]
          },
          "metadata": {},
          "execution_count": 41
        }
      ]
    },
    {
      "cell_type": "code",
      "source": [
        "input_data= fostertest_final.drop(columns='GHI')\n",
        "from sklearn.preprocessing import StandardScaler\n",
        "#Normalize the dataset\n",
        "sc = StandardScaler()\n",
        "input_nor = sc.fit_transform(input_data)"
      ],
      "metadata": {
        "id": "-q1n8utwKFIb"
      },
      "id": "-q1n8utwKFIb",
      "execution_count": 42,
      "outputs": []
    },
    {
      "cell_type": "code",
      "source": [
        "y_pred1=lm.predict(input_nor)"
      ],
      "metadata": {
        "id": "C9mjjN5mKFLb"
      },
      "id": "C9mjjN5mKFLb",
      "execution_count": 43,
      "outputs": []
    },
    {
      "cell_type": "code",
      "source": [
        "predicted =pd.DataFrame(y_pred1)\n",
        "type(predicted)"
      ],
      "metadata": {
        "colab": {
          "base_uri": "https://localhost:8080/"
        },
        "id": "ccBD_Fa2LwQy",
        "outputId": "6ba8d414-d00c-4676-c6e0-4d478f243e0a"
      },
      "id": "ccBD_Fa2LwQy",
      "execution_count": 48,
      "outputs": [
        {
          "output_type": "execute_result",
          "data": {
            "text/plain": [
              "pandas.core.frame.DataFrame"
            ]
          },
          "metadata": {},
          "execution_count": 48
        }
      ]
    },
    {
      "cell_type": "code",
      "source": [
        "actual"
      ],
      "metadata": {
        "colab": {
          "base_uri": "https://localhost:8080/"
        },
        "id": "bYb4i8VlMLff",
        "outputId": "342f68fa-7c20-4bee-f9ec-94b1845c27ec"
      },
      "id": "bYb4i8VlMLff",
      "execution_count": 52,
      "outputs": [
        {
          "output_type": "execute_result",
          "data": {
            "text/plain": [
              "0        0.0\n",
              "1        0.0\n",
              "2        0.0\n",
              "3        0.0\n",
              "4        0.0\n",
              "        ... \n",
              "35037    0.0\n",
              "35038    0.0\n",
              "35039    0.0\n",
              "35040    0.0\n",
              "35041    0.0\n",
              "Name: GHI, Length: 35042, dtype: float64"
            ]
          },
          "metadata": {},
          "execution_count": 52
        }
      ]
    },
    {
      "cell_type": "code",
      "source": [
        "predicted"
      ],
      "metadata": {
        "colab": {
          "base_uri": "https://localhost:8080/",
          "height": 424
        },
        "id": "3rLXWxrZMI0G",
        "outputId": "444a9d7d-9ee2-4410-900d-07320aeeaa91"
      },
      "id": "3rLXWxrZMI0G",
      "execution_count": 51,
      "outputs": [
        {
          "output_type": "execute_result",
          "data": {
            "text/plain": [
              "                 0\n",
              "0      -929.817359\n",
              "1      -954.585930\n",
              "2      -891.780937\n",
              "3      -804.502096\n",
              "4      -704.474164\n",
              "...            ...\n",
              "35035 -1114.616058\n",
              "35036 -1359.758400\n",
              "35037 -1469.230718\n",
              "35038 -1603.657244\n",
              "35039 -1656.505798\n",
              "\n",
              "[35040 rows x 1 columns]"
            ],
            "text/html": [
              "\n",
              "  <div id=\"df-67e2d86d-df0b-45d9-8696-088f5d1996c0\">\n",
              "    <div class=\"colab-df-container\">\n",
              "      <div>\n",
              "<style scoped>\n",
              "    .dataframe tbody tr th:only-of-type {\n",
              "        vertical-align: middle;\n",
              "    }\n",
              "\n",
              "    .dataframe tbody tr th {\n",
              "        vertical-align: top;\n",
              "    }\n",
              "\n",
              "    .dataframe thead th {\n",
              "        text-align: right;\n",
              "    }\n",
              "</style>\n",
              "<table border=\"1\" class=\"dataframe\">\n",
              "  <thead>\n",
              "    <tr style=\"text-align: right;\">\n",
              "      <th></th>\n",
              "      <th>0</th>\n",
              "    </tr>\n",
              "  </thead>\n",
              "  <tbody>\n",
              "    <tr>\n",
              "      <th>0</th>\n",
              "      <td>-929.817359</td>\n",
              "    </tr>\n",
              "    <tr>\n",
              "      <th>1</th>\n",
              "      <td>-954.585930</td>\n",
              "    </tr>\n",
              "    <tr>\n",
              "      <th>2</th>\n",
              "      <td>-891.780937</td>\n",
              "    </tr>\n",
              "    <tr>\n",
              "      <th>3</th>\n",
              "      <td>-804.502096</td>\n",
              "    </tr>\n",
              "    <tr>\n",
              "      <th>4</th>\n",
              "      <td>-704.474164</td>\n",
              "    </tr>\n",
              "    <tr>\n",
              "      <th>...</th>\n",
              "      <td>...</td>\n",
              "    </tr>\n",
              "    <tr>\n",
              "      <th>35035</th>\n",
              "      <td>-1114.616058</td>\n",
              "    </tr>\n",
              "    <tr>\n",
              "      <th>35036</th>\n",
              "      <td>-1359.758400</td>\n",
              "    </tr>\n",
              "    <tr>\n",
              "      <th>35037</th>\n",
              "      <td>-1469.230718</td>\n",
              "    </tr>\n",
              "    <tr>\n",
              "      <th>35038</th>\n",
              "      <td>-1603.657244</td>\n",
              "    </tr>\n",
              "    <tr>\n",
              "      <th>35039</th>\n",
              "      <td>-1656.505798</td>\n",
              "    </tr>\n",
              "  </tbody>\n",
              "</table>\n",
              "<p>35040 rows × 1 columns</p>\n",
              "</div>\n",
              "      <button class=\"colab-df-convert\" onclick=\"convertToInteractive('df-67e2d86d-df0b-45d9-8696-088f5d1996c0')\"\n",
              "              title=\"Convert this dataframe to an interactive table.\"\n",
              "              style=\"display:none;\">\n",
              "        \n",
              "  <svg xmlns=\"http://www.w3.org/2000/svg\" height=\"24px\"viewBox=\"0 0 24 24\"\n",
              "       width=\"24px\">\n",
              "    <path d=\"M0 0h24v24H0V0z\" fill=\"none\"/>\n",
              "    <path d=\"M18.56 5.44l.94 2.06.94-2.06 2.06-.94-2.06-.94-.94-2.06-.94 2.06-2.06.94zm-11 1L8.5 8.5l.94-2.06 2.06-.94-2.06-.94L8.5 2.5l-.94 2.06-2.06.94zm10 10l.94 2.06.94-2.06 2.06-.94-2.06-.94-.94-2.06-.94 2.06-2.06.94z\"/><path d=\"M17.41 7.96l-1.37-1.37c-.4-.4-.92-.59-1.43-.59-.52 0-1.04.2-1.43.59L10.3 9.45l-7.72 7.72c-.78.78-.78 2.05 0 2.83L4 21.41c.39.39.9.59 1.41.59.51 0 1.02-.2 1.41-.59l7.78-7.78 2.81-2.81c.8-.78.8-2.07 0-2.86zM5.41 20L4 18.59l7.72-7.72 1.47 1.35L5.41 20z\"/>\n",
              "  </svg>\n",
              "      </button>\n",
              "      \n",
              "  <style>\n",
              "    .colab-df-container {\n",
              "      display:flex;\n",
              "      flex-wrap:wrap;\n",
              "      gap: 12px;\n",
              "    }\n",
              "\n",
              "    .colab-df-convert {\n",
              "      background-color: #E8F0FE;\n",
              "      border: none;\n",
              "      border-radius: 50%;\n",
              "      cursor: pointer;\n",
              "      display: none;\n",
              "      fill: #1967D2;\n",
              "      height: 32px;\n",
              "      padding: 0 0 0 0;\n",
              "      width: 32px;\n",
              "    }\n",
              "\n",
              "    .colab-df-convert:hover {\n",
              "      background-color: #E2EBFA;\n",
              "      box-shadow: 0px 1px 2px rgba(60, 64, 67, 0.3), 0px 1px 3px 1px rgba(60, 64, 67, 0.15);\n",
              "      fill: #174EA6;\n",
              "    }\n",
              "\n",
              "    [theme=dark] .colab-df-convert {\n",
              "      background-color: #3B4455;\n",
              "      fill: #D2E3FC;\n",
              "    }\n",
              "\n",
              "    [theme=dark] .colab-df-convert:hover {\n",
              "      background-color: #434B5C;\n",
              "      box-shadow: 0px 1px 3px 1px rgba(0, 0, 0, 0.15);\n",
              "      filter: drop-shadow(0px 1px 2px rgba(0, 0, 0, 0.3));\n",
              "      fill: #FFFFFF;\n",
              "    }\n",
              "  </style>\n",
              "\n",
              "      <script>\n",
              "        const buttonEl =\n",
              "          document.querySelector('#df-67e2d86d-df0b-45d9-8696-088f5d1996c0 button.colab-df-convert');\n",
              "        buttonEl.style.display =\n",
              "          google.colab.kernel.accessAllowed ? 'block' : 'none';\n",
              "\n",
              "        async function convertToInteractive(key) {\n",
              "          const element = document.querySelector('#df-67e2d86d-df0b-45d9-8696-088f5d1996c0');\n",
              "          const dataTable =\n",
              "            await google.colab.kernel.invokeFunction('convertToInteractive',\n",
              "                                                     [key], {});\n",
              "          if (!dataTable) return;\n",
              "\n",
              "          const docLinkHtml = 'Like what you see? Visit the ' +\n",
              "            '<a target=\"_blank\" href=https://colab.research.google.com/notebooks/data_table.ipynb>data table notebook</a>'\n",
              "            + ' to learn more about interactive tables.';\n",
              "          element.innerHTML = '';\n",
              "          dataTable['output_type'] = 'display_data';\n",
              "          await google.colab.output.renderOutput(dataTable, element);\n",
              "          const docLink = document.createElement('div');\n",
              "          docLink.innerHTML = docLinkHtml;\n",
              "          element.appendChild(docLink);\n",
              "        }\n",
              "      </script>\n",
              "    </div>\n",
              "  </div>\n",
              "  "
            ]
          },
          "metadata": {},
          "execution_count": 51
        }
      ]
    },
    {
      "cell_type": "code",
      "source": [
        "\"\"\"plt.scatter(actual, predicted)\n",
        "plt.xlabel(\"Actual GHI: $Y_i$\")\n",
        "plt.ylabel(\"Predicted GHI: $\\hat{Y}_i$\")\n",
        "plt.title(\"Actual GHI vs Predicted GHI: $Y_i$ vs $\\hat{Y}_i$\")\n",
        "plt.show()\"\"\""
      ],
      "metadata": {
        "colab": {
          "base_uri": "https://localhost:8080/",
          "height": 36
        },
        "id": "sHicVNMOKFOz",
        "outputId": "afad9b80-28ac-4946-e1c9-42aee6c70f56"
      },
      "id": "sHicVNMOKFOz",
      "execution_count": 53,
      "outputs": [
        {
          "output_type": "execute_result",
          "data": {
            "text/plain": [
              "'plt.scatter(actual, predicted)\\nplt.xlabel(\"Actual GHI: $Y_i$\")\\nplt.ylabel(\"Predicted GHI: $\\\\hat{Y}_i$\")\\nplt.title(\"Actual GHI vs Predicted GHI: $Y_i$ vs $\\\\hat{Y}_i$\")\\nplt.show()'"
            ],
            "application/vnd.google.colaboratory.intrinsic+json": {
              "type": "string"
            }
          },
          "metadata": {},
          "execution_count": 53
        }
      ]
    }
  ],
  "metadata": {
    "kernelspec": {
      "display_name": "Python 3 (ipykernel)",
      "language": "python",
      "name": "python3"
    },
    "language_info": {
      "codemirror_mode": {
        "name": "ipython",
        "version": 3
      },
      "file_extension": ".py",
      "mimetype": "text/x-python",
      "name": "python",
      "nbconvert_exporter": "python",
      "pygments_lexer": "ipython3",
      "version": "3.9.7"
    },
    "colab": {
      "provenance": [],
      "include_colab_link": true
    }
  },
  "nbformat": 4,
  "nbformat_minor": 5
}