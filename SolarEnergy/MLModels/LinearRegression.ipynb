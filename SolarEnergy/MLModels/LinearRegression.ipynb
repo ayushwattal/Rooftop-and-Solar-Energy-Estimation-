{
  "cells": [
    {
      "cell_type": "markdown",
      "metadata": {
        "id": "view-in-github",
        "colab_type": "text"
      },
      "source": [
        "<a href=\"https://colab.research.google.com/github/snvssk/data298A/blob/development/SolarEnergy/MLModels/LinearRegression.ipynb\" target=\"_parent\"><img src=\"https://colab.research.google.com/assets/colab-badge.svg\" alt=\"Open In Colab\"/></a>"
      ]
    },
    {
      "cell_type": "code",
      "execution_count": 1,
      "id": "05244d03",
      "metadata": {
        "id": "05244d03"
      },
      "outputs": [],
      "source": [
        "import pandas as pd\n",
        "from sklearn.preprocessing import MinMaxScaler\n",
        "import sklearn\n",
        "from sklearn.model_selection import train_test_split\n",
        "from sklearn.linear_model import LinearRegression\n",
        "import matplotlib.pyplot as plt\n",
        "import seaborn as sns\n",
        "import numpy as np"
      ]
    },
    {
      "cell_type": "code",
      "source": [
        "from google.colab import drive\n",
        "drive.mount('/content/drive')"
      ],
      "metadata": {
        "id": "wJzoUNEuEb27",
        "outputId": "c17b56cb-0fd1-471a-c2a9-50c4c20dcbcf",
        "colab": {
          "base_uri": "https://localhost:8080/"
        }
      },
      "id": "wJzoUNEuEb27",
      "execution_count": 2,
      "outputs": [
        {
          "output_type": "stream",
          "name": "stdout",
          "text": [
            "Mounted at /content/drive\n"
          ]
        }
      ]
    },
    {
      "cell_type": "code",
      "execution_count": 23,
      "id": "253839d3",
      "metadata": {
        "id": "253839d3"
      },
      "outputs": [],
      "source": [
        "#nsrdb = read_and_preprocess()#nsrdb has nd array all weather data\n",
        "df = pd.read_csv('/content/drive/Shareddrives/DATA298/WeatherData/FinalWeatherData/all_cities_transformed_combined.csv')"
      ]
    },
    {
      "cell_type": "code",
      "source": [
        "# nsrdb_na = df.drop(columns='Unnamed: 0')\n",
        "nsrdb_na = df.copy()\n",
        "#null_rows = nsrdb_na[nsrdb_na.isna().any(axis=1)]\n",
        "#null_rows\n",
        "nsrdb_na.isnull().sum()\n",
        "#nsrdb_na.columns\n",
        "#nsrdb_na['GHI'].isnull().values.sum()\n",
        "nsrdb = nsrdb_na.dropna()\n",
        "#print(nsrdb)\n",
        "nsrdb.isnull().sum()"
      ],
      "metadata": {
        "id": "uJZdzyd1FWSO",
        "outputId": "b30f3a79-bf31-492c-876c-3fe79e4b1395",
        "colab": {
          "base_uri": "https://localhost:8080/"
        }
      },
      "id": "uJZdzyd1FWSO",
      "execution_count": 24,
      "outputs": [
        {
          "output_type": "execute_result",
          "data": {
            "text/plain": [
              "Unnamed: 0            0\n",
              "Year                  0\n",
              "Month                 0\n",
              "Day                   0\n",
              "Hour                  0\n",
              "Minute                0\n",
              "Temperature           0\n",
              "Cloud_Type            0\n",
              "Dew_Point             0\n",
              "GHI                   0\n",
              "Relative_Humidity     0\n",
              "Solar_Zenith_Angle    0\n",
              "Surface_Albedo        0\n",
              "Pressure              0\n",
              "Precipitable_Water    0\n",
              "Wind_Direction        0\n",
              "Wind_Speed            0\n",
              "Location              0\n",
              "dtype: int64"
            ]
          },
          "metadata": {},
          "execution_count": 24
        }
      ]
    },
    {
      "cell_type": "code",
      "source": [
        "nsrdb = nsrdb.loc[(nsrdb['Hour'].isin([12,8,16])) & (nsrdb['Minute'] == 0)]\n",
        "nsrdb= nsrdb.drop(['Unnamed: 0'], axis=1)\n",
        "nsrdb"
      ],
      "metadata": {
        "id": "oMDfK4fYFWVR",
        "outputId": "7706b407-377e-42f1-f0b9-2d47ecbc4230",
        "colab": {
          "base_uri": "https://localhost:8080/",
          "height": 488
        }
      },
      "id": "oMDfK4fYFWVR",
      "execution_count": 25,
      "outputs": [
        {
          "output_type": "execute_result",
          "data": {
            "text/plain": [
              "          Year  Month   Day  Hour  Minute  Temperature  Cloud_Type  Dew_Point  \\\n",
              "16      2018.0    1.0   1.0   8.0     0.0         10.7         4.0        9.0   \n",
              "24      2018.0    1.0   1.0  12.0     0.0         16.8         7.0        8.9   \n",
              "32      2018.0    1.0   1.0  16.0     0.0         15.4         7.0        9.2   \n",
              "64      2018.0    1.0   2.0   8.0     0.0         12.2         6.0        8.2   \n",
              "72      2018.0    1.0   2.0  12.0     0.0         18.5         6.0        8.4   \n",
              "...        ...    ...   ...   ...     ...          ...         ...        ...   \n",
              "946114  2013.0   12.0  30.0  12.0     0.0         18.0         0.0        2.0   \n",
              "946122  2013.0   12.0  30.0  16.0     0.0         14.0         7.0        6.0   \n",
              "946154  2013.0   12.0  31.0   8.0     0.0         10.0         4.0        8.0   \n",
              "946162  2013.0   12.0  31.0  12.0     0.0         16.0         0.0        5.0   \n",
              "946170  2013.0   12.0  31.0  16.0     0.0          7.0         4.0        1.0   \n",
              "\n",
              "          GHI  Relative_Humidity  Solar_Zenith_Angle  Surface_Albedo  \\\n",
              "16       46.0              88.99               84.37           0.100   \n",
              "24      430.0              59.51               60.35           0.100   \n",
              "32      114.0              66.62               80.55           0.100   \n",
              "64       33.0              76.49               84.38           0.100   \n",
              "72      135.0              51.75               60.26           0.100   \n",
              "...       ...                ...                 ...             ...   \n",
              "946114  518.0              39.99               60.49           0.111   \n",
              "946122   63.0              70.37               80.93           0.111   \n",
              "946154   36.0              98.80               84.43           0.111   \n",
              "946162  506.0              51.64               60.42           0.111   \n",
              "946170   84.0              73.84               80.77           0.113   \n",
              "\n",
              "        Pressure  Precipitable_Water  Wind_Direction  Wind_Speed  Location  \n",
              "16        1025.0               1.800           347.0         0.7  117987.0  \n",
              "24        1025.0               1.800            25.0         1.1  117987.0  \n",
              "32        1023.0               1.800            14.0         0.8  117987.0  \n",
              "64        1024.0               1.800            89.0         1.1  117987.0  \n",
              "72        1023.0               2.000            58.0         1.2  117987.0  \n",
              "...          ...                 ...             ...         ...       ...  \n",
              "946114    1020.0               0.831           182.5         1.2  117546.0  \n",
              "946122    1020.0               0.994           266.4         1.0  117546.0  \n",
              "946154    1020.0               1.310           234.9         0.3  117546.0  \n",
              "946162    1020.0               1.344            49.9         1.2  117546.0  \n",
              "946170    1020.0               0.999           343.0         0.8  117546.0  \n",
              "\n",
              "[59130 rows x 17 columns]"
            ],
            "text/html": [
              "\n",
              "  <div id=\"df-2d61b115-a22d-4300-8e7d-591902fdcb4f\">\n",
              "    <div class=\"colab-df-container\">\n",
              "      <div>\n",
              "<style scoped>\n",
              "    .dataframe tbody tr th:only-of-type {\n",
              "        vertical-align: middle;\n",
              "    }\n",
              "\n",
              "    .dataframe tbody tr th {\n",
              "        vertical-align: top;\n",
              "    }\n",
              "\n",
              "    .dataframe thead th {\n",
              "        text-align: right;\n",
              "    }\n",
              "</style>\n",
              "<table border=\"1\" class=\"dataframe\">\n",
              "  <thead>\n",
              "    <tr style=\"text-align: right;\">\n",
              "      <th></th>\n",
              "      <th>Year</th>\n",
              "      <th>Month</th>\n",
              "      <th>Day</th>\n",
              "      <th>Hour</th>\n",
              "      <th>Minute</th>\n",
              "      <th>Temperature</th>\n",
              "      <th>Cloud_Type</th>\n",
              "      <th>Dew_Point</th>\n",
              "      <th>GHI</th>\n",
              "      <th>Relative_Humidity</th>\n",
              "      <th>Solar_Zenith_Angle</th>\n",
              "      <th>Surface_Albedo</th>\n",
              "      <th>Pressure</th>\n",
              "      <th>Precipitable_Water</th>\n",
              "      <th>Wind_Direction</th>\n",
              "      <th>Wind_Speed</th>\n",
              "      <th>Location</th>\n",
              "    </tr>\n",
              "  </thead>\n",
              "  <tbody>\n",
              "    <tr>\n",
              "      <th>16</th>\n",
              "      <td>2018.0</td>\n",
              "      <td>1.0</td>\n",
              "      <td>1.0</td>\n",
              "      <td>8.0</td>\n",
              "      <td>0.0</td>\n",
              "      <td>10.7</td>\n",
              "      <td>4.0</td>\n",
              "      <td>9.0</td>\n",
              "      <td>46.0</td>\n",
              "      <td>88.99</td>\n",
              "      <td>84.37</td>\n",
              "      <td>0.100</td>\n",
              "      <td>1025.0</td>\n",
              "      <td>1.800</td>\n",
              "      <td>347.0</td>\n",
              "      <td>0.7</td>\n",
              "      <td>117987.0</td>\n",
              "    </tr>\n",
              "    <tr>\n",
              "      <th>24</th>\n",
              "      <td>2018.0</td>\n",
              "      <td>1.0</td>\n",
              "      <td>1.0</td>\n",
              "      <td>12.0</td>\n",
              "      <td>0.0</td>\n",
              "      <td>16.8</td>\n",
              "      <td>7.0</td>\n",
              "      <td>8.9</td>\n",
              "      <td>430.0</td>\n",
              "      <td>59.51</td>\n",
              "      <td>60.35</td>\n",
              "      <td>0.100</td>\n",
              "      <td>1025.0</td>\n",
              "      <td>1.800</td>\n",
              "      <td>25.0</td>\n",
              "      <td>1.1</td>\n",
              "      <td>117987.0</td>\n",
              "    </tr>\n",
              "    <tr>\n",
              "      <th>32</th>\n",
              "      <td>2018.0</td>\n",
              "      <td>1.0</td>\n",
              "      <td>1.0</td>\n",
              "      <td>16.0</td>\n",
              "      <td>0.0</td>\n",
              "      <td>15.4</td>\n",
              "      <td>7.0</td>\n",
              "      <td>9.2</td>\n",
              "      <td>114.0</td>\n",
              "      <td>66.62</td>\n",
              "      <td>80.55</td>\n",
              "      <td>0.100</td>\n",
              "      <td>1023.0</td>\n",
              "      <td>1.800</td>\n",
              "      <td>14.0</td>\n",
              "      <td>0.8</td>\n",
              "      <td>117987.0</td>\n",
              "    </tr>\n",
              "    <tr>\n",
              "      <th>64</th>\n",
              "      <td>2018.0</td>\n",
              "      <td>1.0</td>\n",
              "      <td>2.0</td>\n",
              "      <td>8.0</td>\n",
              "      <td>0.0</td>\n",
              "      <td>12.2</td>\n",
              "      <td>6.0</td>\n",
              "      <td>8.2</td>\n",
              "      <td>33.0</td>\n",
              "      <td>76.49</td>\n",
              "      <td>84.38</td>\n",
              "      <td>0.100</td>\n",
              "      <td>1024.0</td>\n",
              "      <td>1.800</td>\n",
              "      <td>89.0</td>\n",
              "      <td>1.1</td>\n",
              "      <td>117987.0</td>\n",
              "    </tr>\n",
              "    <tr>\n",
              "      <th>72</th>\n",
              "      <td>2018.0</td>\n",
              "      <td>1.0</td>\n",
              "      <td>2.0</td>\n",
              "      <td>12.0</td>\n",
              "      <td>0.0</td>\n",
              "      <td>18.5</td>\n",
              "      <td>6.0</td>\n",
              "      <td>8.4</td>\n",
              "      <td>135.0</td>\n",
              "      <td>51.75</td>\n",
              "      <td>60.26</td>\n",
              "      <td>0.100</td>\n",
              "      <td>1023.0</td>\n",
              "      <td>2.000</td>\n",
              "      <td>58.0</td>\n",
              "      <td>1.2</td>\n",
              "      <td>117987.0</td>\n",
              "    </tr>\n",
              "    <tr>\n",
              "      <th>...</th>\n",
              "      <td>...</td>\n",
              "      <td>...</td>\n",
              "      <td>...</td>\n",
              "      <td>...</td>\n",
              "      <td>...</td>\n",
              "      <td>...</td>\n",
              "      <td>...</td>\n",
              "      <td>...</td>\n",
              "      <td>...</td>\n",
              "      <td>...</td>\n",
              "      <td>...</td>\n",
              "      <td>...</td>\n",
              "      <td>...</td>\n",
              "      <td>...</td>\n",
              "      <td>...</td>\n",
              "      <td>...</td>\n",
              "      <td>...</td>\n",
              "    </tr>\n",
              "    <tr>\n",
              "      <th>946114</th>\n",
              "      <td>2013.0</td>\n",
              "      <td>12.0</td>\n",
              "      <td>30.0</td>\n",
              "      <td>12.0</td>\n",
              "      <td>0.0</td>\n",
              "      <td>18.0</td>\n",
              "      <td>0.0</td>\n",
              "      <td>2.0</td>\n",
              "      <td>518.0</td>\n",
              "      <td>39.99</td>\n",
              "      <td>60.49</td>\n",
              "      <td>0.111</td>\n",
              "      <td>1020.0</td>\n",
              "      <td>0.831</td>\n",
              "      <td>182.5</td>\n",
              "      <td>1.2</td>\n",
              "      <td>117546.0</td>\n",
              "    </tr>\n",
              "    <tr>\n",
              "      <th>946122</th>\n",
              "      <td>2013.0</td>\n",
              "      <td>12.0</td>\n",
              "      <td>30.0</td>\n",
              "      <td>16.0</td>\n",
              "      <td>0.0</td>\n",
              "      <td>14.0</td>\n",
              "      <td>7.0</td>\n",
              "      <td>6.0</td>\n",
              "      <td>63.0</td>\n",
              "      <td>70.37</td>\n",
              "      <td>80.93</td>\n",
              "      <td>0.111</td>\n",
              "      <td>1020.0</td>\n",
              "      <td>0.994</td>\n",
              "      <td>266.4</td>\n",
              "      <td>1.0</td>\n",
              "      <td>117546.0</td>\n",
              "    </tr>\n",
              "    <tr>\n",
              "      <th>946154</th>\n",
              "      <td>2013.0</td>\n",
              "      <td>12.0</td>\n",
              "      <td>31.0</td>\n",
              "      <td>8.0</td>\n",
              "      <td>0.0</td>\n",
              "      <td>10.0</td>\n",
              "      <td>4.0</td>\n",
              "      <td>8.0</td>\n",
              "      <td>36.0</td>\n",
              "      <td>98.80</td>\n",
              "      <td>84.43</td>\n",
              "      <td>0.111</td>\n",
              "      <td>1020.0</td>\n",
              "      <td>1.310</td>\n",
              "      <td>234.9</td>\n",
              "      <td>0.3</td>\n",
              "      <td>117546.0</td>\n",
              "    </tr>\n",
              "    <tr>\n",
              "      <th>946162</th>\n",
              "      <td>2013.0</td>\n",
              "      <td>12.0</td>\n",
              "      <td>31.0</td>\n",
              "      <td>12.0</td>\n",
              "      <td>0.0</td>\n",
              "      <td>16.0</td>\n",
              "      <td>0.0</td>\n",
              "      <td>5.0</td>\n",
              "      <td>506.0</td>\n",
              "      <td>51.64</td>\n",
              "      <td>60.42</td>\n",
              "      <td>0.111</td>\n",
              "      <td>1020.0</td>\n",
              "      <td>1.344</td>\n",
              "      <td>49.9</td>\n",
              "      <td>1.2</td>\n",
              "      <td>117546.0</td>\n",
              "    </tr>\n",
              "    <tr>\n",
              "      <th>946170</th>\n",
              "      <td>2013.0</td>\n",
              "      <td>12.0</td>\n",
              "      <td>31.0</td>\n",
              "      <td>16.0</td>\n",
              "      <td>0.0</td>\n",
              "      <td>7.0</td>\n",
              "      <td>4.0</td>\n",
              "      <td>1.0</td>\n",
              "      <td>84.0</td>\n",
              "      <td>73.84</td>\n",
              "      <td>80.77</td>\n",
              "      <td>0.113</td>\n",
              "      <td>1020.0</td>\n",
              "      <td>0.999</td>\n",
              "      <td>343.0</td>\n",
              "      <td>0.8</td>\n",
              "      <td>117546.0</td>\n",
              "    </tr>\n",
              "  </tbody>\n",
              "</table>\n",
              "<p>59130 rows × 17 columns</p>\n",
              "</div>\n",
              "      <button class=\"colab-df-convert\" onclick=\"convertToInteractive('df-2d61b115-a22d-4300-8e7d-591902fdcb4f')\"\n",
              "              title=\"Convert this dataframe to an interactive table.\"\n",
              "              style=\"display:none;\">\n",
              "        \n",
              "  <svg xmlns=\"http://www.w3.org/2000/svg\" height=\"24px\"viewBox=\"0 0 24 24\"\n",
              "       width=\"24px\">\n",
              "    <path d=\"M0 0h24v24H0V0z\" fill=\"none\"/>\n",
              "    <path d=\"M18.56 5.44l.94 2.06.94-2.06 2.06-.94-2.06-.94-.94-2.06-.94 2.06-2.06.94zm-11 1L8.5 8.5l.94-2.06 2.06-.94-2.06-.94L8.5 2.5l-.94 2.06-2.06.94zm10 10l.94 2.06.94-2.06 2.06-.94-2.06-.94-.94-2.06-.94 2.06-2.06.94z\"/><path d=\"M17.41 7.96l-1.37-1.37c-.4-.4-.92-.59-1.43-.59-.52 0-1.04.2-1.43.59L10.3 9.45l-7.72 7.72c-.78.78-.78 2.05 0 2.83L4 21.41c.39.39.9.59 1.41.59.51 0 1.02-.2 1.41-.59l7.78-7.78 2.81-2.81c.8-.78.8-2.07 0-2.86zM5.41 20L4 18.59l7.72-7.72 1.47 1.35L5.41 20z\"/>\n",
              "  </svg>\n",
              "      </button>\n",
              "      \n",
              "  <style>\n",
              "    .colab-df-container {\n",
              "      display:flex;\n",
              "      flex-wrap:wrap;\n",
              "      gap: 12px;\n",
              "    }\n",
              "\n",
              "    .colab-df-convert {\n",
              "      background-color: #E8F0FE;\n",
              "      border: none;\n",
              "      border-radius: 50%;\n",
              "      cursor: pointer;\n",
              "      display: none;\n",
              "      fill: #1967D2;\n",
              "      height: 32px;\n",
              "      padding: 0 0 0 0;\n",
              "      width: 32px;\n",
              "    }\n",
              "\n",
              "    .colab-df-convert:hover {\n",
              "      background-color: #E2EBFA;\n",
              "      box-shadow: 0px 1px 2px rgba(60, 64, 67, 0.3), 0px 1px 3px 1px rgba(60, 64, 67, 0.15);\n",
              "      fill: #174EA6;\n",
              "    }\n",
              "\n",
              "    [theme=dark] .colab-df-convert {\n",
              "      background-color: #3B4455;\n",
              "      fill: #D2E3FC;\n",
              "    }\n",
              "\n",
              "    [theme=dark] .colab-df-convert:hover {\n",
              "      background-color: #434B5C;\n",
              "      box-shadow: 0px 1px 3px 1px rgba(0, 0, 0, 0.15);\n",
              "      filter: drop-shadow(0px 1px 2px rgba(0, 0, 0, 0.3));\n",
              "      fill: #FFFFFF;\n",
              "    }\n",
              "  </style>\n",
              "\n",
              "      <script>\n",
              "        const buttonEl =\n",
              "          document.querySelector('#df-2d61b115-a22d-4300-8e7d-591902fdcb4f button.colab-df-convert');\n",
              "        buttonEl.style.display =\n",
              "          google.colab.kernel.accessAllowed ? 'block' : 'none';\n",
              "\n",
              "        async function convertToInteractive(key) {\n",
              "          const element = document.querySelector('#df-2d61b115-a22d-4300-8e7d-591902fdcb4f');\n",
              "          const dataTable =\n",
              "            await google.colab.kernel.invokeFunction('convertToInteractive',\n",
              "                                                     [key], {});\n",
              "          if (!dataTable) return;\n",
              "\n",
              "          const docLinkHtml = 'Like what you see? Visit the ' +\n",
              "            '<a target=\"_blank\" href=https://colab.research.google.com/notebooks/data_table.ipynb>data table notebook</a>'\n",
              "            + ' to learn more about interactive tables.';\n",
              "          element.innerHTML = '';\n",
              "          dataTable['output_type'] = 'display_data';\n",
              "          await google.colab.output.renderOutput(dataTable, element);\n",
              "          const docLink = document.createElement('div');\n",
              "          docLink.innerHTML = docLinkHtml;\n",
              "          element.appendChild(docLink);\n",
              "        }\n",
              "      </script>\n",
              "    </div>\n",
              "  </div>\n",
              "  "
            ]
          },
          "metadata": {},
          "execution_count": 25
        }
      ]
    },
    {
      "cell_type": "code",
      "source": [
        "target = nsrdb['GHI']#keeping only target(ghi) data here\n",
        "input= nsrdb.drop(['GHI'], axis=1)\n",
        "input"
      ],
      "metadata": {
        "id": "9baAoYV-FWYI",
        "outputId": "d0edd60e-2d86-461a-fe99-5e8eee2e61b6",
        "colab": {
          "base_uri": "https://localhost:8080/",
          "height": 488
        }
      },
      "id": "9baAoYV-FWYI",
      "execution_count": 26,
      "outputs": [
        {
          "output_type": "execute_result",
          "data": {
            "text/plain": [
              "          Year  Month   Day  Hour  Minute  Temperature  Cloud_Type  Dew_Point  \\\n",
              "16      2018.0    1.0   1.0   8.0     0.0         10.7         4.0        9.0   \n",
              "24      2018.0    1.0   1.0  12.0     0.0         16.8         7.0        8.9   \n",
              "32      2018.0    1.0   1.0  16.0     0.0         15.4         7.0        9.2   \n",
              "64      2018.0    1.0   2.0   8.0     0.0         12.2         6.0        8.2   \n",
              "72      2018.0    1.0   2.0  12.0     0.0         18.5         6.0        8.4   \n",
              "...        ...    ...   ...   ...     ...          ...         ...        ...   \n",
              "946114  2013.0   12.0  30.0  12.0     0.0         18.0         0.0        2.0   \n",
              "946122  2013.0   12.0  30.0  16.0     0.0         14.0         7.0        6.0   \n",
              "946154  2013.0   12.0  31.0   8.0     0.0         10.0         4.0        8.0   \n",
              "946162  2013.0   12.0  31.0  12.0     0.0         16.0         0.0        5.0   \n",
              "946170  2013.0   12.0  31.0  16.0     0.0          7.0         4.0        1.0   \n",
              "\n",
              "        Relative_Humidity  Solar_Zenith_Angle  Surface_Albedo  Pressure  \\\n",
              "16                  88.99               84.37           0.100    1025.0   \n",
              "24                  59.51               60.35           0.100    1025.0   \n",
              "32                  66.62               80.55           0.100    1023.0   \n",
              "64                  76.49               84.38           0.100    1024.0   \n",
              "72                  51.75               60.26           0.100    1023.0   \n",
              "...                   ...                 ...             ...       ...   \n",
              "946114              39.99               60.49           0.111    1020.0   \n",
              "946122              70.37               80.93           0.111    1020.0   \n",
              "946154              98.80               84.43           0.111    1020.0   \n",
              "946162              51.64               60.42           0.111    1020.0   \n",
              "946170              73.84               80.77           0.113    1020.0   \n",
              "\n",
              "        Precipitable_Water  Wind_Direction  Wind_Speed  Location  \n",
              "16                   1.800           347.0         0.7  117987.0  \n",
              "24                   1.800            25.0         1.1  117987.0  \n",
              "32                   1.800            14.0         0.8  117987.0  \n",
              "64                   1.800            89.0         1.1  117987.0  \n",
              "72                   2.000            58.0         1.2  117987.0  \n",
              "...                    ...             ...         ...       ...  \n",
              "946114               0.831           182.5         1.2  117546.0  \n",
              "946122               0.994           266.4         1.0  117546.0  \n",
              "946154               1.310           234.9         0.3  117546.0  \n",
              "946162               1.344            49.9         1.2  117546.0  \n",
              "946170               0.999           343.0         0.8  117546.0  \n",
              "\n",
              "[59130 rows x 16 columns]"
            ],
            "text/html": [
              "\n",
              "  <div id=\"df-616fc1be-0a76-4813-a618-18d99af39454\">\n",
              "    <div class=\"colab-df-container\">\n",
              "      <div>\n",
              "<style scoped>\n",
              "    .dataframe tbody tr th:only-of-type {\n",
              "        vertical-align: middle;\n",
              "    }\n",
              "\n",
              "    .dataframe tbody tr th {\n",
              "        vertical-align: top;\n",
              "    }\n",
              "\n",
              "    .dataframe thead th {\n",
              "        text-align: right;\n",
              "    }\n",
              "</style>\n",
              "<table border=\"1\" class=\"dataframe\">\n",
              "  <thead>\n",
              "    <tr style=\"text-align: right;\">\n",
              "      <th></th>\n",
              "      <th>Year</th>\n",
              "      <th>Month</th>\n",
              "      <th>Day</th>\n",
              "      <th>Hour</th>\n",
              "      <th>Minute</th>\n",
              "      <th>Temperature</th>\n",
              "      <th>Cloud_Type</th>\n",
              "      <th>Dew_Point</th>\n",
              "      <th>Relative_Humidity</th>\n",
              "      <th>Solar_Zenith_Angle</th>\n",
              "      <th>Surface_Albedo</th>\n",
              "      <th>Pressure</th>\n",
              "      <th>Precipitable_Water</th>\n",
              "      <th>Wind_Direction</th>\n",
              "      <th>Wind_Speed</th>\n",
              "      <th>Location</th>\n",
              "    </tr>\n",
              "  </thead>\n",
              "  <tbody>\n",
              "    <tr>\n",
              "      <th>16</th>\n",
              "      <td>2018.0</td>\n",
              "      <td>1.0</td>\n",
              "      <td>1.0</td>\n",
              "      <td>8.0</td>\n",
              "      <td>0.0</td>\n",
              "      <td>10.7</td>\n",
              "      <td>4.0</td>\n",
              "      <td>9.0</td>\n",
              "      <td>88.99</td>\n",
              "      <td>84.37</td>\n",
              "      <td>0.100</td>\n",
              "      <td>1025.0</td>\n",
              "      <td>1.800</td>\n",
              "      <td>347.0</td>\n",
              "      <td>0.7</td>\n",
              "      <td>117987.0</td>\n",
              "    </tr>\n",
              "    <tr>\n",
              "      <th>24</th>\n",
              "      <td>2018.0</td>\n",
              "      <td>1.0</td>\n",
              "      <td>1.0</td>\n",
              "      <td>12.0</td>\n",
              "      <td>0.0</td>\n",
              "      <td>16.8</td>\n",
              "      <td>7.0</td>\n",
              "      <td>8.9</td>\n",
              "      <td>59.51</td>\n",
              "      <td>60.35</td>\n",
              "      <td>0.100</td>\n",
              "      <td>1025.0</td>\n",
              "      <td>1.800</td>\n",
              "      <td>25.0</td>\n",
              "      <td>1.1</td>\n",
              "      <td>117987.0</td>\n",
              "    </tr>\n",
              "    <tr>\n",
              "      <th>32</th>\n",
              "      <td>2018.0</td>\n",
              "      <td>1.0</td>\n",
              "      <td>1.0</td>\n",
              "      <td>16.0</td>\n",
              "      <td>0.0</td>\n",
              "      <td>15.4</td>\n",
              "      <td>7.0</td>\n",
              "      <td>9.2</td>\n",
              "      <td>66.62</td>\n",
              "      <td>80.55</td>\n",
              "      <td>0.100</td>\n",
              "      <td>1023.0</td>\n",
              "      <td>1.800</td>\n",
              "      <td>14.0</td>\n",
              "      <td>0.8</td>\n",
              "      <td>117987.0</td>\n",
              "    </tr>\n",
              "    <tr>\n",
              "      <th>64</th>\n",
              "      <td>2018.0</td>\n",
              "      <td>1.0</td>\n",
              "      <td>2.0</td>\n",
              "      <td>8.0</td>\n",
              "      <td>0.0</td>\n",
              "      <td>12.2</td>\n",
              "      <td>6.0</td>\n",
              "      <td>8.2</td>\n",
              "      <td>76.49</td>\n",
              "      <td>84.38</td>\n",
              "      <td>0.100</td>\n",
              "      <td>1024.0</td>\n",
              "      <td>1.800</td>\n",
              "      <td>89.0</td>\n",
              "      <td>1.1</td>\n",
              "      <td>117987.0</td>\n",
              "    </tr>\n",
              "    <tr>\n",
              "      <th>72</th>\n",
              "      <td>2018.0</td>\n",
              "      <td>1.0</td>\n",
              "      <td>2.0</td>\n",
              "      <td>12.0</td>\n",
              "      <td>0.0</td>\n",
              "      <td>18.5</td>\n",
              "      <td>6.0</td>\n",
              "      <td>8.4</td>\n",
              "      <td>51.75</td>\n",
              "      <td>60.26</td>\n",
              "      <td>0.100</td>\n",
              "      <td>1023.0</td>\n",
              "      <td>2.000</td>\n",
              "      <td>58.0</td>\n",
              "      <td>1.2</td>\n",
              "      <td>117987.0</td>\n",
              "    </tr>\n",
              "    <tr>\n",
              "      <th>...</th>\n",
              "      <td>...</td>\n",
              "      <td>...</td>\n",
              "      <td>...</td>\n",
              "      <td>...</td>\n",
              "      <td>...</td>\n",
              "      <td>...</td>\n",
              "      <td>...</td>\n",
              "      <td>...</td>\n",
              "      <td>...</td>\n",
              "      <td>...</td>\n",
              "      <td>...</td>\n",
              "      <td>...</td>\n",
              "      <td>...</td>\n",
              "      <td>...</td>\n",
              "      <td>...</td>\n",
              "      <td>...</td>\n",
              "    </tr>\n",
              "    <tr>\n",
              "      <th>946114</th>\n",
              "      <td>2013.0</td>\n",
              "      <td>12.0</td>\n",
              "      <td>30.0</td>\n",
              "      <td>12.0</td>\n",
              "      <td>0.0</td>\n",
              "      <td>18.0</td>\n",
              "      <td>0.0</td>\n",
              "      <td>2.0</td>\n",
              "      <td>39.99</td>\n",
              "      <td>60.49</td>\n",
              "      <td>0.111</td>\n",
              "      <td>1020.0</td>\n",
              "      <td>0.831</td>\n",
              "      <td>182.5</td>\n",
              "      <td>1.2</td>\n",
              "      <td>117546.0</td>\n",
              "    </tr>\n",
              "    <tr>\n",
              "      <th>946122</th>\n",
              "      <td>2013.0</td>\n",
              "      <td>12.0</td>\n",
              "      <td>30.0</td>\n",
              "      <td>16.0</td>\n",
              "      <td>0.0</td>\n",
              "      <td>14.0</td>\n",
              "      <td>7.0</td>\n",
              "      <td>6.0</td>\n",
              "      <td>70.37</td>\n",
              "      <td>80.93</td>\n",
              "      <td>0.111</td>\n",
              "      <td>1020.0</td>\n",
              "      <td>0.994</td>\n",
              "      <td>266.4</td>\n",
              "      <td>1.0</td>\n",
              "      <td>117546.0</td>\n",
              "    </tr>\n",
              "    <tr>\n",
              "      <th>946154</th>\n",
              "      <td>2013.0</td>\n",
              "      <td>12.0</td>\n",
              "      <td>31.0</td>\n",
              "      <td>8.0</td>\n",
              "      <td>0.0</td>\n",
              "      <td>10.0</td>\n",
              "      <td>4.0</td>\n",
              "      <td>8.0</td>\n",
              "      <td>98.80</td>\n",
              "      <td>84.43</td>\n",
              "      <td>0.111</td>\n",
              "      <td>1020.0</td>\n",
              "      <td>1.310</td>\n",
              "      <td>234.9</td>\n",
              "      <td>0.3</td>\n",
              "      <td>117546.0</td>\n",
              "    </tr>\n",
              "    <tr>\n",
              "      <th>946162</th>\n",
              "      <td>2013.0</td>\n",
              "      <td>12.0</td>\n",
              "      <td>31.0</td>\n",
              "      <td>12.0</td>\n",
              "      <td>0.0</td>\n",
              "      <td>16.0</td>\n",
              "      <td>0.0</td>\n",
              "      <td>5.0</td>\n",
              "      <td>51.64</td>\n",
              "      <td>60.42</td>\n",
              "      <td>0.111</td>\n",
              "      <td>1020.0</td>\n",
              "      <td>1.344</td>\n",
              "      <td>49.9</td>\n",
              "      <td>1.2</td>\n",
              "      <td>117546.0</td>\n",
              "    </tr>\n",
              "    <tr>\n",
              "      <th>946170</th>\n",
              "      <td>2013.0</td>\n",
              "      <td>12.0</td>\n",
              "      <td>31.0</td>\n",
              "      <td>16.0</td>\n",
              "      <td>0.0</td>\n",
              "      <td>7.0</td>\n",
              "      <td>4.0</td>\n",
              "      <td>1.0</td>\n",
              "      <td>73.84</td>\n",
              "      <td>80.77</td>\n",
              "      <td>0.113</td>\n",
              "      <td>1020.0</td>\n",
              "      <td>0.999</td>\n",
              "      <td>343.0</td>\n",
              "      <td>0.8</td>\n",
              "      <td>117546.0</td>\n",
              "    </tr>\n",
              "  </tbody>\n",
              "</table>\n",
              "<p>59130 rows × 16 columns</p>\n",
              "</div>\n",
              "      <button class=\"colab-df-convert\" onclick=\"convertToInteractive('df-616fc1be-0a76-4813-a618-18d99af39454')\"\n",
              "              title=\"Convert this dataframe to an interactive table.\"\n",
              "              style=\"display:none;\">\n",
              "        \n",
              "  <svg xmlns=\"http://www.w3.org/2000/svg\" height=\"24px\"viewBox=\"0 0 24 24\"\n",
              "       width=\"24px\">\n",
              "    <path d=\"M0 0h24v24H0V0z\" fill=\"none\"/>\n",
              "    <path d=\"M18.56 5.44l.94 2.06.94-2.06 2.06-.94-2.06-.94-.94-2.06-.94 2.06-2.06.94zm-11 1L8.5 8.5l.94-2.06 2.06-.94-2.06-.94L8.5 2.5l-.94 2.06-2.06.94zm10 10l.94 2.06.94-2.06 2.06-.94-2.06-.94-.94-2.06-.94 2.06-2.06.94z\"/><path d=\"M17.41 7.96l-1.37-1.37c-.4-.4-.92-.59-1.43-.59-.52 0-1.04.2-1.43.59L10.3 9.45l-7.72 7.72c-.78.78-.78 2.05 0 2.83L4 21.41c.39.39.9.59 1.41.59.51 0 1.02-.2 1.41-.59l7.78-7.78 2.81-2.81c.8-.78.8-2.07 0-2.86zM5.41 20L4 18.59l7.72-7.72 1.47 1.35L5.41 20z\"/>\n",
              "  </svg>\n",
              "      </button>\n",
              "      \n",
              "  <style>\n",
              "    .colab-df-container {\n",
              "      display:flex;\n",
              "      flex-wrap:wrap;\n",
              "      gap: 12px;\n",
              "    }\n",
              "\n",
              "    .colab-df-convert {\n",
              "      background-color: #E8F0FE;\n",
              "      border: none;\n",
              "      border-radius: 50%;\n",
              "      cursor: pointer;\n",
              "      display: none;\n",
              "      fill: #1967D2;\n",
              "      height: 32px;\n",
              "      padding: 0 0 0 0;\n",
              "      width: 32px;\n",
              "    }\n",
              "\n",
              "    .colab-df-convert:hover {\n",
              "      background-color: #E2EBFA;\n",
              "      box-shadow: 0px 1px 2px rgba(60, 64, 67, 0.3), 0px 1px 3px 1px rgba(60, 64, 67, 0.15);\n",
              "      fill: #174EA6;\n",
              "    }\n",
              "\n",
              "    [theme=dark] .colab-df-convert {\n",
              "      background-color: #3B4455;\n",
              "      fill: #D2E3FC;\n",
              "    }\n",
              "\n",
              "    [theme=dark] .colab-df-convert:hover {\n",
              "      background-color: #434B5C;\n",
              "      box-shadow: 0px 1px 3px 1px rgba(0, 0, 0, 0.15);\n",
              "      filter: drop-shadow(0px 1px 2px rgba(0, 0, 0, 0.3));\n",
              "      fill: #FFFFFF;\n",
              "    }\n",
              "  </style>\n",
              "\n",
              "      <script>\n",
              "        const buttonEl =\n",
              "          document.querySelector('#df-616fc1be-0a76-4813-a618-18d99af39454 button.colab-df-convert');\n",
              "        buttonEl.style.display =\n",
              "          google.colab.kernel.accessAllowed ? 'block' : 'none';\n",
              "\n",
              "        async function convertToInteractive(key) {\n",
              "          const element = document.querySelector('#df-616fc1be-0a76-4813-a618-18d99af39454');\n",
              "          const dataTable =\n",
              "            await google.colab.kernel.invokeFunction('convertToInteractive',\n",
              "                                                     [key], {});\n",
              "          if (!dataTable) return;\n",
              "\n",
              "          const docLinkHtml = 'Like what you see? Visit the ' +\n",
              "            '<a target=\"_blank\" href=https://colab.research.google.com/notebooks/data_table.ipynb>data table notebook</a>'\n",
              "            + ' to learn more about interactive tables.';\n",
              "          element.innerHTML = '';\n",
              "          dataTable['output_type'] = 'display_data';\n",
              "          await google.colab.output.renderOutput(dataTable, element);\n",
              "          const docLink = document.createElement('div');\n",
              "          docLink.innerHTML = docLinkHtml;\n",
              "          element.appendChild(docLink);\n",
              "        }\n",
              "      </script>\n",
              "    </div>\n",
              "  </div>\n",
              "  "
            ]
          },
          "metadata": {},
          "execution_count": 26
        }
      ]
    },
    {
      "cell_type": "code",
      "source": [
        "from sklearn.preprocessing import StandardScaler\n",
        "#Normalize the dataset\n",
        "sc = StandardScaler()\n",
        "input_normalized = sc.fit_transform(input)"
      ],
      "metadata": {
        "id": "bCVrbv83FWbP"
      },
      "id": "bCVrbv83FWbP",
      "execution_count": 27,
      "outputs": []
    },
    {
      "cell_type": "code",
      "source": [
        "from sklearn.model_selection import train_test_split\n",
        "import numpy as np\n",
        "x_train, x_test, y_train, y_test = train_test_split(input_normalized, target, test_size=0.3, random_state=42)"
      ],
      "metadata": {
        "id": "lPb7Rb_VFWd3"
      },
      "id": "lPb7Rb_VFWd3",
      "execution_count": 28,
      "outputs": []
    },
    {
      "cell_type": "code",
      "source": [
        "print(\"x_train shape\",x_train.shape)\n",
        "print(\"x_test shape\",x_test.shape)\n",
        "print(\"y_train shape\",y_train.shape)\n",
        "print(\"y_text shape\",y_test.shape)"
      ],
      "metadata": {
        "id": "qF_3innaFWha",
        "outputId": "87df4d04-4830-4c15-8b4a-9bd0a4861a48",
        "colab": {
          "base_uri": "https://localhost:8080/"
        }
      },
      "id": "qF_3innaFWha",
      "execution_count": 29,
      "outputs": [
        {
          "output_type": "stream",
          "name": "stdout",
          "text": [
            "x_train shape (41391, 16)\n",
            "x_test shape (17739, 16)\n",
            "y_train shape (41391,)\n",
            "y_text shape (17739,)\n"
          ]
        }
      ]
    },
    {
      "cell_type": "markdown",
      "id": "9e79ce4a",
      "metadata": {
        "id": "9e79ce4a"
      },
      "source": [
        "# Modeling"
      ]
    },
    {
      "cell_type": "code",
      "execution_count": 30,
      "id": "0864b2fb",
      "metadata": {
        "colab": {
          "base_uri": "https://localhost:8080/"
        },
        "id": "0864b2fb",
        "outputId": "2ac0d57e-b714-439f-bcdd-0af4fb1feec6"
      },
      "outputs": [
        {
          "output_type": "execute_result",
          "data": {
            "text/plain": [
              "LinearRegression()"
            ]
          },
          "metadata": {},
          "execution_count": 30
        }
      ],
      "source": [
        "lm = LinearRegression()\n",
        "lm.fit(x_train, y_train)"
      ]
    },
    {
      "cell_type": "code",
      "source": [
        "y_pred = lm.predict(x_test)\n",
        "\n",
        "plt.scatter(y_test, y_pred)\n",
        "plt.xlabel(\"Actual GHI: $Y_i$\")\n",
        "plt.ylabel(\"Predicted GHI: $\\hat{Y}_i$\")\n",
        "plt.title(\"Actual GHI vs Predicted GHI: $Y_i$ vs $\\hat{Y}_i$\")\n",
        "plt.show()"
      ],
      "metadata": {
        "colab": {
          "base_uri": "https://localhost:8080/",
          "height": 305
        },
        "id": "GChdhNPTJoqG",
        "outputId": "243ce3d4-c1fe-4df6-baf9-627545024cdb"
      },
      "id": "GChdhNPTJoqG",
      "execution_count": 31,
      "outputs": [
        {
          "output_type": "display_data",
          "data": {
            "text/plain": [
              "<Figure size 432x288 with 1 Axes>"
            ],
            "image/png": "[encoded data removed]"
          },
          "metadata": {
            "needs_background": "light"
          }
        }
      ]
    },
    {
      "cell_type": "markdown",
      "id": "e0eafda7",
      "metadata": {
        "id": "e0eafda7"
      },
      "source": [
        "## Actual ghi 200 predicting it from 100 to 500, actual is 1000 predicting it as 400 to 1000"
      ]
    },
    {
      "cell_type": "code",
      "execution_count": 32,
      "id": "15ed6594",
      "metadata": {
        "colab": {
          "base_uri": "https://localhost:8080/",
          "height": 322
        },
        "id": "15ed6594",
        "outputId": "38ef9896-c8b5-496c-814a-401d8fb71d6a"
      },
      "outputs": [
        {
          "output_type": "stream",
          "name": "stderr",
          "text": [
            "/usr/local/lib/python3.7/dist-packages/seaborn/distributions.py:1699: FutureWarning: The `bw` parameter is deprecated in favor of `bw_method` and `bw_adjust`. Using 0.5 for `bw_method`, but please see the docs for the new parameters and update your code.\n",
            "  warnings.warn(msg, FutureWarning)\n"
          ]
        },
        {
          "output_type": "display_data",
          "data": {
            "text/plain": [
              "<Figure size 432x288 with 1 Axes>"
            ],
            "image/png": "[encoded data removed]"
          },
          "metadata": {}
        }
      ],
      "source": [
        "#delta_y is Actual GHI - Predicted GHI\n",
        "delta_y = y_test - y_pred\n",
        "sns.set_style('whitegrid')\n",
        "sns.kdeplot(np.array(delta_y), bw=0.5)\n",
        "plt.show()"
      ]
    },
    {
      "cell_type": "markdown",
      "id": "82eb9891",
      "metadata": {
        "id": "82eb9891"
      },
      "source": [
        "## Error distribution\n",
        "### delta_y is error, plotting the error distribution to see where maximum error points lie, the mean of error points lies around -10, maximum error is -10"
      ]
    },
    {
      "cell_type": "code",
      "execution_count": 33,
      "id": "d040475f",
      "metadata": {
        "scrolled": true,
        "colab": {
          "base_uri": "https://localhost:8080/"
        },
        "id": "d040475f",
        "outputId": "3b775770-a842-4379-8ebd-f6bb394dc3ec"
      },
      "outputs": [
        {
          "output_type": "execute_result",
          "data": {
            "text/plain": [
              "<bound method NDFrame.head of 26226    -240.677844\n",
              "116780    -20.524442\n",
              "932730     38.681417\n",
              "536764     43.210535\n",
              "551518    -48.552718\n",
              "             ...    \n",
              "828894     90.773616\n",
              "45532      48.929293\n",
              "82072      25.912639\n",
              "414654    -72.674603\n",
              "693318     11.435241\n",
              "Name: GHI, Length: 17739, dtype: float64>"
            ]
          },
          "metadata": {},
          "execution_count": 33
        }
      ],
      "source": [
        "#Here for each data point we are getting actual vs predicted\n",
        "delta_y.head"
      ]
    },
    {
      "cell_type": "code",
      "execution_count": 34,
      "id": "ea93e6a8",
      "metadata": {
        "colab": {
          "base_uri": "https://localhost:8080/",
          "height": 321
        },
        "id": "ea93e6a8",
        "outputId": "9aa31ceb-54aa-4480-acc2-ab01010756c4"
      },
      "outputs": [
        {
          "output_type": "stream",
          "name": "stderr",
          "text": [
            "/usr/local/lib/python3.7/dist-packages/seaborn/distributions.py:1699: FutureWarning: The `bw` parameter is deprecated in favor of `bw_method` and `bw_adjust`. Using 0.5 for `bw_method`, but please see the docs for the new parameters and update your code.\n",
            "  warnings.warn(msg, FutureWarning)\n"
          ]
        },
        {
          "output_type": "display_data",
          "data": {
            "text/plain": [
              "<Figure size 432x288 with 1 Axes>"
            ],
            "image/png": "[encoded data removed]"
          },
          "metadata": {}
        }
      ],
      "source": [
        "sns.set_style('whitegrid')\n",
        "sns.kdeplot(np.array(y_pred), bw=0.5)\n",
        "plt.show()"
      ]
    },
    {
      "cell_type": "markdown",
      "id": "697e2b1d",
      "metadata": {
        "id": "697e2b1d"
      },
      "source": [
        "## Actual distribution\n",
        "###  We need to align error distribution and actual distribution for best model by doing feature engineering. "
      ]
    },
    {
      "cell_type": "code",
      "execution_count": 36,
      "id": "02dc11c8",
      "metadata": {
        "colab": {
          "base_uri": "https://localhost:8080/"
        },
        "id": "02dc11c8",
        "outputId": "5c1734a6-9de5-4768-f629-2bdeaf1d9f33"
      },
      "outputs": [
        {
          "output_type": "stream",
          "name": "stdout",
          "text": [
            "Model MAE 64.2746045786935\n",
            "Model MSE 8543.702425344223\n",
            "Model RMSE 92.43215038796957\n"
          ]
        }
      ],
      "source": [
        "from sklearn import metrics\n",
        "print(\"Model MAE\", metrics.mean_absolute_error(y_test, y_pred))\n",
        "print(\"Model MSE\", metrics.mean_squared_error(y_test, y_pred))\n",
        "print(\"Model RMSE\",np.sqrt(metrics.mean_squared_error(y_test, y_pred)))"
      ]
    },
    {
      "cell_type": "code",
      "execution_count": 38,
      "id": "4f0179cd",
      "metadata": {
        "colab": {
          "base_uri": "https://localhost:8080/"
        },
        "id": "4f0179cd",
        "outputId": "d8b6ad98-b176-44fc-8d34-e0f6d16d9e5f"
      },
      "outputs": [
        {
          "output_type": "stream",
          "name": "stdout",
          "text": [
            "Coefficient of Determination R2 0.8985561488523914\n"
          ]
        }
      ],
      "source": [
        "from sklearn.metrics import r2_score \n",
        "R_square = r2_score(y_test, y_pred) \n",
        "print('Coefficient of Determination R2', R_square) "
      ]
    },
    {
      "cell_type": "markdown",
      "source": [
        "## Test"
      ],
      "metadata": {
        "id": "cRUJmV5DKK7K"
      },
      "id": "cRUJmV5DKK7K"
    },
    {
      "cell_type": "markdown",
      "source": [
        "## Cupertino"
      ],
      "metadata": {
        "id": "xVklCNNoGlMv"
      },
      "id": "xVklCNNoGlMv"
    },
    {
      "cell_type": "code",
      "source": [
        "import pandas as pd\n",
        "df =pd.read_csv('/content/drive/Shareddrives/DATA298/WeatherData/FinalWeatherData/cupertino_test.csv')\n",
        "df\n",
        "df = df.loc[(df['Hour'].isin([7, 10, 13, 16, 19])) & (df['Minute'] == 0)]\n",
        "df = df.drop(['Unnamed: 0'],axis =1)\n",
        "null = df[df.isna().any(axis=1)]\n",
        "cupertino_final = df.dropna()\n",
        "df.isnull().sum()\n",
        "\n",
        "target_test = df['GHI']#keeping only target(ghi) data here\n",
        "input_test= df.drop(['GHI'], axis=1)\n",
        "input_test.head()\n",
        "\n",
        "from sklearn.preprocessing import StandardScaler\n",
        "sc = StandardScaler()\n",
        "input_nor_test = sc.fit_transform(input_test)\n",
        "y_pred_test=lm.predict(input_nor_test)\n",
        "y_pred_test\n",
        "\n",
        "from sklearn import metrics\n",
        "print(\"Model MAE\", metrics.mean_absolute_error(target_test, y_pred_test))\n",
        "print(\"Model MSE\", metrics.mean_squared_error(target_test, y_pred_test))\n",
        "print(\"Model RMSE\",np.sqrt(metrics.mean_squared_error(target_test, y_pred_test)))"
      ],
      "metadata": {
        "id": "_s8YC5_OGghe",
        "outputId": "6c1fa39e-edab-40b2-b860-e146af3fcf5e",
        "colab": {
          "base_uri": "https://localhost:8080/"
        }
      },
      "id": "_s8YC5_OGghe",
      "execution_count": 41,
      "outputs": [
        {
          "output_type": "stream",
          "name": "stdout",
          "text": [
            "Model MAE 117.0528427095467\n",
            "Model MSE 21105.869996518108\n",
            "Model RMSE 145.27859441954314\n"
          ]
        }
      ]
    },
    {
      "cell_type": "markdown",
      "source": [
        "## Foster City"
      ],
      "metadata": {
        "id": "Z2JJnctnG3tW"
      },
      "id": "Z2JJnctnG3tW"
    },
    {
      "cell_type": "code",
      "source": [
        "import pandas as pd\n",
        "df =pd.read_csv('/content/drive/Shareddrives/DATA298/WeatherData/FinalWeatherData/fostercity_test.csv')\n",
        "df\n",
        "df = df.loc[(df['Hour'].isin([7, 10, 13, 16, 19])) & (df['Minute'] == 0)]\n",
        "df = df.drop(['Unnamed: 0'],axis =1)\n",
        "null = df[df.isna().any(axis=1)]\n",
        "cupertino_final = df.dropna()\n",
        "df.isnull().sum()\n",
        "\n",
        "target_test = df['GHI']#keeping only target(ghi) data here\n",
        "input_test= df.drop(['GHI'], axis=1)\n",
        "input_test.head()\n",
        "\n",
        "from sklearn.preprocessing import StandardScaler\n",
        "sc = StandardScaler()\n",
        "input_nor_test = sc.fit_transform(input_test)\n",
        "y_pred_test=lm.predict(input_nor_test)\n",
        "y_pred_test\n",
        "\n",
        "from sklearn import metrics\n",
        "print(\"Model MAE\", metrics.mean_absolute_error(target_test, y_pred_test))\n",
        "print(\"Model MSE\", metrics.mean_squared_error(target_test, y_pred_test))\n",
        "print(\"Model RMSE\",np.sqrt(metrics.mean_squared_error(target_test, y_pred_test)))"
      ],
      "metadata": {
        "id": "R-TWNWkFGgkN",
        "outputId": "088e213e-d443-4465-90d5-b62689a78864",
        "colab": {
          "base_uri": "https://localhost:8080/"
        }
      },
      "id": "R-TWNWkFGgkN",
      "execution_count": 42,
      "outputs": [
        {
          "output_type": "stream",
          "name": "stdout",
          "text": [
            "Model MAE 120.21464507039968\n",
            "Model MSE 22341.74116119094\n",
            "Model RMSE 149.4715396361158\n"
          ]
        }
      ]
    },
    {
      "cell_type": "markdown",
      "source": [
        "## Los Gatos"
      ],
      "metadata": {
        "id": "pzvbhMt7HGcI"
      },
      "id": "pzvbhMt7HGcI"
    },
    {
      "cell_type": "code",
      "source": [
        "import pandas as pd\n",
        "df =pd.read_csv('/content/drive/Shareddrives/DATA298/WeatherData/FinalWeatherData/losgatos_test.csv')\n",
        "df\n",
        "df = df.loc[(df['Hour'].isin([7, 10, 13, 16, 19])) & (df['Minute'] == 0)]\n",
        "df = df.drop(['Unnamed: 0'],axis =1)\n",
        "null = df[df.isna().any(axis=1)]\n",
        "cupertino_final = df.dropna()\n",
        "df.isnull().sum()\n",
        "\n",
        "target_test = df['GHI']#keeping only target(ghi) data here\n",
        "input_test= df.drop(['GHI'], axis=1)\n",
        "input_test.head()\n",
        "\n",
        "from sklearn.preprocessing import StandardScaler\n",
        "sc = StandardScaler()\n",
        "input_nor_test = sc.fit_transform(input_test)\n",
        "y_pred_test=lm.predict(input_nor_test)\n",
        "y_pred_test\n",
        "\n",
        "from sklearn import metrics\n",
        "print(\"Model MAE\", metrics.mean_absolute_error(target_test, y_pred_test))\n",
        "print(\"Model MSE\", metrics.mean_squared_error(target_test, y_pred_test))\n",
        "print(\"Model RMSE\",np.sqrt(metrics.mean_squared_error(target_test, y_pred_test)))"
      ],
      "metadata": {
        "id": "g5i040hXGgnE",
        "outputId": "a0545d81-c20d-4766-a24b-1cf688bda03f",
        "colab": {
          "base_uri": "https://localhost:8080/"
        }
      },
      "id": "g5i040hXGgnE",
      "execution_count": 44,
      "outputs": [
        {
          "output_type": "stream",
          "name": "stdout",
          "text": [
            "Model MAE 115.67548936396693\n",
            "Model MSE 20425.248805117877\n",
            "Model RMSE 142.91692973583596\n"
          ]
        }
      ]
    },
    {
      "cell_type": "markdown",
      "source": [
        "## Saratoga"
      ],
      "metadata": {
        "id": "gu5y5WnSHRte"
      },
      "id": "gu5y5WnSHRte"
    },
    {
      "cell_type": "code",
      "source": [
        "import pandas as pd\n",
        "df =pd.read_csv('/content/drive/Shareddrives/DATA298/WeatherData/FinalWeatherData/saratoga_2020.csv')\n",
        "df\n",
        "df = df.loc[(df['Hour'].isin([7, 10, 13, 16, 19])) & (df['Minute'] == 0)]\n",
        "#df = df.drop(['Unnamed: 0'],axis =1)\n",
        "null = df[df.isna().any(axis=1)]\n",
        "cupertino_final = df.dropna()\n",
        "df.isnull().sum()\n",
        "\n",
        "target_test = df['GHI']#keeping only target(ghi) data here\n",
        "input_test= df.drop(['GHI'], axis=1)\n",
        "input_test.head()\n",
        "\n",
        "from sklearn.preprocessing import StandardScaler\n",
        "sc = StandardScaler()\n",
        "input_nor_test = sc.fit_transform(input_test)\n",
        "y_pred_test=lm.predict(input_nor_test)\n",
        "y_pred_test\n",
        "\n",
        "from sklearn import metrics\n",
        "print(\"Model MAE\", metrics.mean_absolute_error(target_test, y_pred_test))\n",
        "print(\"Model MSE\", metrics.mean_squared_error(target_test, y_pred_test))\n",
        "print(\"Model RMSE\",np.sqrt(metrics.mean_squared_error(target_test, y_pred_test)))"
      ],
      "metadata": {
        "id": "gUm8k2gZGgpr",
        "outputId": "ef45069c-729a-454b-ff0b-ac38aa5e7f2e",
        "colab": {
          "base_uri": "https://localhost:8080/"
        }
      },
      "id": "gUm8k2gZGgpr",
      "execution_count": 45,
      "outputs": [
        {
          "output_type": "stream",
          "name": "stdout",
          "text": [
            "Model MAE 110.95848630870073\n",
            "Model MSE 18692.634255219153\n",
            "Model RMSE 136.72100882899875\n"
          ]
        }
      ]
    }
  ],
  "metadata": {
    "kernelspec": {
      "display_name": "Python 3 (ipykernel)",
      "language": "python",
      "name": "python3"
    },
    "language_info": {
      "codemirror_mode": {
        "name": "ipython",
        "version": 3
      },
      "file_extension": ".py",
      "mimetype": "text/x-python",
      "name": "python",
      "nbconvert_exporter": "python",
      "pygments_lexer": "ipython3",
      "version": "3.9.7"
    },
    "colab": {
      "provenance": [],
      "include_colab_link": true
    }
  },
  "nbformat": 4,
  "nbformat_minor": 5
}