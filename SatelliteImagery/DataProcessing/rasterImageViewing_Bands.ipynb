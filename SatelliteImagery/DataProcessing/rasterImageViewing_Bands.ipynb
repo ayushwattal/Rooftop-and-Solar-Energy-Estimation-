{
  "nbformat": 4,
  "nbformat_minor": 0,
  "metadata": {
    "colab": {
      "name": "rasterImageViewing_Bands.ipynb",
      "provenance": [],
      "collapsed_sections": [],
      "mount_file_id": "https://github.com/snvssk/data298A/blob/saidev/SatelliteImagery/DataProcessing/rasterImageViewing_Bands.ipynb",
      "authorship_tag": "ABX9TyMGvOXzmhbDaGXclGx6FRA9",
      "include_colab_link": true
    },
    "kernelspec": {
      "name": "python3",
      "display_name": "Python 3"
    },
    "language_info": {
      "name": "python"
    }
  },
  "cells": [
    {
      "cell_type": "markdown",
      "metadata": {
        "id": "view-in-github",
        "colab_type": "text"
      },
      "source": [
        "<a href=\"https://colab.research.google.com/github/snvssk/data298A/blob/saidev/SatelliteImagery/DataProcessing/rasterImageViewing_Bands.ipynb\" target=\"_parent\"><img src=\"https://colab.research.google.com/assets/colab-badge.svg\" alt=\"Open In Colab\"/></a>"
      ]
    },
    {
      "cell_type": "code",
      "source": [
        "base_path = '/content/drive/Shareddrives/DATA298/Satelite_Dataset/Spacenet2/Khartoum/'"
      ],
      "metadata": {
        "id": "_pKKtaTh9c5g"
      },
      "execution_count": 1,
      "outputs": []
    },
    {
      "cell_type": "code",
      "source": [
        "!pip install rasterio "
      ],
      "metadata": {
        "id": "pqI3MDiJCIpS",
        "colab": {
          "base_uri": "https://localhost:8080/"
        },
        "outputId": "93b5c542-5354-4135-c4ff-9d4333117f37"
      },
      "execution_count": 2,
      "outputs": [
        {
          "output_type": "stream",
          "name": "stdout",
          "text": [
            "Looking in indexes: https://pypi.org/simple, https://us-python.pkg.dev/colab-wheels/public/simple/\n",
            "Collecting rasterio\n",
            "  Downloading rasterio-1.2.10-cp37-cp37m-manylinux1_x86_64.whl (19.3 MB)\n",
            "\u001b[K     |████████████████████████████████| 19.3 MB 49.3 MB/s \n",
            "\u001b[?25hCollecting snuggs>=1.4.1\n",
            "  Downloading snuggs-1.4.7-py3-none-any.whl (5.4 kB)\n",
            "Collecting affine\n",
            "  Downloading affine-2.3.1-py2.py3-none-any.whl (16 kB)\n",
            "Requirement already satisfied: setuptools in /usr/local/lib/python3.7/dist-packages (from rasterio) (57.4.0)\n",
            "Collecting cligj>=0.5\n",
            "  Downloading cligj-0.7.2-py3-none-any.whl (7.1 kB)\n",
            "Requirement already satisfied: numpy in /usr/local/lib/python3.7/dist-packages (from rasterio) (1.21.6)\n",
            "Collecting click-plugins\n",
            "  Downloading click_plugins-1.1.1-py2.py3-none-any.whl (7.5 kB)\n",
            "Requirement already satisfied: attrs in /usr/local/lib/python3.7/dist-packages (from rasterio) (22.1.0)\n",
            "Requirement already satisfied: click>=4.0 in /usr/local/lib/python3.7/dist-packages (from rasterio) (7.1.2)\n",
            "Requirement already satisfied: certifi in /usr/local/lib/python3.7/dist-packages (from rasterio) (2022.9.24)\n",
            "Requirement already satisfied: pyparsing>=2.1.6 in /usr/local/lib/python3.7/dist-packages (from snuggs>=1.4.1->rasterio) (3.0.9)\n",
            "Installing collected packages: snuggs, cligj, click-plugins, affine, rasterio\n",
            "Successfully installed affine-2.3.1 click-plugins-1.1.1 cligj-0.7.2 rasterio-1.2.10 snuggs-1.4.7\n"
          ]
        }
      ]
    },
    {
      "cell_type": "code",
      "source": [
        "import rasterio\n",
        "from rasterio.plot import show\n",
        "path = '/content/drive/Shareddrives/DATA298/Satelite_Dataset/OpenCities/open_cities_ai_challenge_train_tier_1_source/open_cities_ai_challenge_train_tier_1_source_acc_d41d81/image.tif'\n",
        "src = rasterio.open(path)\n",
        "#src.save\n",
        "#from rasterio.windows import Window\n",
        "#show(src)"
      ],
      "metadata": {
        "id": "TDG4l2mWA12-"
      },
      "execution_count": 3,
      "outputs": []
    },
    {
      "cell_type": "code",
      "source": [
        "print(\"Metadata\")\n",
        "print(src.meta)\n",
        "print(\"Bounds\")\n",
        "print(src.bounds)"
      ],
      "metadata": {
        "colab": {
          "base_uri": "https://localhost:8080/"
        },
        "id": "2DN2hpp9A6w5",
        "outputId": "c9471e7e-997e-441f-9d0f-79fdd4550d40"
      },
      "execution_count": 4,
      "outputs": [
        {
          "output_type": "stream",
          "name": "stdout",
          "text": [
            "Metadata\n",
            "{'driver': 'GTiff', 'dtype': 'uint8', 'nodata': None, 'width': 40868, 'height': 42719, 'count': 4, 'crs': CRS.from_epsg(32630), 'transform': Affine(0.05179965064903244, 0.0, 809267.1099320438,\n",
            "       0.0, -0.05180039261972288, 618981.5459276063)}\n",
            "Bounds\n",
            "BoundingBox(left=809267.1099320438, bottom=616768.6849552843, right=811384.0580547685, top=618981.5459276063)\n"
          ]
        }
      ]
    },
    {
      "cell_type": "code",
      "source": [
        "from matplotlib import pyplot\n",
        "\n",
        "pyplot.imshow(src.read(4)) # Band 4\n",
        "#pyplot.figure(figsize=(10, 10))\n",
        "pyplot.show()"
      ],
      "metadata": {
        "colab": {
          "base_uri": "https://localhost:8080/",
          "height": 268
        },
        "id": "4j4EbXq4Dj2p",
        "outputId": "1638b610-aa02-48e6-9390-fe91db77f5b9"
      },
      "execution_count": 5,
      "outputs": [
        {
          "output_type": "display_data",
          "data": {
            "text/plain": [
              "<Figure size 432x288 with 1 Axes>"
            ],
            "image/png": "[encoded data removed]"
          },
          "metadata": {
            "needs_background": "light"
          }
        }
      ]
    },
    {
      "cell_type": "code",
      "source": [
        "path = '/content/drive/Shareddrives/DATA298/Satelite_Dataset/OpenCities/open_cities_ai_challenge_train_tier_1_source/open_cities_ai_challenge_train_tier_1_source_acc_d41d81/image.tif'\n",
        "from osgeo import gdal\n",
        "import matplotlib.pyplot as plt\n",
        "dataset = gdal.Open(path, gdal.GA_ReadOnly) \n",
        "# Note GetRasterBand() takes band no. starting from 1 not 0\n",
        "band = dataset.GetRasterBand(1)\n",
        "arr = band.ReadAsArray()\n",
        "plt.imshow(arr)"
      ],
      "metadata": {
        "id": "s-QUXoVIj76A"
      },
      "execution_count": null,
      "outputs": []
    },
    {
      "cell_type": "code",
      "source": [
        "from matplotlib import pyplot\n",
        "\n",
        "pyplot.imshow(src.read(2))\n",
        "#pyplot.figure(figsize=(10, 10))\n",
        "pyplot.show()"
      ],
      "metadata": {
        "id": "5cROUBcSl0tN"
      },
      "execution_count": null,
      "outputs": []
    },
    {
      "cell_type": "code",
      "source": [
        "from matplotlib import pyplot\n",
        "\n",
        "pyplot.imshow(src.read(3))\n",
        "#pyplot.figure(figsize=(10, 10))\n",
        "pyplot.show()"
      ],
      "metadata": {
        "id": "S-es-cEymABZ"
      },
      "execution_count": null,
      "outputs": []
    },
    {
      "cell_type": "code",
      "source": [],
      "metadata": {
        "id": "Yj9zGmHPdSie"
      },
      "execution_count": null,
      "outputs": []
    }
  ]
}