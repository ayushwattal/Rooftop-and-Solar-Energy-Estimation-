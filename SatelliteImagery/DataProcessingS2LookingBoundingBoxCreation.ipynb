{
  "nbformat": 4,
  "nbformat_minor": 0,
  "metadata": {
    "colab": {
      "provenance": [],
      "machine_shape": "hm",
      "mount_file_id": "1-QdEPH-s4-RAqv6pwu-Sah7aK-o1O1j7",
      "authorship_tag": "ABX9TyPnbQETDECLC6jyP2VjLzPL",
      "include_colab_link": true
    },
    "kernelspec": {
      "name": "python3",
      "display_name": "Python 3"
    },
    "language_info": {
      "name": "python"
    },
    "accelerator": "GPU",
    "gpuClass": "standard"
  },
  "cells": [
    {
      "cell_type": "markdown",
      "metadata": {
        "id": "view-in-github",
        "colab_type": "text"
      },
      "source": [
        "<a href=\"https://colab.research.google.com/github/snvssk/data298A/blob/development/SatelliteImagery/DataProcessingS2LookingBoundingBoxCreation.ipynb\" target=\"_parent\"><img src=\"https://colab.research.google.com/assets/colab-badge.svg\" alt=\"Open In Colab\"/></a>"
      ]
    },
    {
      "cell_type": "code",
      "execution_count": null,
      "metadata": {
        "id": "ZPhyjGO5oz1F"
      },
      "outputs": [],
      "source": [
        "import os\n",
        "import numpy as np\n",
        "import cv2\n",
        "from glob import glob\n",
        "from tqdm import tqdm\n",
        "from skimage.measure import label, regionprops, find_contours\n",
        "\n"
      ]
    },
    {
      "cell_type": "code",
      "source": [
        "images = sorted(glob(os.path.join(\"./train/\", \"train_image\", \"*\")))\n",
        "masks = sorted(glob(os.path.join(\"./train/\", \"train_mask\", \"*\")))"
      ],
      "metadata": {
        "id": "Ml56pTUGyFzc"
      },
      "execution_count": null,
      "outputs": []
    },
    {
      "cell_type": "code",
      "source": [
        "images[1]"
      ],
      "metadata": {
        "colab": {
          "base_uri": "https://localhost:8080/",
          "height": 37
        },
        "id": "_Wo2MoRyOcRO",
        "outputId": "384be02b-1626-4dd0-a241-61c92292e2a2"
      },
      "execution_count": null,
      "outputs": [
        {
          "output_type": "execute_result",
          "data": {
            "text/plain": [
              "'/content/drive/MyDrive/SmallDataset/train/train_image/train_10.png'"
            ],
            "application/vnd.google.colaboratory.intrinsic+json": {
              "type": "string"
            }
          },
          "metadata": {},
          "execution_count": 4
        }
      ]
    },
    {
      "cell_type": "code",
      "source": [
        "masks[1]"
      ],
      "metadata": {
        "colab": {
          "base_uri": "https://localhost:8080/",
          "height": 37
        },
        "id": "XG3utflrOsU_",
        "outputId": "6d04361a-54a9-46af-8b86-9cdb8b2d0657"
      },
      "execution_count": null,
      "outputs": [
        {
          "output_type": "execute_result",
          "data": {
            "text/plain": [
              "'/content/drive/MyDrive/SmallDataset/train/train_mask/train_10.png'"
            ],
            "application/vnd.google.colaboratory.intrinsic+json": {
              "type": "string"
            }
          },
          "metadata": {},
          "execution_count": 5
        }
      ]
    },
    {
      "cell_type": "code",
      "source": [
        "\"\"\" Creating a directory \"\"\"\n",
        "def create_dir(path):\n",
        "    if not os.path.exists(path):\n",
        "        os.makedirs(path)\n",
        "\n"
      ],
      "metadata": {
        "id": "EPkHbJ4WpA-r"
      },
      "execution_count": null,
      "outputs": []
    },
    {
      "cell_type": "code",
      "source": [
        "\"\"\" Convert a mask to border image \"\"\"\n",
        "def mask_to_border(mask):\n",
        "    h, w = mask.shape\n",
        "    border = np.zeros((h, w))\n",
        "\n",
        "    contours = find_contours(mask, 128)\n",
        "    for contour in contours:\n",
        "        for c in contour:\n",
        "            x = int(c[0])\n",
        "            y = int(c[1])\n",
        "            border[x][y] = 255\n",
        "\n",
        "    return border\n",
        "\n"
      ],
      "metadata": {
        "id": "tMyxzxc_pBBw"
      },
      "execution_count": null,
      "outputs": []
    },
    {
      "cell_type": "code",
      "source": [
        "\"\"\" Mask to bounding boxes \"\"\"\n",
        "def mask_to_bbox(mask):\n",
        "    bboxes = []\n",
        "\n",
        "    mask = mask_to_border(mask)\n",
        "    lbl = label(mask)\n",
        "    props = regionprops(lbl)\n",
        "    for prop in props:\n",
        "        x1 = prop.bbox[1]\n",
        "        y1 = prop.bbox[0]\n",
        "\n",
        "        x2 = prop.bbox[3]\n",
        "        y2 = prop.bbox[2]\n",
        "\n",
        "        bboxes.append([x1, y1, x2, y2])\n",
        "\n",
        "    return bboxes\n",
        "\n"
      ],
      "metadata": {
        "id": "1B_bC6gYpBEV"
      },
      "execution_count": null,
      "outputs": []
    },
    {
      "cell_type": "code",
      "source": [
        "def parse_mask(mask):\n",
        "    mask = np.expand_dims(mask, axis=-1)\n",
        "    mask = np.concatenate([mask, mask, mask], axis=-1)\n",
        "    return mask\n",
        "\n"
      ],
      "metadata": {
        "id": "HlzAXYQspBHN"
      },
      "execution_count": null,
      "outputs": []
    },
    {
      "cell_type": "code",
      "source": [
        "create_dir(\"results\")\n",
        "\n",
        "#  Loop over the dataset\n",
        "for x, y in tqdm(zip(images, masks), total=len(images)):\n",
        "\n",
        "  # Extract the name\n",
        "  name = x.split(\"/\")[-1].split(\".\")[0]\n",
        "\n",
        "  #  Read image and mask \n",
        "  x = cv2.imread(x, cv2.IMREAD_COLOR)\n",
        "  y = cv2.imread(y, cv2.IMREAD_GRAYSCALE)\n",
        "\n",
        "  #  Detecting bounding boxes \n",
        "  bboxes = mask_to_bbox(y)\n",
        "\n",
        "  #  marking bounding box on image \n",
        "  for bbox in bboxes:\n",
        "      x = cv2.rectangle(x, (bbox[0], bbox[1]), (bbox[2], bbox[3]), (255, 0, 0), 2)\n",
        "\n",
        "        # \"\"\" Saving the image \"\"\"\n",
        "      cat_image = np.concatenate([x, parse_mask(y)], axis=1)\n",
        "      cv2.imwrite(f\"results/{name}.png\", cat_image)"
      ],
      "metadata": {
        "colab": {
          "base_uri": "https://localhost:8080/"
        },
        "id": "ADB5E8PcpMqB",
        "outputId": "abea5a57-af53-4d3f-a286-4e5df8459c4b"
      },
      "execution_count": null,
      "outputs": [
        {
          "output_type": "stream",
          "name": "stderr",
          "text": [
            "100%|██████████| 25/25 [01:12<00:00,  2.90s/it]\n"
          ]
        }
      ]
    },
    {
      "cell_type": "code",
      "source": [
        "!pip install image_bbox_slicer\n"
      ],
      "metadata": {
        "colab": {
          "base_uri": "https://localhost:8080/"
        },
        "id": "_lgLyfJBTomi",
        "outputId": "2ce12c89-937d-4dae-9ff8-44658c0c93cc"
      },
      "execution_count": null,
      "outputs": [
        {
          "output_type": "stream",
          "name": "stdout",
          "text": [
            "Looking in indexes: https://pypi.org/simple, https://us-python.pkg.dev/colab-wheels/public/simple/\n",
            "Collecting image_bbox_slicer\n",
            "  Downloading image_bbox_slicer-0.4.tar.gz (9.9 kB)\n",
            "Requirement already satisfied: Pillow in /usr/local/lib/python3.7/dist-packages (from image_bbox_slicer) (7.1.2)\n",
            "Requirement already satisfied: numpy in /usr/local/lib/python3.7/dist-packages (from image_bbox_slicer) (1.21.6)\n",
            "Requirement already satisfied: matplotlib in /usr/local/lib/python3.7/dist-packages (from image_bbox_slicer) (3.2.2)\n",
            "Collecting pascal-voc-writer\n",
            "  Downloading pascal_voc_writer-0.1.4-py2.py3-none-any.whl (4.0 kB)\n",
            "Requirement already satisfied: cycler>=0.10 in /usr/local/lib/python3.7/dist-packages (from matplotlib->image_bbox_slicer) (0.11.0)\n",
            "Requirement already satisfied: python-dateutil>=2.1 in /usr/local/lib/python3.7/dist-packages (from matplotlib->image_bbox_slicer) (2.8.2)\n",
            "Requirement already satisfied: pyparsing!=2.0.4,!=2.1.2,!=2.1.6,>=2.0.1 in /usr/local/lib/python3.7/dist-packages (from matplotlib->image_bbox_slicer) (3.0.9)\n",
            "Requirement already satisfied: kiwisolver>=1.0.1 in /usr/local/lib/python3.7/dist-packages (from matplotlib->image_bbox_slicer) (1.4.4)\n",
            "Requirement already satisfied: typing-extensions in /usr/local/lib/python3.7/dist-packages (from kiwisolver>=1.0.1->matplotlib->image_bbox_slicer) (4.1.1)\n",
            "Requirement already satisfied: six>=1.5 in /usr/local/lib/python3.7/dist-packages (from python-dateutil>=2.1->matplotlib->image_bbox_slicer) (1.15.0)\n",
            "Requirement already satisfied: jinja2 in /usr/local/lib/python3.7/dist-packages (from pascal-voc-writer->image_bbox_slicer) (2.11.3)\n",
            "Requirement already satisfied: MarkupSafe>=0.23 in /usr/local/lib/python3.7/dist-packages (from jinja2->pascal-voc-writer->image_bbox_slicer) (2.0.1)\n",
            "Building wheels for collected packages: image-bbox-slicer\n",
            "  Building wheel for image-bbox-slicer (setup.py) ... \u001b[?25l\u001b[?25hdone\n",
            "  Created wheel for image-bbox-slicer: filename=image_bbox_slicer-0.4-py3-none-any.whl size=12151 sha256=a74298435d1e91209e2933c81162f0b08b51197bbdc8e64660d076fb549daf50\n",
            "  Stored in directory: /root/.cache/pip/wheels/9a/57/4f/559648fffb85e4da4d4f1ff1660372e5f4df5f5db96b8d7086\n",
            "Successfully built image-bbox-slicer\n",
            "Installing collected packages: pascal-voc-writer, image-bbox-slicer\n",
            "Successfully installed image-bbox-slicer-0.4 pascal-voc-writer-0.1.4\n"
          ]
        }
      ]
    },
    {
      "cell_type": "code",
      "source": [],
      "metadata": {
        "id": "Vvaimp5eTrVO"
      },
      "execution_count": null,
      "outputs": []
    }
  ]
}