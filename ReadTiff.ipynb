{
  "nbformat": 4,
  "nbformat_minor": 0,
  "metadata": {
    "colab": {
      "name": "ReadTiff.ipynb",
      "provenance": [],
      "authorship_tag": "ABX9TyMxLDn1OdLVOt2wlwQNt3Ug",
      "include_colab_link": true
    },
    "kernelspec": {
      "name": "python3",
      "display_name": "Python 3"
    },
    "language_info": {
      "name": "python"
    }
  },
  "cells": [
    {
      "cell_type": "markdown",
      "metadata": {
        "id": "view-in-github",
        "colab_type": "text"
      },
      "source": [
        "<a href=\"https://colab.research.google.com/github/snvssk/data298A/blob/saidev/ReadTiff.ipynb\" target=\"_parent\"><img src=\"https://colab.research.google.com/assets/colab-badge.svg\" alt=\"Open In Colab\"/></a>"
      ]
    },
    {
      "cell_type": "code",
      "execution_count": 1,
      "metadata": {
        "id": "V8_pu0vAQRK3"
      },
      "outputs": [],
      "source": [
        "import PIL.Image\n",
        "PIL.Image.MAX_IMAGE_PIXELS = None"
      ]
    },
    {
      "cell_type": "code",
      "source": [
        "path = '/content/sample_data/open_cities_ai_challenge_train_tier_1_source/open_cities_ai_challenge_train_tier_1_source_acc_665946/image.tif'"
      ],
      "metadata": {
        "id": "1oaYoirXQXJK"
      },
      "execution_count": 3,
      "outputs": []
    },
    {
      "cell_type": "code",
      "source": [
        "from PIL import Image\n",
        "im = Image.open(path)"
      ],
      "metadata": {
        "id": "889QngZjQZxg"
      },
      "execution_count": null,
      "outputs": []
    },
    {
      "cell_type": "code",
      "source": [
        "newsize = (1024, 1024)\n",
        "im = im.resize(newsize)\n",
        "im.show()"
      ],
      "metadata": {
        "id": "8OWfkD67Qb1Q"
      },
      "execution_count": null,
      "outputs": []
    }
  ]
}