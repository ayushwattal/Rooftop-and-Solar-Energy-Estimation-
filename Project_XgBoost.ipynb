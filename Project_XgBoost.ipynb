{
  "cells": [
    {
      "cell_type": "markdown",
      "metadata": {
        "id": "view-in-github",
        "colab_type": "text"
      },
      "source": [
        "<a href=\"https://colab.research.google.com/github/snvssk/data298A/blob/saidev/Project_XgBoost.ipynb\" target=\"_parent\"><img src=\"https://colab.research.google.com/assets/colab-badge.svg\" alt=\"Open In Colab\"/></a>"
      ]
    },
    {
      "cell_type": "markdown",
      "metadata": {
        "id": "N3jmk-FJzrqP"
      },
      "source": [
        "Importing Libraries"
      ]
    },
    {
      "cell_type": "code",
      "execution_count": null,
      "metadata": {
        "id": "rxZPwXjEsn6T"
      },
      "outputs": [],
      "source": [
        "import numpy as np\n",
        "import matplotlib.pyplot as plt\n",
        "import pandas as pd\n",
        "from sklearn.metrics import r2_score, mean_squared_error, make_scorer\n",
        "from sklearn.linear_model import Ridge\n",
        "from sklearn.preprocessing import StandardScaler\n",
        "from sklearn.model_selection import GridSearchCV"
      ]
    },
    {
      "cell_type": "markdown",
      "metadata": {
        "id": "CL9hYAbAzwDv"
      },
      "source": [
        "Dataset Import"
      ]
    },
    {
      "cell_type": "code",
      "execution_count": null,
      "metadata": {
        "id": "CzVOvbyjtYtb"
      },
      "outputs": [],
      "source": [
        "dataset = pd.read_csv('./all_combined_city.csv')"
      ]
    },
    {
      "cell_type": "markdown",
      "metadata": {
        "id": "kbyl0skpvsgF"
      },
      "source": [
        "### Input and Output Values"
      ]
    },
    {
      "cell_type": "code",
      "execution_count": null,
      "metadata": {
        "id": "7qjQjSY82nNw",
        "colab": {
          "base_uri": "https://localhost:8080/"
        },
        "outputId": "3c7e1ee0-c09c-4ab3-ed94-6bea1bd63f97"
      },
      "outputs": [
        {
          "output_type": "execute_result",
          "data": {
            "text/plain": [
              "0"
            ]
          },
          "metadata": {},
          "execution_count": 7
        }
      ],
      "source": [
        "dataset['GHI'].isnull().values.sum()"
      ]
    },
    {
      "cell_type": "code",
      "execution_count": null,
      "metadata": {
        "id": "Jy3fBCDnvwQN",
        "colab": {
          "base_uri": "https://localhost:8080/"
        },
        "outputId": "ca77c251-6fe6-4e03-e0ed-7554f05f01db"
      },
      "outputs": [
        {
          "output_type": "execute_result",
          "data": {
            "text/plain": [
              "0          0\n",
              "1          0\n",
              "2          0\n",
              "3          0\n",
              "4          0\n",
              "        ... \n",
              "33484    332\n",
              "33485    296\n",
              "33486    230\n",
              "33487    160\n",
              "33488     88\n",
              "Name: GHI, Length: 33489, dtype: int64"
            ]
          },
          "metadata": {},
          "execution_count": 8
        }
      ],
      "source": [
        "target = dataset['GHI']#keeping only target(ghi) data here\n",
        "target"
      ]
    },
    {
      "cell_type": "code",
      "execution_count": null,
      "metadata": {
        "id": "gk9MTWA-vwT6",
        "colab": {
          "base_uri": "https://localhost:8080/",
          "height": 488
        },
        "outputId": "e8bd6a82-5feb-43f0-b20e-3645d9357048"
      },
      "outputs": [
        {
          "output_type": "execute_result",
          "data": {
            "text/plain": [
              "       Year  Month  Day  Hour  Cloud_Type  Dew_Point  Solar_Zenith_Angle  \\\n",
              "0      2016      1    1   0.0           1          0              165.44   \n",
              "1      2016      1    1   0.5           1          0              165.13   \n",
              "2      2016      1    1   1.0           1          0              162.29   \n",
              "3      2016      1    1   1.5           1          0              157.90   \n",
              "4      2016      1    1   2.0           1          0              152.70   \n",
              "...     ...    ...  ...   ...         ...        ...                 ...   \n",
              "33484  2017     11   28  14.0           8          7               65.60   \n",
              "33485  2017     11   28  14.5           8          7               69.02   \n",
              "33486  2017     11   28  15.0           8          7               72.95   \n",
              "33487  2017     11   28  15.5           8          7               77.32   \n",
              "33488  2017     11   28  16.0           8          8               82.05   \n",
              "\n",
              "       Surface_Albedo  Wind_Speed  Precipitable_Water  Wind_Direction  \\\n",
              "0               0.099         1.0               0.705            72.0   \n",
              "1               0.099         1.0               0.714            72.0   \n",
              "2               0.099         1.0               0.723            73.1   \n",
              "3               0.099         1.0               0.730            73.1   \n",
              "4               0.099         1.0               0.737            65.4   \n",
              "...               ...         ...                 ...             ...   \n",
              "33484           0.104         2.9               1.954           332.7   \n",
              "33485           0.104         2.7               1.991           332.7   \n",
              "33486           0.104         2.6               2.028           336.1   \n",
              "33487           0.104         1.9               2.031           336.1   \n",
              "33488             NaN         NaN                 NaN             NaN   \n",
              "\n",
              "       Relative_Humidity  Temperature  Pressure  \n",
              "0                  87.98          4.0    1020.0  \n",
              "1                  87.97          3.0    1020.0  \n",
              "2                  87.91          3.0    1020.0  \n",
              "3                  87.91          3.0    1020.0  \n",
              "4                  87.69          3.0    1020.0  \n",
              "...                  ...          ...       ...  \n",
              "33484              59.20         16.0    1020.0  \n",
              "33485              63.14         16.0    1020.0  \n",
              "33486              62.80         16.0    1020.0  \n",
              "33487              67.01         15.0    1020.0  \n",
              "33488                NaN          NaN       NaN  \n",
              "\n",
              "[33489 rows x 14 columns]"
            ],
            "text/html": [
              "\n",
              "  <div id=\"df-a876728e-471b-4d56-ba62-90bcf6470416\">\n",
              "    <div class=\"colab-df-container\">\n",
              "      <div>\n",
              "<style scoped>\n",
              "    .dataframe tbody tr th:only-of-type {\n",
              "        vertical-align: middle;\n",
              "    }\n",
              "\n",
              "    .dataframe tbody tr th {\n",
              "        vertical-align: top;\n",
              "    }\n",
              "\n",
              "    .dataframe thead th {\n",
              "        text-align: right;\n",
              "    }\n",
              "</style>\n",
              "<table border=\"1\" class=\"dataframe\">\n",
              "  <thead>\n",
              "    <tr style=\"text-align: right;\">\n",
              "      <th></th>\n",
              "      <th>Year</th>\n",
              "      <th>Month</th>\n",
              "      <th>Day</th>\n",
              "      <th>Hour</th>\n",
              "      <th>Cloud_Type</th>\n",
              "      <th>Dew_Point</th>\n",
              "      <th>Solar_Zenith_Angle</th>\n",
              "      <th>Surface_Albedo</th>\n",
              "      <th>Wind_Speed</th>\n",
              "      <th>Precipitable_Water</th>\n",
              "      <th>Wind_Direction</th>\n",
              "      <th>Relative_Humidity</th>\n",
              "      <th>Temperature</th>\n",
              "      <th>Pressure</th>\n",
              "    </tr>\n",
              "  </thead>\n",
              "  <tbody>\n",
              "    <tr>\n",
              "      <th>0</th>\n",
              "      <td>2016</td>\n",
              "      <td>1</td>\n",
              "      <td>1</td>\n",
              "      <td>0.0</td>\n",
              "      <td>1</td>\n",
              "      <td>0</td>\n",
              "      <td>165.44</td>\n",
              "      <td>0.099</td>\n",
              "      <td>1.0</td>\n",
              "      <td>0.705</td>\n",
              "      <td>72.0</td>\n",
              "      <td>87.98</td>\n",
              "      <td>4.0</td>\n",
              "      <td>1020.0</td>\n",
              "    </tr>\n",
              "    <tr>\n",
              "      <th>1</th>\n",
              "      <td>2016</td>\n",
              "      <td>1</td>\n",
              "      <td>1</td>\n",
              "      <td>0.5</td>\n",
              "      <td>1</td>\n",
              "      <td>0</td>\n",
              "      <td>165.13</td>\n",
              "      <td>0.099</td>\n",
              "      <td>1.0</td>\n",
              "      <td>0.714</td>\n",
              "      <td>72.0</td>\n",
              "      <td>87.97</td>\n",
              "      <td>3.0</td>\n",
              "      <td>1020.0</td>\n",
              "    </tr>\n",
              "    <tr>\n",
              "      <th>2</th>\n",
              "      <td>2016</td>\n",
              "      <td>1</td>\n",
              "      <td>1</td>\n",
              "      <td>1.0</td>\n",
              "      <td>1</td>\n",
              "      <td>0</td>\n",
              "      <td>162.29</td>\n",
              "      <td>0.099</td>\n",
              "      <td>1.0</td>\n",
              "      <td>0.723</td>\n",
              "      <td>73.1</td>\n",
              "      <td>87.91</td>\n",
              "      <td>3.0</td>\n",
              "      <td>1020.0</td>\n",
              "    </tr>\n",
              "    <tr>\n",
              "      <th>3</th>\n",
              "      <td>2016</td>\n",
              "      <td>1</td>\n",
              "      <td>1</td>\n",
              "      <td>1.5</td>\n",
              "      <td>1</td>\n",
              "      <td>0</td>\n",
              "      <td>157.90</td>\n",
              "      <td>0.099</td>\n",
              "      <td>1.0</td>\n",
              "      <td>0.730</td>\n",
              "      <td>73.1</td>\n",
              "      <td>87.91</td>\n",
              "      <td>3.0</td>\n",
              "      <td>1020.0</td>\n",
              "    </tr>\n",
              "    <tr>\n",
              "      <th>4</th>\n",
              "      <td>2016</td>\n",
              "      <td>1</td>\n",
              "      <td>1</td>\n",
              "      <td>2.0</td>\n",
              "      <td>1</td>\n",
              "      <td>0</td>\n",
              "      <td>152.70</td>\n",
              "      <td>0.099</td>\n",
              "      <td>1.0</td>\n",
              "      <td>0.737</td>\n",
              "      <td>65.4</td>\n",
              "      <td>87.69</td>\n",
              "      <td>3.0</td>\n",
              "      <td>1020.0</td>\n",
              "    </tr>\n",
              "    <tr>\n",
              "      <th>...</th>\n",
              "      <td>...</td>\n",
              "      <td>...</td>\n",
              "      <td>...</td>\n",
              "      <td>...</td>\n",
              "      <td>...</td>\n",
              "      <td>...</td>\n",
              "      <td>...</td>\n",
              "      <td>...</td>\n",
              "      <td>...</td>\n",
              "      <td>...</td>\n",
              "      <td>...</td>\n",
              "      <td>...</td>\n",
              "      <td>...</td>\n",
              "      <td>...</td>\n",
              "    </tr>\n",
              "    <tr>\n",
              "      <th>33484</th>\n",
              "      <td>2017</td>\n",
              "      <td>11</td>\n",
              "      <td>28</td>\n",
              "      <td>14.0</td>\n",
              "      <td>8</td>\n",
              "      <td>7</td>\n",
              "      <td>65.60</td>\n",
              "      <td>0.104</td>\n",
              "      <td>2.9</td>\n",
              "      <td>1.954</td>\n",
              "      <td>332.7</td>\n",
              "      <td>59.20</td>\n",
              "      <td>16.0</td>\n",
              "      <td>1020.0</td>\n",
              "    </tr>\n",
              "    <tr>\n",
              "      <th>33485</th>\n",
              "      <td>2017</td>\n",
              "      <td>11</td>\n",
              "      <td>28</td>\n",
              "      <td>14.5</td>\n",
              "      <td>8</td>\n",
              "      <td>7</td>\n",
              "      <td>69.02</td>\n",
              "      <td>0.104</td>\n",
              "      <td>2.7</td>\n",
              "      <td>1.991</td>\n",
              "      <td>332.7</td>\n",
              "      <td>63.14</td>\n",
              "      <td>16.0</td>\n",
              "      <td>1020.0</td>\n",
              "    </tr>\n",
              "    <tr>\n",
              "      <th>33486</th>\n",
              "      <td>2017</td>\n",
              "      <td>11</td>\n",
              "      <td>28</td>\n",
              "      <td>15.0</td>\n",
              "      <td>8</td>\n",
              "      <td>7</td>\n",
              "      <td>72.95</td>\n",
              "      <td>0.104</td>\n",
              "      <td>2.6</td>\n",
              "      <td>2.028</td>\n",
              "      <td>336.1</td>\n",
              "      <td>62.80</td>\n",
              "      <td>16.0</td>\n",
              "      <td>1020.0</td>\n",
              "    </tr>\n",
              "    <tr>\n",
              "      <th>33487</th>\n",
              "      <td>2017</td>\n",
              "      <td>11</td>\n",
              "      <td>28</td>\n",
              "      <td>15.5</td>\n",
              "      <td>8</td>\n",
              "      <td>7</td>\n",
              "      <td>77.32</td>\n",
              "      <td>0.104</td>\n",
              "      <td>1.9</td>\n",
              "      <td>2.031</td>\n",
              "      <td>336.1</td>\n",
              "      <td>67.01</td>\n",
              "      <td>15.0</td>\n",
              "      <td>1020.0</td>\n",
              "    </tr>\n",
              "    <tr>\n",
              "      <th>33488</th>\n",
              "      <td>2017</td>\n",
              "      <td>11</td>\n",
              "      <td>28</td>\n",
              "      <td>16.0</td>\n",
              "      <td>8</td>\n",
              "      <td>8</td>\n",
              "      <td>82.05</td>\n",
              "      <td>NaN</td>\n",
              "      <td>NaN</td>\n",
              "      <td>NaN</td>\n",
              "      <td>NaN</td>\n",
              "      <td>NaN</td>\n",
              "      <td>NaN</td>\n",
              "      <td>NaN</td>\n",
              "    </tr>\n",
              "  </tbody>\n",
              "</table>\n",
              "<p>33489 rows × 14 columns</p>\n",
              "</div>\n",
              "      <button class=\"colab-df-convert\" onclick=\"convertToInteractive('df-a876728e-471b-4d56-ba62-90bcf6470416')\"\n",
              "              title=\"Convert this dataframe to an interactive table.\"\n",
              "              style=\"display:none;\">\n",
              "        \n",
              "  <svg xmlns=\"http://www.w3.org/2000/svg\" height=\"24px\"viewBox=\"0 0 24 24\"\n",
              "       width=\"24px\">\n",
              "    <path d=\"M0 0h24v24H0V0z\" fill=\"none\"/>\n",
              "    <path d=\"M18.56 5.44l.94 2.06.94-2.06 2.06-.94-2.06-.94-.94-2.06-.94 2.06-2.06.94zm-11 1L8.5 8.5l.94-2.06 2.06-.94-2.06-.94L8.5 2.5l-.94 2.06-2.06.94zm10 10l.94 2.06.94-2.06 2.06-.94-2.06-.94-.94-2.06-.94 2.06-2.06.94z\"/><path d=\"M17.41 7.96l-1.37-1.37c-.4-.4-.92-.59-1.43-.59-.52 0-1.04.2-1.43.59L10.3 9.45l-7.72 7.72c-.78.78-.78 2.05 0 2.83L4 21.41c.39.39.9.59 1.41.59.51 0 1.02-.2 1.41-.59l7.78-7.78 2.81-2.81c.8-.78.8-2.07 0-2.86zM5.41 20L4 18.59l7.72-7.72 1.47 1.35L5.41 20z\"/>\n",
              "  </svg>\n",
              "      </button>\n",
              "      \n",
              "  <style>\n",
              "    .colab-df-container {\n",
              "      display:flex;\n",
              "      flex-wrap:wrap;\n",
              "      gap: 12px;\n",
              "    }\n",
              "\n",
              "    .colab-df-convert {\n",
              "      background-color: #E8F0FE;\n",
              "      border: none;\n",
              "      border-radius: 50%;\n",
              "      cursor: pointer;\n",
              "      display: none;\n",
              "      fill: #1967D2;\n",
              "      height: 32px;\n",
              "      padding: 0 0 0 0;\n",
              "      width: 32px;\n",
              "    }\n",
              "\n",
              "    .colab-df-convert:hover {\n",
              "      background-color: #E2EBFA;\n",
              "      box-shadow: 0px 1px 2px rgba(60, 64, 67, 0.3), 0px 1px 3px 1px rgba(60, 64, 67, 0.15);\n",
              "      fill: #174EA6;\n",
              "    }\n",
              "\n",
              "    [theme=dark] .colab-df-convert {\n",
              "      background-color: #3B4455;\n",
              "      fill: #D2E3FC;\n",
              "    }\n",
              "\n",
              "    [theme=dark] .colab-df-convert:hover {\n",
              "      background-color: #434B5C;\n",
              "      box-shadow: 0px 1px 3px 1px rgba(0, 0, 0, 0.15);\n",
              "      filter: drop-shadow(0px 1px 2px rgba(0, 0, 0, 0.3));\n",
              "      fill: #FFFFFF;\n",
              "    }\n",
              "  </style>\n",
              "\n",
              "      <script>\n",
              "        const buttonEl =\n",
              "          document.querySelector('#df-a876728e-471b-4d56-ba62-90bcf6470416 button.colab-df-convert');\n",
              "        buttonEl.style.display =\n",
              "          google.colab.kernel.accessAllowed ? 'block' : 'none';\n",
              "\n",
              "        async function convertToInteractive(key) {\n",
              "          const element = document.querySelector('#df-a876728e-471b-4d56-ba62-90bcf6470416');\n",
              "          const dataTable =\n",
              "            await google.colab.kernel.invokeFunction('convertToInteractive',\n",
              "                                                     [key], {});\n",
              "          if (!dataTable) return;\n",
              "\n",
              "          const docLinkHtml = 'Like what you see? Visit the ' +\n",
              "            '<a target=\"_blank\" href=https://colab.research.google.com/notebooks/data_table.ipynb>data table notebook</a>'\n",
              "            + ' to learn more about interactive tables.';\n",
              "          element.innerHTML = '';\n",
              "          dataTable['output_type'] = 'display_data';\n",
              "          await google.colab.output.renderOutput(dataTable, element);\n",
              "          const docLink = document.createElement('div');\n",
              "          docLink.innerHTML = docLinkHtml;\n",
              "          element.appendChild(docLink);\n",
              "        }\n",
              "      </script>\n",
              "    </div>\n",
              "  </div>\n",
              "  "
            ]
          },
          "metadata": {},
          "execution_count": 9
        }
      ],
      "source": [
        "input= dataset.drop(['GHI'], axis=1)\n",
        "input"
      ]
    },
    {
      "cell_type": "markdown",
      "metadata": {
        "id": "T6AxaYb-FdD2"
      },
      "source": [
        "Feature Scaling"
      ]
    },
    {
      "cell_type": "code",
      "execution_count": null,
      "metadata": {
        "id": "OHhm9fNRvwXT"
      },
      "outputs": [],
      "source": [
        "#Normalize the dataset\n",
        "sc = StandardScaler()\n",
        "input_normalized = sc.fit_transform(input)"
      ]
    },
    {
      "cell_type": "markdown",
      "metadata": {
        "id": "Osiokq0eFfsC"
      },
      "source": [
        "Split Data"
      ]
    },
    {
      "cell_type": "code",
      "execution_count": null,
      "metadata": {
        "id": "1f0imTXxvwa9"
      },
      "outputs": [],
      "source": [
        "from sklearn.model_selection import train_test_split\n",
        "X_train, X_test, y_train, y_test = train_test_split(input_normalized, target, test_size = 0.2, random_state = 0)"
      ]
    },
    {
      "cell_type": "markdown",
      "metadata": {
        "id": "gtdi98Dxz5FF"
      },
      "source": [
        "Training XGBoost on the Training set"
      ]
    },
    {
      "cell_type": "code",
      "execution_count": null,
      "metadata": {
        "colab": {
          "base_uri": "https://localhost:8080/"
        },
        "id": "eEpTIZMbHC09",
        "outputId": "84387a8f-57a0-4056-d897-0edabc57a583"
      },
      "outputs": [
        {
          "output_type": "execute_result",
          "data": {
            "text/plain": [
              "XGBClassifier(learning_rate=0.02, n_estimators=10, nthread=3,\n",
              "              objective='multi:softprob', tree_method='gpu_hist')"
            ]
          },
          "metadata": {},
          "execution_count": 13
        }
      ],
      "source": [
        "from sklearn.datasets import make_classification\n",
        "from xgboost import XGBClassifier\n",
        "model = XGBClassifier(\n",
        "    learning_rate=0.02,\n",
        "    n_estimators=10,\n",
        "    objective=\"binary:logistic\",\n",
        "    nthread=3,\n",
        "    tree_method=\"gpu_hist\"  # this enables GPU.\n",
        ")\n",
        "\n",
        "# fit the model\n",
        "model.fit(X_train, y_train)"
      ]
    },
    {
      "cell_type": "markdown",
      "metadata": {
        "id": "p8_gg3ZNz-z_"
      },
      "source": [
        "Confustion Matrix \n"
      ]
    },
    {
      "cell_type": "code",
      "execution_count": null,
      "metadata": {
        "colab": {
          "base_uri": "https://localhost:8080/"
        },
        "id": "kIGk_tAsz79D",
        "outputId": "e62b6409-93e2-47a1-aed4-8163f6e94d9d"
      },
      "outputs": [
        {
          "output_type": "stream",
          "name": "stdout",
          "text": [
            "[[3386    0    0 ...    0    0    0]\n",
            " [   0    0    0 ...    0    0    0]\n",
            " [   0    0    0 ...    0    0    0]\n",
            " ...\n",
            " [   0    0    0 ...    0    0    0]\n",
            " [   0    0    0 ...    0    0    0]\n",
            " [   0    0    0 ...    0    0    0]]\n"
          ]
        },
        {
          "output_type": "execute_result",
          "data": {
            "text/plain": [
              "0.5140340400119439"
            ]
          },
          "metadata": {},
          "execution_count": 14
        }
      ],
      "source": [
        "from sklearn.metrics import confusion_matrix, accuracy_score\n",
        "y_pred = model.predict(X_test)\n",
        "cm = confusion_matrix(y_test, y_pred)\n",
        "print(cm)\n",
        "accuracy_score(y_test, y_pred)"
      ]
    },
    {
      "cell_type": "code",
      "execution_count": null,
      "metadata": {
        "id": "ecJVjl7rF0fQ"
      },
      "outputs": [],
      "source": [
        "import math\n",
        "\n",
        "MSE = np.square(np.subtract(y_test, y_pred)).mean() \n",
        " \n",
        "RMSE = math.sqrt(MSE)"
      ]
    },
    {
      "cell_type": "code",
      "execution_count": null,
      "metadata": {
        "colab": {
          "base_uri": "https://localhost:8080/"
        },
        "id": "HVS84cHLGB6W",
        "outputId": "45cc7f0e-e319-4d79-b2c2-b4ed94d4a714"
      },
      "outputs": [
        {
          "output_type": "execute_result",
          "data": {
            "text/plain": [
              "8894.313526425798"
            ]
          },
          "metadata": {},
          "execution_count": 16
        }
      ],
      "source": [
        "MSE"
      ]
    },
    {
      "cell_type": "code",
      "execution_count": null,
      "metadata": {
        "colab": {
          "base_uri": "https://localhost:8080/"
        },
        "id": "lmjTGWkRGWx_",
        "outputId": "cf2fe4ba-ae17-409b-c379-31c1f3d662de"
      },
      "outputs": [
        {
          "output_type": "execute_result",
          "data": {
            "text/plain": [
              "94.30966825530561"
            ]
          },
          "metadata": {},
          "execution_count": 17
        }
      ],
      "source": [
        "# Considering RMSE as this is regression problem\n",
        "RMSE"
      ]
    },
    {
      "cell_type": "code",
      "source": [
        "# Calculating R2 score\n",
        "\n",
        "from sklearn.metrics import r2_score\n",
        "r2 = r2_score(y_test, y_pred)\n",
        "r2"
      ],
      "metadata": {
        "colab": {
          "base_uri": "https://localhost:8080/"
        },
        "id": "CT5QaQisHKQu",
        "outputId": "cbfafd18-2205-4079-e519-617bcaeddbb4"
      },
      "execution_count": null,
      "outputs": [
        {
          "output_type": "execute_result",
          "data": {
            "text/plain": [
              "0.9076422592991343"
            ]
          },
          "metadata": {},
          "execution_count": 18
        }
      ]
    },
    {
      "cell_type": "markdown",
      "source": [
        "Need to Try GridSearchCV in Future. Below code is for future reference\n"
      ],
      "metadata": {
        "id": "YT9E-Ez5QeEl"
      }
    },
    {
      "cell_type": "code",
      "execution_count": null,
      "metadata": {
        "id": "5E6e8ddBJRWD"
      },
      "outputs": [],
      "source": [
        "estimator = XGBClassifier(\n",
        "    objective= 'binary:logistic',\n",
        "    nthread=4,\n",
        "    seed=42\n",
        ")"
      ]
    },
    {
      "cell_type": "code",
      "execution_count": null,
      "metadata": {
        "id": "529kb9JVIyEw"
      },
      "outputs": [],
      "source": [
        "parameters = {\n",
        "    'max_depth': range (1, 2, 5),\n",
        "    'n_estimators': range(10, 30, 100),\n",
        "    'learning_rate': [0.1, 0.01, 0.05]\n",
        "}"
      ]
    },
    {
      "cell_type": "code",
      "execution_count": null,
      "metadata": {
        "id": "SHSTuhN9I31n"
      },
      "outputs": [],
      "source": [
        "grid_search = GridSearchCV(\n",
        "    estimator=estimator,\n",
        "    param_grid=parameters,\n",
        "    scoring = 'neg_mean_squared_error',\n",
        "    n_jobs = None,\n",
        "    cv = 3,\n",
        "    verbose=True\n",
        ")"
      ]
    },
    {
      "cell_type": "code",
      "execution_count": null,
      "metadata": {
        "colab": {
          "base_uri": "https://localhost:8080/"
        },
        "id": "AZILEshqLZvS",
        "outputId": "69cd5679-7e8a-4ccb-d1df-a277e53bc1e9"
      },
      "outputs": [
        {
          "metadata": {
            "tags": null
          },
          "name": "stdout",
          "output_type": "stream",
          "text": [
            "Fitting 3 folds for each of 3 candidates, totalling 9 fits\n"
          ]
        },
        {
          "metadata": {
            "tags": null
          },
          "name": "stderr",
          "output_type": "stream",
          "text": [
            "/usr/local/lib/python3.7/dist-packages/sklearn/model_selection/_split.py:680: UserWarning: The least populated class in y has only 1 members, which is less than n_splits=3.\n",
            "  UserWarning,\n"
          ]
        },
        {
          "output_type": "stream",
          "name": "stdout",
          "text": [
            "Best parameters: {'learning_rate': 0.1, 'max_depth': 1, 'n_estimators': 10}\n",
            "Lowest RMSE:  151.7231560416114\n"
          ]
        }
      ],
      "source": [
        "grid_search.fit(X_train, y_train)\n",
        "print(\"Best parameters:\", grid_search.best_params_)\n",
        "print(\"Lowest RMSE: \", (-grid_search.best_score_)**(1/2.0))"
      ]
    }
  ],
  "metadata": {
    "accelerator": "GPU",
    "colab": {
      "collapsed_sections": [],
      "machine_shape": "hm",
      "provenance": [],
      "include_colab_link": true
    },
    "gpuClass": "premium",
    "kernelspec": {
      "display_name": "Python 3",
      "name": "python3"
    },
    "language_info": {
      "name": "python"
    }
  },
  "nbformat": 4,
  "nbformat_minor": 0
}