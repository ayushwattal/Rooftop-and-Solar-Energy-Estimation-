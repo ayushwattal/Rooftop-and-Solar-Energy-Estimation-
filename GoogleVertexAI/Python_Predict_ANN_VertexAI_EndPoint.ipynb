{
  "nbformat": 4,
  "nbformat_minor": 0,
  "metadata": {
    "colab": {
      "provenance": [],
      "authorship_tag": "ABX9TyOlWiUB/Yzb3bE/DurtY8rL",
      "include_colab_link": true
    },
    "kernelspec": {
      "name": "python3",
      "display_name": "Python 3"
    },
    "language_info": {
      "name": "python"
    }
  },
  "cells": [
    {
      "cell_type": "markdown",
      "metadata": {
        "id": "view-in-github",
        "colab_type": "text"
      },
      "source": [
        "<a href=\"https://colab.research.google.com/github/snvssk/data298A/blob/development/GoogleVertexAI/Python_Predict_ANN_VertexAI_EndPoint.ipynb\" target=\"_parent\"><img src=\"https://colab.research.google.com/assets/colab-badge.svg\" alt=\"Open In Colab\"/></a>"
      ]
    },
    {
      "cell_type": "code",
      "execution_count": null,
      "metadata": {
        "id": "y8_3DGaAXnwN"
      },
      "outputs": [],
      "source": [
        "import pandas as pd\n",
        "df = pd.read_csv('cupertino_transformed_combined.csv')\n",
        "testdata = df.drop(columns='Unnamed: 0')\n",
        "testdata_final = testdata.dropna()\n",
        "#df"
      ]
    },
    {
      "cell_type": "code",
      "source": [
        "df['Hour'] = df['Hour'] + df['Minute'] / 60\n",
        "# Remove 'Minute'\n",
        "# var_names = list(df.dtypes.names)\n",
        "# keep_vars = [_ for _ in var_names if _ != 'Minute']\n",
        "data_trimmed = df.drop(['Minute', 'Unnamed: 0'],axis =1)\n",
        "data_trimmed"
      ],
      "metadata": {
        "id": "bwnR2eSuXq4c"
      },
      "execution_count": null,
      "outputs": []
    },
    {
      "cell_type": "code",
      "source": [
        "input = data_trimmed.drop(['GHI', 'Location'],axis =1)\n",
        "from sklearn.preprocessing import StandardScaler\n",
        "import numpy as np\n",
        "sc = StandardScaler()\n",
        "input_nor_test = sc.fit_transform(input)\n",
        "x = input_nor_test[1].astype(np.float32).tolist()\n",
        "x"
      ],
      "metadata": {
        "id": "1zskH8gJXq7Q"
      },
      "execution_count": null,
      "outputs": []
    },
    {
      "cell_type": "markdown",
      "source": [
        "# Vertex AI Prediction code"
      ],
      "metadata": {
        "id": "bYXrO4ULi8XL"
      }
    },
    {
      "cell_type": "code",
      "source": [
        "from google.cloud import aiplatform\n",
        "PROJECT_NUMBER='586683398823'\n",
        "ENDPOINT_ID='2503315297562263552'\n",
        "endpoint_name=f\"projects/586683398823/locations/us-east1/endpoints/2503315297562263552\"\n",
        "endpoint=aiplatform.Endpoint(endpoint_name=endpoint_name)"
      ],
      "metadata": {
        "id": "VIqviHA6jAPD"
      },
      "execution_count": null,
      "outputs": []
    },
    {
      "cell_type": "code",
      "source": [
        "endpoint.predict(instances=[x]).predictions"
      ],
      "metadata": {
        "id": "7_X5SftmjASV"
      },
      "execution_count": null,
      "outputs": []
    }
  ]
}