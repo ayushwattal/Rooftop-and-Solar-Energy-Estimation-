{
  "nbformat": 4,
  "nbformat_minor": 0,
  "metadata": {
    "colab": {
      "provenance": [],
      "authorship_tag": "ABX9TyOJ5TJkfDN05PW5w8AMMEGf",
      "include_colab_link": true
    },
    "kernelspec": {
      "name": "python3",
      "display_name": "Python 3"
    },
    "language_info": {
      "name": "python"
    }
  },
  "cells": [
    {
      "cell_type": "markdown",
      "metadata": {
        "id": "view-in-github",
        "colab_type": "text"
      },
      "source": [
        "<a href=\"https://colab.research.google.com/github/snvssk/data298A/blob/development/GoogleVertexAI/Python_Predict_ANN_VertexAI_EndPoint.ipynb\" target=\"_parent\"><img src=\"https://colab.research.google.com/assets/colab-badge.svg\" alt=\"Open In Colab\"/></a>"
      ]
    },
    {
      "cell_type": "code",
      "execution_count": null,
      "metadata": {
        "id": "y8_3DGaAXnwN"
      },
      "outputs": [],
      "source": [
        "import pandas as pd\n",
        "df = pd.read_csv('/content/cupertino_transformed_combined.csv')\n",
        "testdata = df.drop(columns='Unnamed: 0')\n",
        "testdata_final = testdata.dropna()"
      ]
    },
    {
      "cell_type": "code",
      "source": [
        "input_data_test= testdata_final.drop(columns='GHI')\n",
        "output_test=fostertest_final['GHI']"
      ],
      "metadata": {
        "id": "bwnR2eSuXq4c"
      },
      "execution_count": null,
      "outputs": []
    },
    {
      "cell_type": "code",
      "source": [
        "from sklearn.preprocessing import StandardScaler\n",
        "sc = StandardScaler()\n",
        "input_nor_test = sc.fit_transform(input_data_test)\n",
        "y_pred_test=model.predict(input_nor_test)"
      ],
      "metadata": {
        "id": "1zskH8gJXq7Q"
      },
      "execution_count": null,
      "outputs": []
    },
    {
      "cell_type": "markdown",
      "source": [
        "# Vertex AI Prediction code"
      ],
      "metadata": {
        "id": "bYXrO4ULi8XL"
      }
    },
    {
      "cell_type": "code",
      "source": [
        "from google.cloud import aiplatform\n",
        "PROJECT_NUMBER='818757005656'\n",
        "ENDPOINT_ID='8224492111299346432'\n",
        "\n",
        "endpoint_name=f\"projects/818757005656/locations/us-central1/endpoints/8224492111299346432\"\n",
        "\n",
        "endpoint=aiplatform.Endpoint(endpoint_name=endpoint_name)\n",
        "\n",
        "import pandas as pd\n",
        "df = pd.read_csv('cupertino_transformed_combined.csv')\n",
        "testdata = df.drop(columns='Unnamed: 0')\n",
        "testdata_final = testdata.dropna()\n",
        "\n",
        "input_data_test= testdata_final.drop(columns='GHI')\n",
        "output_test=testdata_final['GHI']\n",
        "\n",
        "from sklearn.preprocessing import StandardScaler\n",
        "import numpy as np\n",
        "sc = StandardScaler()\n",
        "input_nor_test = sc.fit_transform(input_data_test)\n",
        "\n",
        "input_nor_test=np.asarray(input_nor_test).astype(np.float32).tolist()"
      ],
      "metadata": {
        "id": "VIqviHA6jAPD"
      },
      "execution_count": null,
      "outputs": []
    },
    {
      "cell_type": "code",
      "source": [
        "endpoint.predict(instances=[input_nor_test]).predictions"
      ],
      "metadata": {
        "id": "7_X5SftmjASV"
      },
      "execution_count": null,
      "outputs": []
    }
  ]
}