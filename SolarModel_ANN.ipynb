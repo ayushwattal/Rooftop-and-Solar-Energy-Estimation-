{
  "cells": [
    {
      "cell_type": "markdown",
      "metadata": {
        "id": "view-in-github",
        "colab_type": "text"
      },
      "source": [
        "<a href=\"https://colab.research.google.com/github/snvssk/data298A/blob/saidev/SolarModel_ANN.ipynb\" target=\"_parent\"><img src=\"https://colab.research.google.com/assets/colab-badge.svg\" alt=\"Open In Colab\"/></a>"
      ]
    },
    {
      "cell_type": "code",
      "source": [
        "import math\n",
        "import pandas as pd\n",
        "import tensorflow as tf\n",
        "import matplotlib.pyplot as plt\n",
        "from tensorflow.keras import Model\n",
        "from tensorflow.keras import Sequential\n",
        "from tensorflow.keras.optimizers import Adam\n",
        "from sklearn.preprocessing import StandardScaler\n",
        "from tensorflow.keras.layers import Dense, Dropout\n",
        "from sklearn.model_selection import train_test_split\n",
        "#from tensorflow.keras.losses import MeanSquaredLogarithmicError\n",
        "\n",
        "\n",
        "from sklearn.metrics import mean_squared_error\n",
        "from sklearn.metrics import r2_score\n",
        "from math import sqrt"
      ],
      "metadata": {
        "id": "QfUqcTPLFUvi"
      },
      "id": "QfUqcTPLFUvi",
      "execution_count": 1,
      "outputs": []
    },
    {
      "cell_type": "code",
      "execution_count": 2,
      "id": "03fd1fd4",
      "metadata": {
        "id": "03fd1fd4"
      },
      "outputs": [],
      "source": [
        "nsrdb = pd.read_csv('/content/all_combined_city.csv')"
      ]
    },
    {
      "cell_type": "code",
      "execution_count": 3,
      "id": "8c6d401a",
      "metadata": {
        "colab": {
          "base_uri": "https://localhost:8080/",
          "height": 488
        },
        "id": "8c6d401a",
        "outputId": "813e9492-18a1-4916-bfb5-a3d883e3d7c7"
      },
      "outputs": [
        {
          "output_type": "execute_result",
          "data": {
            "text/plain": [
              "        Year  Month  Day  Hour  GHI  Cloud_Type  Dew_Point  \\\n",
              "0       2016      1    1   0.0    0           1        0.0   \n",
              "1       2016      1    1   0.5    0           1        0.0   \n",
              "2       2016      1    1   1.0    0           1        0.0   \n",
              "3       2016      1    1   1.5    0           1        0.0   \n",
              "4       2016      1    1   2.0    0           1        0.0   \n",
              "...      ...    ...  ...   ...  ...         ...        ...   \n",
              "526171  2020     12   31  21.5    0           7        7.5   \n",
              "526172  2020     12   31  22.0    0           7        7.8   \n",
              "526173  2020     12   31  22.5    0           7        7.8   \n",
              "526174  2020     12   31  23.0    0           7        8.5   \n",
              "526175  2020     12   31  23.5    0           7        8.5   \n",
              "\n",
              "        Solar_Zenith_Angle  Surface_Albedo  Wind_Speed  Precipitable_Water  \\\n",
              "0                   165.44           0.099         1.0               0.705   \n",
              "1                   165.13           0.099         1.0               0.714   \n",
              "2                   162.29           0.099         1.0               0.723   \n",
              "3                   157.90           0.099         1.0               0.730   \n",
              "4                   152.70           0.099         1.0               0.737   \n",
              "...                    ...             ...         ...                 ...   \n",
              "526171              142.70           0.110         1.1               0.900   \n",
              "526172              148.49           0.110         1.4               1.000   \n",
              "526173              154.04           0.110         1.6               1.000   \n",
              "526174              159.12           0.110         1.7               1.000   \n",
              "526175              163.25           0.110         1.7               1.000   \n",
              "\n",
              "        Wind_Direction  Relative_Humidity  Temperature  Pressure  \n",
              "0                 72.0              87.98          4.0      1020  \n",
              "1                 72.0              87.97          3.0      1020  \n",
              "2                 73.1              87.91          3.0      1020  \n",
              "3                 73.1              87.91          3.0      1020  \n",
              "4                 65.4              87.69          3.0      1020  \n",
              "...                ...                ...          ...       ...  \n",
              "526171           323.0              83.23         10.2      1006  \n",
              "526172           294.0              88.11          9.7      1006  \n",
              "526173           298.0              91.73          9.1      1006  \n",
              "526174           302.0              99.42          8.6      1006  \n",
              "526175           311.0             100.00          8.5      1006  \n",
              "\n",
              "[526176 rows x 15 columns]"
            ],
            "text/html": [
              "\n",
              "  <div id=\"df-a9476b3d-0d38-4e00-90cd-b6c187eac86d\">\n",
              "    <div class=\"colab-df-container\">\n",
              "      <div>\n",
              "<style scoped>\n",
              "    .dataframe tbody tr th:only-of-type {\n",
              "        vertical-align: middle;\n",
              "    }\n",
              "\n",
              "    .dataframe tbody tr th {\n",
              "        vertical-align: top;\n",
              "    }\n",
              "\n",
              "    .dataframe thead th {\n",
              "        text-align: right;\n",
              "    }\n",
              "</style>\n",
              "<table border=\"1\" class=\"dataframe\">\n",
              "  <thead>\n",
              "    <tr style=\"text-align: right;\">\n",
              "      <th></th>\n",
              "      <th>Year</th>\n",
              "      <th>Month</th>\n",
              "      <th>Day</th>\n",
              "      <th>Hour</th>\n",
              "      <th>GHI</th>\n",
              "      <th>Cloud_Type</th>\n",
              "      <th>Dew_Point</th>\n",
              "      <th>Solar_Zenith_Angle</th>\n",
              "      <th>Surface_Albedo</th>\n",
              "      <th>Wind_Speed</th>\n",
              "      <th>Precipitable_Water</th>\n",
              "      <th>Wind_Direction</th>\n",
              "      <th>Relative_Humidity</th>\n",
              "      <th>Temperature</th>\n",
              "      <th>Pressure</th>\n",
              "    </tr>\n",
              "  </thead>\n",
              "  <tbody>\n",
              "    <tr>\n",
              "      <th>0</th>\n",
              "      <td>2016</td>\n",
              "      <td>1</td>\n",
              "      <td>1</td>\n",
              "      <td>0.0</td>\n",
              "      <td>0</td>\n",
              "      <td>1</td>\n",
              "      <td>0.0</td>\n",
              "      <td>165.44</td>\n",
              "      <td>0.099</td>\n",
              "      <td>1.0</td>\n",
              "      <td>0.705</td>\n",
              "      <td>72.0</td>\n",
              "      <td>87.98</td>\n",
              "      <td>4.0</td>\n",
              "      <td>1020</td>\n",
              "    </tr>\n",
              "    <tr>\n",
              "      <th>1</th>\n",
              "      <td>2016</td>\n",
              "      <td>1</td>\n",
              "      <td>1</td>\n",
              "      <td>0.5</td>\n",
              "      <td>0</td>\n",
              "      <td>1</td>\n",
              "      <td>0.0</td>\n",
              "      <td>165.13</td>\n",
              "      <td>0.099</td>\n",
              "      <td>1.0</td>\n",
              "      <td>0.714</td>\n",
              "      <td>72.0</td>\n",
              "      <td>87.97</td>\n",
              "      <td>3.0</td>\n",
              "      <td>1020</td>\n",
              "    </tr>\n",
              "    <tr>\n",
              "      <th>2</th>\n",
              "      <td>2016</td>\n",
              "      <td>1</td>\n",
              "      <td>1</td>\n",
              "      <td>1.0</td>\n",
              "      <td>0</td>\n",
              "      <td>1</td>\n",
              "      <td>0.0</td>\n",
              "      <td>162.29</td>\n",
              "      <td>0.099</td>\n",
              "      <td>1.0</td>\n",
              "      <td>0.723</td>\n",
              "      <td>73.1</td>\n",
              "      <td>87.91</td>\n",
              "      <td>3.0</td>\n",
              "      <td>1020</td>\n",
              "    </tr>\n",
              "    <tr>\n",
              "      <th>3</th>\n",
              "      <td>2016</td>\n",
              "      <td>1</td>\n",
              "      <td>1</td>\n",
              "      <td>1.5</td>\n",
              "      <td>0</td>\n",
              "      <td>1</td>\n",
              "      <td>0.0</td>\n",
              "      <td>157.90</td>\n",
              "      <td>0.099</td>\n",
              "      <td>1.0</td>\n",
              "      <td>0.730</td>\n",
              "      <td>73.1</td>\n",
              "      <td>87.91</td>\n",
              "      <td>3.0</td>\n",
              "      <td>1020</td>\n",
              "    </tr>\n",
              "    <tr>\n",
              "      <th>4</th>\n",
              "      <td>2016</td>\n",
              "      <td>1</td>\n",
              "      <td>1</td>\n",
              "      <td>2.0</td>\n",
              "      <td>0</td>\n",
              "      <td>1</td>\n",
              "      <td>0.0</td>\n",
              "      <td>152.70</td>\n",
              "      <td>0.099</td>\n",
              "      <td>1.0</td>\n",
              "      <td>0.737</td>\n",
              "      <td>65.4</td>\n",
              "      <td>87.69</td>\n",
              "      <td>3.0</td>\n",
              "      <td>1020</td>\n",
              "    </tr>\n",
              "    <tr>\n",
              "      <th>...</th>\n",
              "      <td>...</td>\n",
              "      <td>...</td>\n",
              "      <td>...</td>\n",
              "      <td>...</td>\n",
              "      <td>...</td>\n",
              "      <td>...</td>\n",
              "      <td>...</td>\n",
              "      <td>...</td>\n",
              "      <td>...</td>\n",
              "      <td>...</td>\n",
              "      <td>...</td>\n",
              "      <td>...</td>\n",
              "      <td>...</td>\n",
              "      <td>...</td>\n",
              "      <td>...</td>\n",
              "    </tr>\n",
              "    <tr>\n",
              "      <th>526171</th>\n",
              "      <td>2020</td>\n",
              "      <td>12</td>\n",
              "      <td>31</td>\n",
              "      <td>21.5</td>\n",
              "      <td>0</td>\n",
              "      <td>7</td>\n",
              "      <td>7.5</td>\n",
              "      <td>142.70</td>\n",
              "      <td>0.110</td>\n",
              "      <td>1.1</td>\n",
              "      <td>0.900</td>\n",
              "      <td>323.0</td>\n",
              "      <td>83.23</td>\n",
              "      <td>10.2</td>\n",
              "      <td>1006</td>\n",
              "    </tr>\n",
              "    <tr>\n",
              "      <th>526172</th>\n",
              "      <td>2020</td>\n",
              "      <td>12</td>\n",
              "      <td>31</td>\n",
              "      <td>22.0</td>\n",
              "      <td>0</td>\n",
              "      <td>7</td>\n",
              "      <td>7.8</td>\n",
              "      <td>148.49</td>\n",
              "      <td>0.110</td>\n",
              "      <td>1.4</td>\n",
              "      <td>1.000</td>\n",
              "      <td>294.0</td>\n",
              "      <td>88.11</td>\n",
              "      <td>9.7</td>\n",
              "      <td>1006</td>\n",
              "    </tr>\n",
              "    <tr>\n",
              "      <th>526173</th>\n",
              "      <td>2020</td>\n",
              "      <td>12</td>\n",
              "      <td>31</td>\n",
              "      <td>22.5</td>\n",
              "      <td>0</td>\n",
              "      <td>7</td>\n",
              "      <td>7.8</td>\n",
              "      <td>154.04</td>\n",
              "      <td>0.110</td>\n",
              "      <td>1.6</td>\n",
              "      <td>1.000</td>\n",
              "      <td>298.0</td>\n",
              "      <td>91.73</td>\n",
              "      <td>9.1</td>\n",
              "      <td>1006</td>\n",
              "    </tr>\n",
              "    <tr>\n",
              "      <th>526174</th>\n",
              "      <td>2020</td>\n",
              "      <td>12</td>\n",
              "      <td>31</td>\n",
              "      <td>23.0</td>\n",
              "      <td>0</td>\n",
              "      <td>7</td>\n",
              "      <td>8.5</td>\n",
              "      <td>159.12</td>\n",
              "      <td>0.110</td>\n",
              "      <td>1.7</td>\n",
              "      <td>1.000</td>\n",
              "      <td>302.0</td>\n",
              "      <td>99.42</td>\n",
              "      <td>8.6</td>\n",
              "      <td>1006</td>\n",
              "    </tr>\n",
              "    <tr>\n",
              "      <th>526175</th>\n",
              "      <td>2020</td>\n",
              "      <td>12</td>\n",
              "      <td>31</td>\n",
              "      <td>23.5</td>\n",
              "      <td>0</td>\n",
              "      <td>7</td>\n",
              "      <td>8.5</td>\n",
              "      <td>163.25</td>\n",
              "      <td>0.110</td>\n",
              "      <td>1.7</td>\n",
              "      <td>1.000</td>\n",
              "      <td>311.0</td>\n",
              "      <td>100.00</td>\n",
              "      <td>8.5</td>\n",
              "      <td>1006</td>\n",
              "    </tr>\n",
              "  </tbody>\n",
              "</table>\n",
              "<p>526176 rows × 15 columns</p>\n",
              "</div>\n",
              "      <button class=\"colab-df-convert\" onclick=\"convertToInteractive('df-a9476b3d-0d38-4e00-90cd-b6c187eac86d')\"\n",
              "              title=\"Convert this dataframe to an interactive table.\"\n",
              "              style=\"display:none;\">\n",
              "        \n",
              "  <svg xmlns=\"http://www.w3.org/2000/svg\" height=\"24px\"viewBox=\"0 0 24 24\"\n",
              "       width=\"24px\">\n",
              "    <path d=\"M0 0h24v24H0V0z\" fill=\"none\"/>\n",
              "    <path d=\"M18.56 5.44l.94 2.06.94-2.06 2.06-.94-2.06-.94-.94-2.06-.94 2.06-2.06.94zm-11 1L8.5 8.5l.94-2.06 2.06-.94-2.06-.94L8.5 2.5l-.94 2.06-2.06.94zm10 10l.94 2.06.94-2.06 2.06-.94-2.06-.94-.94-2.06-.94 2.06-2.06.94z\"/><path d=\"M17.41 7.96l-1.37-1.37c-.4-.4-.92-.59-1.43-.59-.52 0-1.04.2-1.43.59L10.3 9.45l-7.72 7.72c-.78.78-.78 2.05 0 2.83L4 21.41c.39.39.9.59 1.41.59.51 0 1.02-.2 1.41-.59l7.78-7.78 2.81-2.81c.8-.78.8-2.07 0-2.86zM5.41 20L4 18.59l7.72-7.72 1.47 1.35L5.41 20z\"/>\n",
              "  </svg>\n",
              "      </button>\n",
              "      \n",
              "  <style>\n",
              "    .colab-df-container {\n",
              "      display:flex;\n",
              "      flex-wrap:wrap;\n",
              "      gap: 12px;\n",
              "    }\n",
              "\n",
              "    .colab-df-convert {\n",
              "      background-color: #E8F0FE;\n",
              "      border: none;\n",
              "      border-radius: 50%;\n",
              "      cursor: pointer;\n",
              "      display: none;\n",
              "      fill: #1967D2;\n",
              "      height: 32px;\n",
              "      padding: 0 0 0 0;\n",
              "      width: 32px;\n",
              "    }\n",
              "\n",
              "    .colab-df-convert:hover {\n",
              "      background-color: #E2EBFA;\n",
              "      box-shadow: 0px 1px 2px rgba(60, 64, 67, 0.3), 0px 1px 3px 1px rgba(60, 64, 67, 0.15);\n",
              "      fill: #174EA6;\n",
              "    }\n",
              "\n",
              "    [theme=dark] .colab-df-convert {\n",
              "      background-color: #3B4455;\n",
              "      fill: #D2E3FC;\n",
              "    }\n",
              "\n",
              "    [theme=dark] .colab-df-convert:hover {\n",
              "      background-color: #434B5C;\n",
              "      box-shadow: 0px 1px 3px 1px rgba(0, 0, 0, 0.15);\n",
              "      filter: drop-shadow(0px 1px 2px rgba(0, 0, 0, 0.3));\n",
              "      fill: #FFFFFF;\n",
              "    }\n",
              "  </style>\n",
              "\n",
              "      <script>\n",
              "        const buttonEl =\n",
              "          document.querySelector('#df-a9476b3d-0d38-4e00-90cd-b6c187eac86d button.colab-df-convert');\n",
              "        buttonEl.style.display =\n",
              "          google.colab.kernel.accessAllowed ? 'block' : 'none';\n",
              "\n",
              "        async function convertToInteractive(key) {\n",
              "          const element = document.querySelector('#df-a9476b3d-0d38-4e00-90cd-b6c187eac86d');\n",
              "          const dataTable =\n",
              "            await google.colab.kernel.invokeFunction('convertToInteractive',\n",
              "                                                     [key], {});\n",
              "          if (!dataTable) return;\n",
              "\n",
              "          const docLinkHtml = 'Like what you see? Visit the ' +\n",
              "            '<a target=\"_blank\" href=https://colab.research.google.com/notebooks/data_table.ipynb>data table notebook</a>'\n",
              "            + ' to learn more about interactive tables.';\n",
              "          element.innerHTML = '';\n",
              "          dataTable['output_type'] = 'display_data';\n",
              "          await google.colab.output.renderOutput(dataTable, element);\n",
              "          const docLink = document.createElement('div');\n",
              "          docLink.innerHTML = docLinkHtml;\n",
              "          element.appendChild(docLink);\n",
              "        }\n",
              "      </script>\n",
              "    </div>\n",
              "  </div>\n",
              "  "
            ]
          },
          "metadata": {},
          "execution_count": 3
        }
      ],
      "source": [
        "nsrdb"
      ]
    },
    {
      "cell_type": "code",
      "source": [
        "target = nsrdb['GHI']#keeping only target(ghi) data here\n",
        "target"
      ],
      "metadata": {
        "colab": {
          "base_uri": "https://localhost:8080/"
        },
        "id": "Lul3jx7LT1rx",
        "outputId": "f7dc9992-e37d-4e6e-a323-b39b0c2b06b3"
      },
      "id": "Lul3jx7LT1rx",
      "execution_count": 4,
      "outputs": [
        {
          "output_type": "execute_result",
          "data": {
            "text/plain": [
              "0         0\n",
              "1         0\n",
              "2         0\n",
              "3         0\n",
              "4         0\n",
              "         ..\n",
              "526171    0\n",
              "526172    0\n",
              "526173    0\n",
              "526174    0\n",
              "526175    0\n",
              "Name: GHI, Length: 526176, dtype: int64"
            ]
          },
          "metadata": {},
          "execution_count": 4
        }
      ]
    },
    {
      "cell_type": "code",
      "source": [
        "input= nsrdb.drop(['GHI'], axis=1)\n",
        "input"
      ],
      "metadata": {
        "colab": {
          "base_uri": "https://localhost:8080/",
          "height": 488
        },
        "id": "AkmweWCjT1uX",
        "outputId": "a4125a58-dadd-4696-9835-a2e26fcfb5fe"
      },
      "id": "AkmweWCjT1uX",
      "execution_count": 5,
      "outputs": [
        {
          "output_type": "execute_result",
          "data": {
            "text/plain": [
              "        Year  Month  Day  Hour  Cloud_Type  Dew_Point  Solar_Zenith_Angle  \\\n",
              "0       2016      1    1   0.0           1        0.0              165.44   \n",
              "1       2016      1    1   0.5           1        0.0              165.13   \n",
              "2       2016      1    1   1.0           1        0.0              162.29   \n",
              "3       2016      1    1   1.5           1        0.0              157.90   \n",
              "4       2016      1    1   2.0           1        0.0              152.70   \n",
              "...      ...    ...  ...   ...         ...        ...                 ...   \n",
              "526171  2020     12   31  21.5           7        7.5              142.70   \n",
              "526172  2020     12   31  22.0           7        7.8              148.49   \n",
              "526173  2020     12   31  22.5           7        7.8              154.04   \n",
              "526174  2020     12   31  23.0           7        8.5              159.12   \n",
              "526175  2020     12   31  23.5           7        8.5              163.25   \n",
              "\n",
              "        Surface_Albedo  Wind_Speed  Precipitable_Water  Wind_Direction  \\\n",
              "0                0.099         1.0               0.705            72.0   \n",
              "1                0.099         1.0               0.714            72.0   \n",
              "2                0.099         1.0               0.723            73.1   \n",
              "3                0.099         1.0               0.730            73.1   \n",
              "4                0.099         1.0               0.737            65.4   \n",
              "...                ...         ...                 ...             ...   \n",
              "526171           0.110         1.1               0.900           323.0   \n",
              "526172           0.110         1.4               1.000           294.0   \n",
              "526173           0.110         1.6               1.000           298.0   \n",
              "526174           0.110         1.7               1.000           302.0   \n",
              "526175           0.110         1.7               1.000           311.0   \n",
              "\n",
              "        Relative_Humidity  Temperature  Pressure  \n",
              "0                   87.98          4.0      1020  \n",
              "1                   87.97          3.0      1020  \n",
              "2                   87.91          3.0      1020  \n",
              "3                   87.91          3.0      1020  \n",
              "4                   87.69          3.0      1020  \n",
              "...                   ...          ...       ...  \n",
              "526171              83.23         10.2      1006  \n",
              "526172              88.11          9.7      1006  \n",
              "526173              91.73          9.1      1006  \n",
              "526174              99.42          8.6      1006  \n",
              "526175             100.00          8.5      1006  \n",
              "\n",
              "[526176 rows x 14 columns]"
            ],
            "text/html": [
              "\n",
              "  <div id=\"df-c4985858-141b-4576-a244-231db87ae4aa\">\n",
              "    <div class=\"colab-df-container\">\n",
              "      <div>\n",
              "<style scoped>\n",
              "    .dataframe tbody tr th:only-of-type {\n",
              "        vertical-align: middle;\n",
              "    }\n",
              "\n",
              "    .dataframe tbody tr th {\n",
              "        vertical-align: top;\n",
              "    }\n",
              "\n",
              "    .dataframe thead th {\n",
              "        text-align: right;\n",
              "    }\n",
              "</style>\n",
              "<table border=\"1\" class=\"dataframe\">\n",
              "  <thead>\n",
              "    <tr style=\"text-align: right;\">\n",
              "      <th></th>\n",
              "      <th>Year</th>\n",
              "      <th>Month</th>\n",
              "      <th>Day</th>\n",
              "      <th>Hour</th>\n",
              "      <th>Cloud_Type</th>\n",
              "      <th>Dew_Point</th>\n",
              "      <th>Solar_Zenith_Angle</th>\n",
              "      <th>Surface_Albedo</th>\n",
              "      <th>Wind_Speed</th>\n",
              "      <th>Precipitable_Water</th>\n",
              "      <th>Wind_Direction</th>\n",
              "      <th>Relative_Humidity</th>\n",
              "      <th>Temperature</th>\n",
              "      <th>Pressure</th>\n",
              "    </tr>\n",
              "  </thead>\n",
              "  <tbody>\n",
              "    <tr>\n",
              "      <th>0</th>\n",
              "      <td>2016</td>\n",
              "      <td>1</td>\n",
              "      <td>1</td>\n",
              "      <td>0.0</td>\n",
              "      <td>1</td>\n",
              "      <td>0.0</td>\n",
              "      <td>165.44</td>\n",
              "      <td>0.099</td>\n",
              "      <td>1.0</td>\n",
              "      <td>0.705</td>\n",
              "      <td>72.0</td>\n",
              "      <td>87.98</td>\n",
              "      <td>4.0</td>\n",
              "      <td>1020</td>\n",
              "    </tr>\n",
              "    <tr>\n",
              "      <th>1</th>\n",
              "      <td>2016</td>\n",
              "      <td>1</td>\n",
              "      <td>1</td>\n",
              "      <td>0.5</td>\n",
              "      <td>1</td>\n",
              "      <td>0.0</td>\n",
              "      <td>165.13</td>\n",
              "      <td>0.099</td>\n",
              "      <td>1.0</td>\n",
              "      <td>0.714</td>\n",
              "      <td>72.0</td>\n",
              "      <td>87.97</td>\n",
              "      <td>3.0</td>\n",
              "      <td>1020</td>\n",
              "    </tr>\n",
              "    <tr>\n",
              "      <th>2</th>\n",
              "      <td>2016</td>\n",
              "      <td>1</td>\n",
              "      <td>1</td>\n",
              "      <td>1.0</td>\n",
              "      <td>1</td>\n",
              "      <td>0.0</td>\n",
              "      <td>162.29</td>\n",
              "      <td>0.099</td>\n",
              "      <td>1.0</td>\n",
              "      <td>0.723</td>\n",
              "      <td>73.1</td>\n",
              "      <td>87.91</td>\n",
              "      <td>3.0</td>\n",
              "      <td>1020</td>\n",
              "    </tr>\n",
              "    <tr>\n",
              "      <th>3</th>\n",
              "      <td>2016</td>\n",
              "      <td>1</td>\n",
              "      <td>1</td>\n",
              "      <td>1.5</td>\n",
              "      <td>1</td>\n",
              "      <td>0.0</td>\n",
              "      <td>157.90</td>\n",
              "      <td>0.099</td>\n",
              "      <td>1.0</td>\n",
              "      <td>0.730</td>\n",
              "      <td>73.1</td>\n",
              "      <td>87.91</td>\n",
              "      <td>3.0</td>\n",
              "      <td>1020</td>\n",
              "    </tr>\n",
              "    <tr>\n",
              "      <th>4</th>\n",
              "      <td>2016</td>\n",
              "      <td>1</td>\n",
              "      <td>1</td>\n",
              "      <td>2.0</td>\n",
              "      <td>1</td>\n",
              "      <td>0.0</td>\n",
              "      <td>152.70</td>\n",
              "      <td>0.099</td>\n",
              "      <td>1.0</td>\n",
              "      <td>0.737</td>\n",
              "      <td>65.4</td>\n",
              "      <td>87.69</td>\n",
              "      <td>3.0</td>\n",
              "      <td>1020</td>\n",
              "    </tr>\n",
              "    <tr>\n",
              "      <th>...</th>\n",
              "      <td>...</td>\n",
              "      <td>...</td>\n",
              "      <td>...</td>\n",
              "      <td>...</td>\n",
              "      <td>...</td>\n",
              "      <td>...</td>\n",
              "      <td>...</td>\n",
              "      <td>...</td>\n",
              "      <td>...</td>\n",
              "      <td>...</td>\n",
              "      <td>...</td>\n",
              "      <td>...</td>\n",
              "      <td>...</td>\n",
              "      <td>...</td>\n",
              "    </tr>\n",
              "    <tr>\n",
              "      <th>526171</th>\n",
              "      <td>2020</td>\n",
              "      <td>12</td>\n",
              "      <td>31</td>\n",
              "      <td>21.5</td>\n",
              "      <td>7</td>\n",
              "      <td>7.5</td>\n",
              "      <td>142.70</td>\n",
              "      <td>0.110</td>\n",
              "      <td>1.1</td>\n",
              "      <td>0.900</td>\n",
              "      <td>323.0</td>\n",
              "      <td>83.23</td>\n",
              "      <td>10.2</td>\n",
              "      <td>1006</td>\n",
              "    </tr>\n",
              "    <tr>\n",
              "      <th>526172</th>\n",
              "      <td>2020</td>\n",
              "      <td>12</td>\n",
              "      <td>31</td>\n",
              "      <td>22.0</td>\n",
              "      <td>7</td>\n",
              "      <td>7.8</td>\n",
              "      <td>148.49</td>\n",
              "      <td>0.110</td>\n",
              "      <td>1.4</td>\n",
              "      <td>1.000</td>\n",
              "      <td>294.0</td>\n",
              "      <td>88.11</td>\n",
              "      <td>9.7</td>\n",
              "      <td>1006</td>\n",
              "    </tr>\n",
              "    <tr>\n",
              "      <th>526173</th>\n",
              "      <td>2020</td>\n",
              "      <td>12</td>\n",
              "      <td>31</td>\n",
              "      <td>22.5</td>\n",
              "      <td>7</td>\n",
              "      <td>7.8</td>\n",
              "      <td>154.04</td>\n",
              "      <td>0.110</td>\n",
              "      <td>1.6</td>\n",
              "      <td>1.000</td>\n",
              "      <td>298.0</td>\n",
              "      <td>91.73</td>\n",
              "      <td>9.1</td>\n",
              "      <td>1006</td>\n",
              "    </tr>\n",
              "    <tr>\n",
              "      <th>526174</th>\n",
              "      <td>2020</td>\n",
              "      <td>12</td>\n",
              "      <td>31</td>\n",
              "      <td>23.0</td>\n",
              "      <td>7</td>\n",
              "      <td>8.5</td>\n",
              "      <td>159.12</td>\n",
              "      <td>0.110</td>\n",
              "      <td>1.7</td>\n",
              "      <td>1.000</td>\n",
              "      <td>302.0</td>\n",
              "      <td>99.42</td>\n",
              "      <td>8.6</td>\n",
              "      <td>1006</td>\n",
              "    </tr>\n",
              "    <tr>\n",
              "      <th>526175</th>\n",
              "      <td>2020</td>\n",
              "      <td>12</td>\n",
              "      <td>31</td>\n",
              "      <td>23.5</td>\n",
              "      <td>7</td>\n",
              "      <td>8.5</td>\n",
              "      <td>163.25</td>\n",
              "      <td>0.110</td>\n",
              "      <td>1.7</td>\n",
              "      <td>1.000</td>\n",
              "      <td>311.0</td>\n",
              "      <td>100.00</td>\n",
              "      <td>8.5</td>\n",
              "      <td>1006</td>\n",
              "    </tr>\n",
              "  </tbody>\n",
              "</table>\n",
              "<p>526176 rows × 14 columns</p>\n",
              "</div>\n",
              "      <button class=\"colab-df-convert\" onclick=\"convertToInteractive('df-c4985858-141b-4576-a244-231db87ae4aa')\"\n",
              "              title=\"Convert this dataframe to an interactive table.\"\n",
              "              style=\"display:none;\">\n",
              "        \n",
              "  <svg xmlns=\"http://www.w3.org/2000/svg\" height=\"24px\"viewBox=\"0 0 24 24\"\n",
              "       width=\"24px\">\n",
              "    <path d=\"M0 0h24v24H0V0z\" fill=\"none\"/>\n",
              "    <path d=\"M18.56 5.44l.94 2.06.94-2.06 2.06-.94-2.06-.94-.94-2.06-.94 2.06-2.06.94zm-11 1L8.5 8.5l.94-2.06 2.06-.94-2.06-.94L8.5 2.5l-.94 2.06-2.06.94zm10 10l.94 2.06.94-2.06 2.06-.94-2.06-.94-.94-2.06-.94 2.06-2.06.94z\"/><path d=\"M17.41 7.96l-1.37-1.37c-.4-.4-.92-.59-1.43-.59-.52 0-1.04.2-1.43.59L10.3 9.45l-7.72 7.72c-.78.78-.78 2.05 0 2.83L4 21.41c.39.39.9.59 1.41.59.51 0 1.02-.2 1.41-.59l7.78-7.78 2.81-2.81c.8-.78.8-2.07 0-2.86zM5.41 20L4 18.59l7.72-7.72 1.47 1.35L5.41 20z\"/>\n",
              "  </svg>\n",
              "      </button>\n",
              "      \n",
              "  <style>\n",
              "    .colab-df-container {\n",
              "      display:flex;\n",
              "      flex-wrap:wrap;\n",
              "      gap: 12px;\n",
              "    }\n",
              "\n",
              "    .colab-df-convert {\n",
              "      background-color: #E8F0FE;\n",
              "      border: none;\n",
              "      border-radius: 50%;\n",
              "      cursor: pointer;\n",
              "      display: none;\n",
              "      fill: #1967D2;\n",
              "      height: 32px;\n",
              "      padding: 0 0 0 0;\n",
              "      width: 32px;\n",
              "    }\n",
              "\n",
              "    .colab-df-convert:hover {\n",
              "      background-color: #E2EBFA;\n",
              "      box-shadow: 0px 1px 2px rgba(60, 64, 67, 0.3), 0px 1px 3px 1px rgba(60, 64, 67, 0.15);\n",
              "      fill: #174EA6;\n",
              "    }\n",
              "\n",
              "    [theme=dark] .colab-df-convert {\n",
              "      background-color: #3B4455;\n",
              "      fill: #D2E3FC;\n",
              "    }\n",
              "\n",
              "    [theme=dark] .colab-df-convert:hover {\n",
              "      background-color: #434B5C;\n",
              "      box-shadow: 0px 1px 3px 1px rgba(0, 0, 0, 0.15);\n",
              "      filter: drop-shadow(0px 1px 2px rgba(0, 0, 0, 0.3));\n",
              "      fill: #FFFFFF;\n",
              "    }\n",
              "  </style>\n",
              "\n",
              "      <script>\n",
              "        const buttonEl =\n",
              "          document.querySelector('#df-c4985858-141b-4576-a244-231db87ae4aa button.colab-df-convert');\n",
              "        buttonEl.style.display =\n",
              "          google.colab.kernel.accessAllowed ? 'block' : 'none';\n",
              "\n",
              "        async function convertToInteractive(key) {\n",
              "          const element = document.querySelector('#df-c4985858-141b-4576-a244-231db87ae4aa');\n",
              "          const dataTable =\n",
              "            await google.colab.kernel.invokeFunction('convertToInteractive',\n",
              "                                                     [key], {});\n",
              "          if (!dataTable) return;\n",
              "\n",
              "          const docLinkHtml = 'Like what you see? Visit the ' +\n",
              "            '<a target=\"_blank\" href=https://colab.research.google.com/notebooks/data_table.ipynb>data table notebook</a>'\n",
              "            + ' to learn more about interactive tables.';\n",
              "          element.innerHTML = '';\n",
              "          dataTable['output_type'] = 'display_data';\n",
              "          await google.colab.output.renderOutput(dataTable, element);\n",
              "          const docLink = document.createElement('div');\n",
              "          docLink.innerHTML = docLinkHtml;\n",
              "          element.appendChild(docLink);\n",
              "        }\n",
              "      </script>\n",
              "    </div>\n",
              "  </div>\n",
              "  "
            ]
          },
          "metadata": {},
          "execution_count": 5
        }
      ]
    },
    {
      "cell_type": "code",
      "source": [
        "from sklearn.preprocessing import StandardScaler\n",
        "#Normalize the dataset\n",
        "sc = StandardScaler()\n",
        "input_normalized = sc.fit_transform(input)"
      ],
      "metadata": {
        "id": "xqzjVKK9T1xD"
      },
      "id": "xqzjVKK9T1xD",
      "execution_count": 6,
      "outputs": []
    },
    {
      "cell_type": "code",
      "execution_count": 7,
      "metadata": {
        "id": "3d95044f"
      },
      "outputs": [],
      "source": [
        "from sklearn.model_selection import train_test_split\n",
        "import numpy as np\n",
        "x_train, x_test, y_train, y_test = train_test_split(input_normalized, target, test_size=0.3, random_state=42)"
      ],
      "id": "3d95044f"
    },
    {
      "cell_type": "code",
      "source": [
        "x_test"
      ],
      "metadata": {
        "colab": {
          "base_uri": "https://localhost:8080/"
        },
        "id": "H0HhnUDVN7ip",
        "outputId": "25e0cc39-7c8f-4267-f8d1-08eade73f42c"
      },
      "id": "H0HhnUDVN7ip",
      "execution_count": 8,
      "outputs": [
        {
          "output_type": "execute_result",
          "data": {
            "text/plain": [
              "array([[-1.41344013, -0.73091262, -0.65153714, ...,  1.05346687,\n",
              "        -0.53879346, -0.47471954],\n",
              "       [ 0.70672007, -0.15107009,  0.2573068 , ...,  0.50793746,\n",
              "        -0.22311258,  0.38098041],\n",
              "       [ 0.70672007,  1.29853625, -1.56038109, ..., -1.56120834,\n",
              "        -0.67171172,  0.50322327],\n",
              "       ...,\n",
              "       [ 0.        ,  0.71869371,  0.14370131, ...,  0.35888336,\n",
              "         0.05933873, -1.5749052 ],\n",
              "       [-1.41344013,  0.42877245, -0.53793165, ...,  1.10630161,\n",
              "        -0.53879346, -0.47471954],\n",
              "       [ 0.70672007, -0.44099135, -1.4467756 , ...,  0.59599535,\n",
              "        -0.62186737, -1.69714805]])"
            ]
          },
          "metadata": {},
          "execution_count": 8
        }
      ]
    },
    {
      "cell_type": "code",
      "source": [
        "print(\"x_train shape\",x_train.shape)\n",
        "print(\"x_test shape\",x_test.shape)\n",
        "print(\"y_train shape\",y_train.shape)\n",
        "print(\"y_text shape\",y_test.shape)"
      ],
      "metadata": {
        "colab": {
          "base_uri": "https://localhost:8080/"
        },
        "id": "GUObbFl6Xzjg",
        "outputId": "2c1c3690-751c-42ca-d423-22c60b898e52"
      },
      "id": "GUObbFl6Xzjg",
      "execution_count": 9,
      "outputs": [
        {
          "output_type": "stream",
          "name": "stdout",
          "text": [
            "x_train shape (368323, 14)\n",
            "x_test shape (157853, 14)\n",
            "y_train shape (368323,)\n",
            "y_text shape (157853,)\n"
          ]
        }
      ]
    },
    {
      "cell_type": "code",
      "source": [
        "\"\"\"hidden_units1 = 160\n",
        "hidden_units2 = 480\n",
        "hidden_units3 = 256\n",
        "learning_rate = 0.01\n",
        "# Creating model using the Sequential in tensorflow\n",
        "def build_model_using_sequential():\n",
        "  model = Sequential([\n",
        "    Dense(hidden_units1, kernel_initializer='normal', activation='relu'),\n",
        "    Dropout(0.2),\n",
        "    Dense(hidden_units2, kernel_initializer='normal', activation='relu'),\n",
        "    Dropout(0.2),\n",
        "    Dense(hidden_units3, kernel_initializer='normal', activation='relu'),\n",
        "    Dense(1, kernel_initializer='normal', activation='linear')\n",
        "  ])\n",
        "  return model\n",
        "# build the model\n",
        "model = build_model_using_sequential()\"\"\""
      ],
      "metadata": {
        "id": "0SjeyVysWXFH"
      },
      "id": "0SjeyVysWXFH",
      "execution_count": 11,
      "outputs": []
    },
    {
      "cell_type": "code",
      "source": [
        "# loss function\n",
        "#model.compile(optimizer='sgd', loss=tf.keras.losses.MeanSquaredError())\n"
      ],
      "metadata": {
        "id": "xU1GFYv2WXHj"
      },
      "id": "xU1GFYv2WXHj",
      "execution_count": 34,
      "outputs": []
    },
    {
      "cell_type": "code",
      "source": [
        "\"\"\"mse = MeanSquaredLogarithmicError()\n",
        "model.compile(\n",
        "    loss=msle, \n",
        "    optimizer=Adam(learning_rate=learning_rate), \n",
        "    metrics=[msle]\n",
        ")\"\"\""
      ],
      "metadata": {
        "id": "XVakcm94Ucne"
      },
      "id": "XVakcm94Ucne",
      "execution_count": null,
      "outputs": []
    },
    {
      "cell_type": "code",
      "source": [
        "# train the model\n",
        "\"\"\"history = model.fit(\n",
        "    x_train, \n",
        "    y_train, \n",
        "    epochs=10, \n",
        "    batch_size=64,\n",
        "    validation_split=0.2\n",
        ")\"\"\""
      ],
      "metadata": {
        "colab": {
          "base_uri": "https://localhost:8080/",
          "height": 35
        },
        "id": "342ihT8qSdSj",
        "outputId": "3f847f59-cc20-41e0-c6c9-68c93d360f47"
      },
      "id": "342ihT8qSdSj",
      "execution_count": 35,
      "outputs": [
        {
          "output_type": "execute_result",
          "data": {
            "text/plain": [
              "'history = model.fit(\\n    x_train, \\n    y_train, \\n    epochs=10, \\n    batch_size=64,\\n    validation_split=0.2\\n)'"
            ],
            "application/vnd.google.colaboratory.intrinsic+json": {
              "type": "string"
            }
          },
          "metadata": {},
          "execution_count": 35
        }
      ]
    },
    {
      "cell_type": "markdown",
      "source": [
        "# https://github.com/tpt5cu/solarIrradiancePredictor/blob/master/Neural_Net.ipynb"
      ],
      "metadata": {
        "id": "oUXVJynEW0Nh"
      },
      "id": "oUXVJynEW0Nh"
    },
    {
      "cell_type": "code",
      "source": [
        "from tensorflow.keras.optimizers import Adam\n",
        "import pandas as pd\n",
        "import os\n",
        "import numpy as np\n",
        "from glob import glob\n",
        "from matplotlib import pyplot as plt\n",
        "import seaborn as sns\n",
        "from random import randint\n",
        "from glob import glob\n",
        "\n",
        "import tensorflow as tf\n",
        "from tensorflow import keras\n",
        "from tensorflow.keras import layers"
      ],
      "metadata": {
        "id": "SQVT838gHMON"
      },
      "id": "SQVT838gHMON",
      "execution_count": 10,
      "outputs": []
    },
    {
      "cell_type": "code",
      "source": [
        "keras.backend.clear_session()\n",
        "tf.keras.backend.clear_session()"
      ],
      "metadata": {
        "id": "fw9wkg6AW16i"
      },
      "id": "fw9wkg6AW16i",
      "execution_count": 11,
      "outputs": []
    },
    {
      "cell_type": "code",
      "source": [
        "keras.backend.clear_session()\n",
        "tf.keras.backend.clear_session()\n",
        "tf.compat.v1.reset_default_graph"
      ],
      "metadata": {
        "colab": {
          "base_uri": "https://localhost:8080/"
        },
        "id": "xC4n6_SWHg10",
        "outputId": "94e01d11-76f7-456d-80de-17aa898f2a1b"
      },
      "id": "xC4n6_SWHg10",
      "execution_count": 12,
      "outputs": [
        {
          "output_type": "execute_result",
          "data": {
            "text/plain": [
              "<function tensorflow.python.framework.ops.reset_default_graph()>"
            ]
          },
          "metadata": {},
          "execution_count": 12
        }
      ]
    },
    {
      "cell_type": "code",
      "source": [
        "model = keras.Sequential()\n",
        "model.add(layers.Dense(300, activation=\"relu\"))\n",
        "model.add(layers.Dense(200, activation=\"relu\"))\n",
        "model.add(layers.Dense(100, activation=\"relu\"))\n",
        "model.add(layers.Dense(50, activation=\"relu\"))\n",
        "model.add(layers.Dense(25, activation=\"relu\"))\n",
        "model.add(layers.Dense(1, activation='relu'))"
      ],
      "metadata": {
        "id": "Gfo1CejwHg4t"
      },
      "id": "Gfo1CejwHg4t",
      "execution_count": 13,
      "outputs": []
    },
    {
      "cell_type": "code",
      "source": [
        "model.summary()"
      ],
      "metadata": {
        "colab": {
          "base_uri": "https://localhost:8080/"
        },
        "id": "vayjeXwal-3W",
        "outputId": "2a565c42-97aa-473f-8216-ea6f759f48b8"
      },
      "id": "vayjeXwal-3W",
      "execution_count": 23,
      "outputs": [
        {
          "output_type": "stream",
          "name": "stdout",
          "text": [
            "Model: \"sequential\"\n",
            "_________________________________________________________________\n",
            " Layer (type)                Output Shape              Param #   \n",
            "=================================================================\n",
            " dense (Dense)               (None, 300)               4500      \n",
            "                                                                 \n",
            " dense_1 (Dense)             (None, 200)               60200     \n",
            "                                                                 \n",
            " dense_2 (Dense)             (None, 100)               20100     \n",
            "                                                                 \n",
            " dense_3 (Dense)             (None, 50)                5050      \n",
            "                                                                 \n",
            " dense_4 (Dense)             (None, 25)                1275      \n",
            "                                                                 \n",
            " dense_5 (Dense)             (None, 1)                 26        \n",
            "                                                                 \n",
            "=================================================================\n",
            "Total params: 91,151\n",
            "Trainable params: 91,151\n",
            "Non-trainable params: 0\n",
            "_________________________________________________________________\n"
          ]
        }
      ]
    },
    {
      "cell_type": "code",
      "source": [
        "#Compile and train\n",
        "model.compile(optimizer=Adam(lr=0.0001), \n",
        "              loss='mse',\n",
        "              metrics=['mae',keras.metrics.RootMeanSquaredError()])\n",
        "\n",
        "history = model.fit(x_train, y_train, epochs=100, batch_size=64)"
      ],
      "metadata": {
        "colab": {
          "base_uri": "https://localhost:8080/"
        },
        "id": "L537ECGZHg7n",
        "outputId": "ad0b20e7-1e9a-437b-be8d-0b7224e70505"
      },
      "id": "L537ECGZHg7n",
      "execution_count": 14,
      "outputs": [
        {
          "metadata": {
            "tags": null
          },
          "name": "stdout",
          "output_type": "stream",
          "text": [
            "Epoch 1/100\n"
          ]
        },
        {
          "metadata": {
            "tags": null
          },
          "name": "stderr",
          "output_type": "stream",
          "text": [
            "/usr/local/lib/python3.7/dist-packages/keras/optimizer_v2/adam.py:105: UserWarning: The `lr` argument is deprecated, use `learning_rate` instead.\n",
            "  super(Adam, self).__init__(name, **kwargs)\n"
          ]
        },
        {
          "output_type": "stream",
          "name": "stdout",
          "text": [
            "5756/5756 [==============================] - 25s 4ms/step - loss: 9053.4609 - mae: 38.4833 - root_mean_squared_error: 95.1497\n",
            "Epoch 2/100\n",
            "5756/5756 [==============================] - 25s 4ms/step - loss: 1913.1875 - mae: 19.4457 - root_mean_squared_error: 43.7400\n",
            "Epoch 3/100\n",
            "5756/5756 [==============================] - 26s 5ms/step - loss: 1616.3071 - mae: 17.2505 - root_mean_squared_error: 40.2033\n",
            "Epoch 4/100\n",
            "5756/5756 [==============================] - 27s 5ms/step - loss: 1470.6328 - mae: 16.1549 - root_mean_squared_error: 38.3488\n",
            "Epoch 5/100\n",
            "5756/5756 [==============================] - 26s 5ms/step - loss: 1389.5897 - mae: 15.5218 - root_mean_squared_error: 37.2772\n",
            "Epoch 6/100\n",
            "5756/5756 [==============================] - 25s 4ms/step - loss: 1341.4570 - mae: 15.1441 - root_mean_squared_error: 36.6259\n",
            "Epoch 7/100\n",
            "5756/5756 [==============================] - 25s 4ms/step - loss: 1301.3799 - mae: 14.8598 - root_mean_squared_error: 36.0746\n",
            "Epoch 8/100\n",
            "5756/5756 [==============================] - 24s 4ms/step - loss: 1273.9348 - mae: 14.6585 - root_mean_squared_error: 35.6922\n",
            "Epoch 9/100\n",
            "5756/5756 [==============================] - 25s 4ms/step - loss: 1245.2822 - mae: 14.4352 - root_mean_squared_error: 35.2886\n",
            "Epoch 10/100\n",
            "5756/5756 [==============================] - 25s 4ms/step - loss: 1225.9531 - mae: 14.3459 - root_mean_squared_error: 35.0136\n",
            "Epoch 11/100\n",
            "5756/5756 [==============================] - 26s 5ms/step - loss: 1205.9709 - mae: 14.2016 - root_mean_squared_error: 34.7271\n",
            "Epoch 12/100\n",
            "5756/5756 [==============================] - 25s 4ms/step - loss: 1185.6694 - mae: 14.0833 - root_mean_squared_error: 34.4336\n",
            "Epoch 13/100\n",
            "5756/5756 [==============================] - 25s 4ms/step - loss: 1167.6843 - mae: 13.9487 - root_mean_squared_error: 34.1714\n",
            "Epoch 14/100\n",
            "5756/5756 [==============================] - 25s 4ms/step - loss: 1153.6876 - mae: 13.8879 - root_mean_squared_error: 33.9660\n",
            "Epoch 15/100\n",
            "5756/5756 [==============================] - 25s 4ms/step - loss: 1139.6448 - mae: 13.7668 - root_mean_squared_error: 33.7586\n",
            "Epoch 16/100\n",
            "5756/5756 [==============================] - 27s 5ms/step - loss: 1125.1710 - mae: 13.7125 - root_mean_squared_error: 33.5436\n",
            "Epoch 17/100\n",
            "5756/5756 [==============================] - 25s 4ms/step - loss: 1111.9683 - mae: 13.6290 - root_mean_squared_error: 33.3462\n",
            "Epoch 18/100\n",
            "5756/5756 [==============================] - 24s 4ms/step - loss: 1098.1464 - mae: 13.5448 - root_mean_squared_error: 33.1383\n",
            "Epoch 19/100\n",
            "5756/5756 [==============================] - 25s 4ms/step - loss: 1087.1213 - mae: 13.5053 - root_mean_squared_error: 32.9715\n",
            "Epoch 20/100\n",
            "5756/5756 [==============================] - 25s 4ms/step - loss: 1075.2036 - mae: 13.4159 - root_mean_squared_error: 32.7903\n",
            "Epoch 21/100\n",
            "5756/5756 [==============================] - 25s 4ms/step - loss: 1062.1088 - mae: 13.3462 - root_mean_squared_error: 32.5900\n",
            "Epoch 22/100\n",
            "5756/5756 [==============================] - 25s 4ms/step - loss: 1051.2517 - mae: 13.2922 - root_mean_squared_error: 32.4230\n",
            "Epoch 23/100\n",
            "5756/5756 [==============================] - 24s 4ms/step - loss: 1040.1366 - mae: 13.1814 - root_mean_squared_error: 32.2511\n",
            "Epoch 24/100\n",
            "5756/5756 [==============================] - 24s 4ms/step - loss: 1029.4674 - mae: 13.1379 - root_mean_squared_error: 32.0853\n",
            "Epoch 25/100\n",
            "5756/5756 [==============================] - 24s 4ms/step - loss: 1019.2757 - mae: 13.0654 - root_mean_squared_error: 31.9261\n",
            "Epoch 26/100\n",
            "5756/5756 [==============================] - 24s 4ms/step - loss: 1008.1432 - mae: 13.0069 - root_mean_squared_error: 31.7513\n",
            "Epoch 27/100\n",
            "5756/5756 [==============================] - 25s 4ms/step - loss: 1000.6223 - mae: 12.9787 - root_mean_squared_error: 31.6326\n",
            "Epoch 28/100\n",
            "5756/5756 [==============================] - 24s 4ms/step - loss: 989.2997 - mae: 12.8589 - root_mean_squared_error: 31.4531\n",
            "Epoch 29/100\n",
            "5756/5756 [==============================] - 24s 4ms/step - loss: 981.6574 - mae: 12.8229 - root_mean_squared_error: 31.3314\n",
            "Epoch 30/100\n",
            "5756/5756 [==============================] - 25s 4ms/step - loss: 973.5167 - mae: 12.7659 - root_mean_squared_error: 31.2012\n",
            "Epoch 31/100\n",
            "5756/5756 [==============================] - 25s 4ms/step - loss: 964.7913 - mae: 12.7016 - root_mean_squared_error: 31.0611\n",
            "Epoch 32/100\n",
            "5756/5756 [==============================] - 24s 4ms/step - loss: 955.6816 - mae: 12.6413 - root_mean_squared_error: 30.9141\n",
            "Epoch 33/100\n",
            "5756/5756 [==============================] - 25s 4ms/step - loss: 946.6624 - mae: 12.5524 - root_mean_squared_error: 30.7679\n",
            "Epoch 34/100\n",
            "5756/5756 [==============================] - 25s 4ms/step - loss: 941.5405 - mae: 12.5187 - root_mean_squared_error: 30.6845\n",
            "Epoch 35/100\n",
            "5756/5756 [==============================] - 25s 4ms/step - loss: 932.0922 - mae: 12.4621 - root_mean_squared_error: 30.5302\n",
            "Epoch 36/100\n",
            "5756/5756 [==============================] - 25s 4ms/step - loss: 924.4534 - mae: 12.3997 - root_mean_squared_error: 30.4048\n",
            "Epoch 37/100\n",
            "5756/5756 [==============================] - 25s 4ms/step - loss: 917.6194 - mae: 12.3401 - root_mean_squared_error: 30.2922\n",
            "Epoch 38/100\n",
            "5756/5756 [==============================] - 24s 4ms/step - loss: 910.7305 - mae: 12.2792 - root_mean_squared_error: 30.1783\n",
            "Epoch 39/100\n",
            "5756/5756 [==============================] - 26s 5ms/step - loss: 904.5104 - mae: 12.2475 - root_mean_squared_error: 30.0751\n",
            "Epoch 40/100\n",
            "5756/5756 [==============================] - 24s 4ms/step - loss: 896.8788 - mae: 12.1879 - root_mean_squared_error: 29.9479\n",
            "Epoch 41/100\n",
            "5756/5756 [==============================] - 25s 4ms/step - loss: 891.3828 - mae: 12.1320 - root_mean_squared_error: 29.8560\n",
            "Epoch 42/100\n",
            "5756/5756 [==============================] - 25s 4ms/step - loss: 883.5095 - mae: 12.0943 - root_mean_squared_error: 29.7239\n",
            "Epoch 43/100\n",
            "5756/5756 [==============================] - 25s 4ms/step - loss: 877.2209 - mae: 12.0572 - root_mean_squared_error: 29.6179\n",
            "Epoch 44/100\n",
            "5756/5756 [==============================] - 26s 5ms/step - loss: 870.9725 - mae: 12.0023 - root_mean_squared_error: 29.5122\n",
            "Epoch 45/100\n",
            "5756/5756 [==============================] - 25s 4ms/step - loss: 867.7332 - mae: 11.9620 - root_mean_squared_error: 29.4573\n",
            "Epoch 46/100\n",
            "5756/5756 [==============================] - 25s 4ms/step - loss: 860.5705 - mae: 11.9154 - root_mean_squared_error: 29.3355\n",
            "Epoch 47/100\n",
            "5756/5756 [==============================] - 25s 4ms/step - loss: 854.7680 - mae: 11.8692 - root_mean_squared_error: 29.2364\n",
            "Epoch 48/100\n",
            "5756/5756 [==============================] - 24s 4ms/step - loss: 849.2322 - mae: 11.8409 - root_mean_squared_error: 29.1416\n",
            "Epoch 49/100\n",
            "5756/5756 [==============================] - 24s 4ms/step - loss: 843.2894 - mae: 11.7825 - root_mean_squared_error: 29.0394\n",
            "Epoch 50/100\n",
            "5756/5756 [==============================] - 25s 4ms/step - loss: 839.2821 - mae: 11.7598 - root_mean_squared_error: 28.9704\n",
            "Epoch 51/100\n",
            "5756/5756 [==============================] - 24s 4ms/step - loss: 834.5972 - mae: 11.7160 - root_mean_squared_error: 28.8894\n",
            "Epoch 52/100\n",
            "5756/5756 [==============================] - 24s 4ms/step - loss: 832.8240 - mae: 11.7183 - root_mean_squared_error: 28.8587\n",
            "Epoch 53/100\n",
            "5756/5756 [==============================] - 24s 4ms/step - loss: 825.7128 - mae: 11.6650 - root_mean_squared_error: 28.7352\n",
            "Epoch 54/100\n",
            "5756/5756 [==============================] - 25s 4ms/step - loss: 822.8163 - mae: 11.6276 - root_mean_squared_error: 28.6848\n",
            "Epoch 55/100\n",
            "5756/5756 [==============================] - 26s 5ms/step - loss: 816.7794 - mae: 11.5718 - root_mean_squared_error: 28.5794\n",
            "Epoch 56/100\n",
            "5756/5756 [==============================] - 25s 4ms/step - loss: 810.5301 - mae: 11.5502 - root_mean_squared_error: 28.4698\n",
            "Epoch 57/100\n",
            "5756/5756 [==============================] - 25s 4ms/step - loss: 810.2265 - mae: 11.5302 - root_mean_squared_error: 28.4645\n",
            "Epoch 58/100\n",
            "5756/5756 [==============================] - 26s 4ms/step - loss: 804.3862 - mae: 11.4883 - root_mean_squared_error: 28.3617\n",
            "Epoch 59/100\n",
            "5756/5756 [==============================] - 25s 4ms/step - loss: 800.3290 - mae: 11.4646 - root_mean_squared_error: 28.2901\n",
            "Epoch 60/100\n",
            "5756/5756 [==============================] - 24s 4ms/step - loss: 797.5367 - mae: 11.4207 - root_mean_squared_error: 28.2407\n",
            "Epoch 61/100\n",
            "5756/5756 [==============================] - 26s 5ms/step - loss: 792.6528 - mae: 11.4041 - root_mean_squared_error: 28.1541\n",
            "Epoch 62/100\n",
            "5756/5756 [==============================] - 25s 4ms/step - loss: 788.2962 - mae: 11.4035 - root_mean_squared_error: 28.0766\n",
            "Epoch 63/100\n",
            "5756/5756 [==============================] - 25s 4ms/step - loss: 787.0943 - mae: 11.3561 - root_mean_squared_error: 28.0552\n",
            "Epoch 64/100\n",
            "5756/5756 [==============================] - 25s 4ms/step - loss: 781.1874 - mae: 11.3119 - root_mean_squared_error: 27.9497\n",
            "Epoch 65/100\n",
            "5756/5756 [==============================] - 24s 4ms/step - loss: 779.3078 - mae: 11.3098 - root_mean_squared_error: 27.9161\n",
            "Epoch 66/100\n",
            "5756/5756 [==============================] - 26s 4ms/step - loss: 773.5762 - mae: 11.2535 - root_mean_squared_error: 27.8132\n",
            "Epoch 67/100\n",
            "5756/5756 [==============================] - 24s 4ms/step - loss: 772.9193 - mae: 11.2615 - root_mean_squared_error: 27.8014\n",
            "Epoch 68/100\n",
            "5756/5756 [==============================] - 25s 4ms/step - loss: 766.6089 - mae: 11.2184 - root_mean_squared_error: 27.6877\n",
            "Epoch 69/100\n",
            "5756/5756 [==============================] - 25s 4ms/step - loss: 763.0707 - mae: 11.1756 - root_mean_squared_error: 27.6237\n",
            "Epoch 70/100\n",
            "5756/5756 [==============================] - 25s 4ms/step - loss: 762.4775 - mae: 11.1801 - root_mean_squared_error: 27.6130\n",
            "Epoch 71/100\n",
            "5756/5756 [==============================] - 25s 4ms/step - loss: 757.6838 - mae: 11.1355 - root_mean_squared_error: 27.5261\n",
            "Epoch 72/100\n",
            "5756/5756 [==============================] - 26s 5ms/step - loss: 753.6876 - mae: 11.1102 - root_mean_squared_error: 27.4534\n",
            "Epoch 73/100\n",
            "5756/5756 [==============================] - 25s 4ms/step - loss: 751.3690 - mae: 11.0748 - root_mean_squared_error: 27.4111\n",
            "Epoch 74/100\n",
            "5756/5756 [==============================] - 24s 4ms/step - loss: 748.9813 - mae: 11.0852 - root_mean_squared_error: 27.3675\n",
            "Epoch 75/100\n",
            "5756/5756 [==============================] - 25s 4ms/step - loss: 744.1908 - mae: 11.0129 - root_mean_squared_error: 27.2799\n",
            "Epoch 76/100\n",
            "5756/5756 [==============================] - 25s 4ms/step - loss: 740.5287 - mae: 10.9949 - root_mean_squared_error: 27.2127\n",
            "Epoch 77/100\n",
            "5756/5756 [==============================] - 23s 4ms/step - loss: 737.4069 - mae: 10.9876 - root_mean_squared_error: 27.1552\n",
            "Epoch 78/100\n",
            "5756/5756 [==============================] - 24s 4ms/step - loss: 735.9773 - mae: 10.9703 - root_mean_squared_error: 27.1289\n",
            "Epoch 79/100\n",
            "5756/5756 [==============================] - 23s 4ms/step - loss: 730.8731 - mae: 10.9209 - root_mean_squared_error: 27.0347\n",
            "Epoch 80/100\n",
            "5756/5756 [==============================] - 24s 4ms/step - loss: 729.1940 - mae: 10.8968 - root_mean_squared_error: 27.0036\n",
            "Epoch 81/100\n",
            "5756/5756 [==============================] - 24s 4ms/step - loss: 725.7874 - mae: 10.8551 - root_mean_squared_error: 26.9404\n",
            "Epoch 82/100\n",
            "5756/5756 [==============================] - 25s 4ms/step - loss: 723.6495 - mae: 10.8547 - root_mean_squared_error: 26.9007\n",
            "Epoch 83/100\n",
            "5756/5756 [==============================] - 26s 5ms/step - loss: 719.3791 - mae: 10.8146 - root_mean_squared_error: 26.8212\n",
            "Epoch 84/100\n",
            "5756/5756 [==============================] - 24s 4ms/step - loss: 716.7029 - mae: 10.8015 - root_mean_squared_error: 26.7713\n",
            "Epoch 85/100\n",
            "5756/5756 [==============================] - 23s 4ms/step - loss: 715.4822 - mae: 10.7723 - root_mean_squared_error: 26.7485\n",
            "Epoch 86/100\n",
            "5756/5756 [==============================] - 24s 4ms/step - loss: 712.4427 - mae: 10.7587 - root_mean_squared_error: 26.6916\n",
            "Epoch 87/100\n",
            "5756/5756 [==============================] - 25s 4ms/step - loss: 709.3338 - mae: 10.7504 - root_mean_squared_error: 26.6333\n",
            "Epoch 88/100\n",
            "5756/5756 [==============================] - 25s 4ms/step - loss: 706.5152 - mae: 10.6988 - root_mean_squared_error: 26.5804\n",
            "Epoch 89/100\n",
            "5756/5756 [==============================] - 26s 5ms/step - loss: 704.9638 - mae: 10.7118 - root_mean_squared_error: 26.5512\n",
            "Epoch 90/100\n",
            "5756/5756 [==============================] - 25s 4ms/step - loss: 703.8337 - mae: 10.6936 - root_mean_squared_error: 26.5299\n",
            "Epoch 91/100\n",
            "5756/5756 [==============================] - 26s 4ms/step - loss: 699.4877 - mae: 10.6700 - root_mean_squared_error: 26.4478\n",
            "Epoch 92/100\n",
            "5756/5756 [==============================] - 26s 4ms/step - loss: 698.1750 - mae: 10.6414 - root_mean_squared_error: 26.4230\n",
            "Epoch 93/100\n",
            "5756/5756 [==============================] - 26s 4ms/step - loss: 696.0695 - mae: 10.6376 - root_mean_squared_error: 26.3831\n",
            "Epoch 94/100\n",
            "5756/5756 [==============================] - 26s 5ms/step - loss: 691.9628 - mae: 10.5972 - root_mean_squared_error: 26.3052\n",
            "Epoch 95/100\n",
            "5756/5756 [==============================] - 25s 4ms/step - loss: 687.7364 - mae: 10.5676 - root_mean_squared_error: 26.2247\n",
            "Epoch 96/100\n",
            "5756/5756 [==============================] - 26s 4ms/step - loss: 684.3606 - mae: 10.5588 - root_mean_squared_error: 26.1603\n",
            "Epoch 97/100\n",
            "5756/5756 [==============================] - 25s 4ms/step - loss: 684.5890 - mae: 10.5337 - root_mean_squared_error: 26.1647\n",
            "Epoch 98/100\n",
            "5756/5756 [==============================] - 25s 4ms/step - loss: 682.2828 - mae: 10.5131 - root_mean_squared_error: 26.1205\n",
            "Epoch 99/100\n",
            "5756/5756 [==============================] - 26s 4ms/step - loss: 678.8752 - mae: 10.5177 - root_mean_squared_error: 26.0552\n",
            "Epoch 100/100\n",
            "5756/5756 [==============================] - 27s 5ms/step - loss: 678.6649 - mae: 10.5097 - root_mean_squared_error: 26.0512\n"
          ]
        }
      ]
    },
    {
      "cell_type": "markdown",
      "source": [
        "## Training MAE 10.50 w/m2, RMSE 26.05 w/m2 after 100 epoch"
      ],
      "metadata": {
        "id": "QWtkCOLzmvMG"
      },
      "id": "QWtkCOLzmvMG"
    },
    {
      "cell_type": "code",
      "source": [
        "plt.plot(history.history['mae'])\n",
        "plt.plot(history.history['root_mean_squared_error'])\n",
        "plt.title('mae and rmse per epoch')\n",
        "plt.ylabel('Error')\n",
        "plt.xlabel('Epoch')\n",
        "plt.legend(['MAE', 'RMSE'], loc='upper left')\n",
        "plt.show()"
      ],
      "metadata": {
        "colab": {
          "base_uri": "https://localhost:8080/",
          "height": 295
        },
        "id": "yzhePVv3Hg-Z",
        "outputId": "affdb2b6-a15d-4193-994e-840b63d6a74d"
      },
      "id": "yzhePVv3Hg-Z",
      "execution_count": 16,
      "outputs": [
        {
          "output_type": "display_data",
          "data": {
            "text/plain": [
              "<Figure size 432x288 with 1 Axes>"
            ],
            "image/png": "[encoded data removed]"
          },
          "metadata": {
            "needs_background": "light"
          }
        }
      ]
    },
    {
      "cell_type": "code",
      "source": [
        "y_pred=model.predict(x_test)"
      ],
      "metadata": {
        "id": "DxEOZwIUHhAx"
      },
      "id": "DxEOZwIUHhAx",
      "execution_count": 20,
      "outputs": []
    },
    {
      "cell_type": "code",
      "source": [
        "\"\"\"i = randint(0,8760)\n",
        "print(\"index is \",i)\n",
        "print(\"Actual \",y_test[i],\" \",\"Predicted \", y_pred[i])\"\"\""
      ],
      "metadata": {
        "colab": {
          "base_uri": "https://localhost:8080/",
          "height": 35
        },
        "id": "Wt6jUeiPZ1F3",
        "outputId": "be7bfd19-f361-4363-bf20-9ab1308ad8ea"
      },
      "id": "Wt6jUeiPZ1F3",
      "execution_count": 37,
      "outputs": [
        {
          "output_type": "execute_result",
          "data": {
            "text/plain": [
              "'i = randint(0,8760)\\nprint(\"index is \",i)\\nprint(\"Actual \",y_test[i],\" \",\"Predicted \", y_pred[i])'"
            ],
            "application/vnd.google.colaboratory.intrinsic+json": {
              "type": "string"
            }
          },
          "metadata": {},
          "execution_count": 37
        }
      ]
    },
    {
      "cell_type": "code",
      "execution_count": 21,
      "id": "7559ee4b",
      "metadata": {
        "colab": {
          "base_uri": "https://localhost:8080/"
        },
        "id": "7559ee4b",
        "outputId": "ae09bf32-9538-428a-d7bb-ad5ed3ed0b26"
      },
      "outputs": [
        {
          "output_type": "stream",
          "name": "stdout",
          "text": [
            "Coefficient of Determination R2 0.9906618743732911\n"
          ]
        }
      ],
      "source": [
        "from sklearn.metrics import r2_score \n",
        " \n",
        "R_square = r2_score(y_test, y_pred) \n",
        "print('Coefficient of Determination R2', R_square) "
      ]
    },
    {
      "cell_type": "code",
      "execution_count": 22,
      "id": "0673501b",
      "metadata": {
        "colab": {
          "base_uri": "https://localhost:8080/"
        },
        "id": "0673501b",
        "outputId": "cb6c1505-ff0c-465b-ba1e-288b07a2580e"
      },
      "outputs": [
        {
          "output_type": "stream",
          "name": "stdout",
          "text": [
            "Model MAE 11.584059892078198\n",
            "Model MSE 858.1696308175053\n",
            "Model RMSE 29.294532438963852\n"
          ]
        }
      ],
      "source": [
        "from sklearn import metrics\n",
        "#MAE\n",
        "print(\"Model MAE\", metrics.mean_absolute_error(y_test, y_pred))\n",
        "\n",
        "#MSE\n",
        "print(\"Model MSE\", metrics.mean_squared_error(y_test, y_pred))\n",
        "\n",
        "#RMSE\n",
        "print(\"Model RMSE\",np.sqrt(metrics.mean_squared_error(y_test, y_pred)))"
      ]
    },
    {
      "cell_type": "code",
      "execution_count": 2,
      "id": "ab744269",
      "metadata": {
        "colab": {
          "base_uri": "https://localhost:8080/",
          "height": 35
        },
        "id": "ab744269",
        "outputId": "bdce0553-21e4-42b3-d0f8-9d625865b8fd"
      },
      "outputs": [
        {
          "output_type": "execute_result",
          "data": {
            "text/plain": [
              "\"delta_y = y_test - y_pred\\nsns.set_style('whitegrid')\\nsns.kdeplot(np.array(delta_y), bw=0.5)\\nplt.show()\""
            ],
            "application/vnd.google.colaboratory.intrinsic+json": {
              "type": "string"
            }
          },
          "metadata": {},
          "execution_count": 2
        }
      ],
      "source": [
        "\"\"\"delta_y = y_test - y_pred\n",
        "sns.set_style('whitegrid')\n",
        "sns.kdeplot(np.array(delta_y), bw=0.5)\n",
        "plt.show()\"\"\""
      ]
    },
    {
      "cell_type": "code",
      "source": [],
      "metadata": {
        "id": "LUhF9lCfnM-9"
      },
      "id": "LUhF9lCfnM-9",
      "execution_count": null,
      "outputs": []
    },
    {
      "cell_type": "code",
      "source": [],
      "metadata": {
        "id": "pAp3n7VTnNCT"
      },
      "id": "pAp3n7VTnNCT",
      "execution_count": null,
      "outputs": []
    }
  ],
  "metadata": {
    "kernelspec": {
      "display_name": "Python 3 (ipykernel)",
      "language": "python",
      "name": "python3"
    },
    "language_info": {
      "codemirror_mode": {
        "name": "ipython",
        "version": 3
      },
      "file_extension": ".py",
      "mimetype": "text/x-python",
      "name": "python",
      "nbconvert_exporter": "python",
      "pygments_lexer": "ipython3",
      "version": "3.9.7"
    },
    "colab": {
      "provenance": [],
      "include_colab_link": true
    }
  },
  "nbformat": 4,
  "nbformat_minor": 5
}