{
  "nbformat": 4,
  "nbformat_minor": 0,
  "metadata": {
    "colab": {
      "name": "Fetch_Satelliteimage.ipynb",
      "provenance": [],
      "collapsed_sections": [],
      "authorship_tag": "ABX9TyP4g8DvMwGdtYWvngop8Geb",
      "include_colab_link": true
    },
    "kernelspec": {
      "name": "python3",
      "display_name": "Python 3"
    },
    "language_info": {
      "name": "python"
    }
  },
  "cells": [
    {
      "cell_type": "markdown",
      "metadata": {
        "id": "view-in-github",
        "colab_type": "text"
      },
      "source": [
        "<a href=\"https://colab.research.google.com/github/snvssk/data298A/blob/saidev/Fetch_Satelliteimage.ipynb\" target=\"_parent\"><img src=\"https://colab.research.google.com/assets/colab-badge.svg\" alt=\"Open In Colab\"/></a>"
      ]
    },
    {
      "cell_type": "code",
      "execution_count": 1,
      "metadata": {
        "id": "QqCZQ5aB8MzU"
      },
      "outputs": [],
      "source": [
        "import math\n",
        "import multiprocessing\n",
        "\n",
        "import os\n",
        "import queue\n",
        "import shutil\n",
        "import threading\n",
        "from PIL import Image\n",
        "from datetime import datetime\n",
        "from urllib import request"
      ]
    },
    {
      "cell_type": "code",
      "source": [
        "class MapDownloader(object):\n",
        "    def __init__(self, lat_start, lng_start, lat_end, lng_end, zoom=12, tile_size=256):\n",
        "        self.tile_server = 'https://mts1.google.com/vt/lyrs=y&x={x}&y={y}&z={z}'\n",
        "        # self.tile_server = 'http://tile.openstreetmap.org/{z}/{x}/{y}.png'\n",
        "        #self.tile_server = 'https://server.arcgisonline.com/ArcGIS/rest/services/World_Imagery/MapServer/tile/{z}/{y}/{x}'\n",
        "\n",
        "        self.lat_start = lat_start\n",
        "        self.lng_start = lng_start\n",
        "        self.lat_end = lat_end\n",
        "        self.lng_end = lng_end\n",
        "        self.zoom = zoom\n",
        "        self.tile_size = tile_size\n",
        "\n",
        "        self.q = queue.Queue()\n",
        "        self.num_worker = multiprocessing.cpu_count() - 1\n",
        "\n",
        "        self._generate_xy_point()\n",
        "\n",
        "    def _generate_xy_point(self):\n",
        "        self._x_start, self._y_start = self._convert_latlon_to_xy(self.lat_start, self.lng_start)\n",
        "        self._x_end, self._y_end = self._convert_latlon_to_xy(self.lat_end, self.lng_end)\n",
        "\n",
        "    def _convert_latlon_to_xy(self, lat, lng):\n",
        "        tiles_count = 1 << self.zoom\n",
        "\n",
        "        point_x = (self.tile_size / 2 + lng * self.tile_size / 360.0) * tiles_count // self.tile_size\n",
        "        sin_y = math.sin(lat * (math.pi / 180.0))\n",
        "        point_y = ((self.tile_size / 2) + 0.5 * math.log((1 + sin_y) / (1 - sin_y)) *\n",
        "                   -(self.tile_size / (2 * math.pi))) * tiles_count // self.tile_size\n",
        "\n",
        "        return int(point_x), int(point_y)\n",
        "\n",
        "    def _fetch_worker(self):\n",
        "        while True:\n",
        "            item = self.q.get()\n",
        "            if item is None:\n",
        "                break\n",
        "\n",
        "            idx, url, current_tile = item\n",
        "            print('Fetching #{} of {}: {}'.format(idx, self.q_size, url))\n",
        "            request.urlretrieve(url, current_tile)\n",
        "\n",
        "            self.q.task_done()\n",
        "\n",
        "    def write_into(self, filename):\n",
        "        # create temp dir\n",
        "        directory = os.path.abspath('./{}'.format(datetime.now().strftime(\"%Y-%m-%d_%H-%M-%S\")))\n",
        "        if not os.path.exists(directory):\n",
        "            os.makedirs(directory)\n",
        "\n",
        "        # generate source list\n",
        "        idx = 1\n",
        "        for x in range(0, self._x_end + 1 - self._x_start):\n",
        "            for y in range(0, self._y_end + 1 - self._y_start):\n",
        "                url = self.tile_server.format(\n",
        "                    x=str(self._x_start + x), y=str(self._y_start + y), z=str(self.zoom))\n",
        "                current_tile = os.path.join(directory, 'tile-{}_{}_{}.png'.format(\n",
        "                    str(self._x_start + x), str(self._y_start + y), str(self.zoom)))\n",
        "                self.q.put((idx, url, current_tile))\n",
        "                idx += 1\n",
        "\n",
        "        # stop workers\n",
        "        for i in range(self.num_worker):\n",
        "            self.q.put(None)\n",
        "\n",
        "        # start fetching tile using multithread to speed up process\n",
        "        self.q_size = self.q.qsize()\n",
        "\n",
        "        threads = []\n",
        "        for i in range(self.num_worker):\n",
        "            t = threading.Thread(target=self._fetch_worker)\n",
        "            t.start()\n",
        "            threads.append(t)\n",
        "\n",
        "        for t in threads:\n",
        "            t.join()\n",
        "\n",
        "        # combine image into single\n",
        "        width, height = 256 * (self._x_end + 1 - self._x_start), 256 * (self._y_end + 1 - self._y_start)\n",
        "        map_img = Image.new('RGB', (width, height))\n",
        "\n",
        "        for x in range(0, self._x_end + 1 - self._x_start):\n",
        "            for y in range(0, self._y_end + 1 - self._y_start):\n",
        "                current_tile = os.path.join(directory, 'tile-{}_{}_{}.png'.format(\n",
        "                    str(self._x_start + x), str(self._y_start + y), str(self.zoom)))\n",
        "                im = Image.open(current_tile)\n",
        "                map_img.paste(im, (x * 256, y * 256))\n",
        "\n",
        "        map_img.save(filename)\n",
        "\n",
        "        # remove temp dir\n",
        "        shutil.rmtree(directory)"
      ],
      "metadata": {
        "id": "lfX0xrDL8fs_"
      },
      "execution_count": 2,
      "outputs": []
    },
    {
      "cell_type": "code",
      "source": [
        "def main():\n",
        "    try:\n",
        "        #md = MapDownloader(-6.256524, 107.170208, -6.292112, 107.242934, zoom=18)\n",
        "        md = MapDownloader(37.408990,-121.897890, 37.408990,-121.897890, zoom=19)\n",
        "        \n",
        "        md.write_into('myhome.png')\n",
        "\n",
        "        print(\"The map has successfully been created\")\n",
        "    except Exception as e:\n",
        "        print(\n",
        "            \"Could not generate the image - try adjusting the zoom level and checking your coordinates. Cause: {}\".format(\n",
        "                e))\n",
        "\n",
        "\n",
        "if __name__ == '__main__':\n",
        "    main()"
      ],
      "metadata": {
        "colab": {
          "base_uri": "https://localhost:8080/"
        },
        "id": "IoUzAI628Yx3",
        "outputId": "02b6e944-1e6e-4679-8ca0-0e870b3079ee"
      },
      "execution_count": 3,
      "outputs": [
        {
          "output_type": "stream",
          "name": "stdout",
          "text": [
            "Fetching #1 of 2: https://mts1.google.com/vt/lyrs=y&x=84617&y=203320&z=19\n",
            "The map has successfully been created\n"
          ]
        }
      ]
    },
    {
      "cell_type": "code",
      "source": [
        ""
      ],
      "metadata": {
        "id": "nI4U8K7s8iP0"
      },
      "execution_count": null,
      "outputs": []
    }
  ]
}