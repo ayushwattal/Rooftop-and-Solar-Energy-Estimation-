Reference: https://github.com/alexkim/solar-forecasting

{
 "cells": [
  {
   "cell_type": "code",
   "execution_count": 15,
   "metadata": {},
   "outputs": [],
   "source": [
    "\"\"\"Predicting Solar Intensity Using Weather Data\n",
    "June 2019\n",
    "Alex Kim and Dane Stocks\n",
    "This module defines common utility functions, especially regarding data\n",
    "cleaning and structuring.\n",
    "\"\"\"\n",
    "import numpy as np\n",
    "\n",
    "\n",
    "def read_data(data_paths):\n",
    "    \"\"\"Read the data files and combine them into a single dataset.\n",
    "    Args:\n",
    "        data_paths (list): Strings of the paths to the data files.\n",
    "    Returns:\n",
    "        A single NumPy array consisting of the data from all datasets\n",
    "    \"\"\"\n",
    "    # Read the first data file\n",
    "    first_path = data_paths[0]\n",
    "    full_data = np.genfromtxt(first_path, delimiter=',', skip_header=2,\n",
    "            names=True)\n",
    "\n",
    "    # Append all remaining data files\n",
    "    num_files = len(data_paths)\n",
    "    for i in range(1, num_files):\n",
    "        path = data_paths[i]\n",
    "        new_data = np.genfromtxt(path, delimiter=',', skip_header=2,\n",
    "                names=True)\n",
    "        full_data = np.hstack((full_data, new_data))\n",
    "\n",
    "    return full_data\n",
    "\n",
    "\n",
    "def trim_vars(data):\n",
    "    \"\"\"Trim extraneous variables and observations from the data.\n",
    "    Args:\n",
    "        data (ndarray): The full unprocessed dataset\n",
    "    Returns:\n",
    "        The full dataset with extraneous variables and observations\n",
    "        trimmed off.\n",
    "    \"\"\"\n",
    "    # Remove all columns with names in `rm_vars`\n",
    "    rm_vars = ['DHI', 'DNI', 'Clearsky_DHI', 'Clearsky_DNI',\n",
    "            'Clearsky_GHI', 'Fill_Flag']\n",
    "    var_names = list(data.dtype.names)\n",
    "    var_names\n",
    "    keep_vars = [_ for _ in var_names if _ not in rm_vars]\n",
    "    #print(\"keep_vars\")\n",
    "    #print(keep_vars)\n",
    "    data_trimmed = data[keep_vars]\n",
    "    return data_trimmed\n",
    "\n",
    "\n",
    "def generate_ids(data):\n",
    "    \"\"\"Generate a unique ID for each row of the data. Each ID encodes\n",
    "    the date and time of the solar intensity measurement.\n",
    "    \"\"\"\n",
    "    pass\n",
    "\n",
    "\n",
    "def recode_time(data):\n",
    "    \"\"\"Recode the 'Hour' column to encapsulate both the hour and the\n",
    "    minute, and then remove the 'Minute' column.\n",
    "    Args:\n",
    "        data (ndarray): The full unprocessed dataset\n",
    "    Returns:\n",
    "        The full dataset with extraneous variables and observations\n",
    "    \"\"\"\n",
    "    # Recode 'Hour'\n",
    "    data['Hour'] = data['Hour'] + data['Minute'] / 60\n",
    "\n",
    "    # Remove 'Minute'\n",
    "    var_names = list(data.dtype.names)\n",
    "    keep_vars = [_ for _ in var_names if _ != 'Minute']\n",
    "    \n",
    "    data_trimmed = data[:, keep_vars]\n",
    "    return data_trimmed\n",
    "\n",
    "\n",
    "def featurize(data, n_time_points):\n",
    "    \"\"\"\n",
    "    \"\"\"\n",
    "    pass\n",
    "\n",
    "\n",
    "def cluster_transform():\n",
    "    \"\"\"Transform the data for k-means clustering.\n",
    "    This function generates a transformed dataset where each row\n",
    "    corresponds to a day, and each column corresponds to a time during\n",
    "    the day (48 columns total). The cells are populated with solar\n",
    "    intensity values. All predictor variables (weather data) are ignored\n",
    "    here.\n",
    "    Args:\n",
    "    Returns:\n",
    "    \"\"\"\n",
    "\n",
    "\n",
    "def split_data():\n",
    "    \"\"\"\n",
    "    \"\"\"\n",
    "    pass\n",
    "\n",
    "\n",
    "def read_and_preprocess():\n",
    "    \"\"\"\n",
    "    \"\"\"\n",
    "    data_paths = ['sanjose_117549_37.33_-121.90_2020.csv','sanjose_117549_37.33_-121.90_2019.csv','sanjose_117549_37.33_-121.90_2018.csv']\n",
    "    dat = read_data(data_paths)\n",
    "    dat = trim_vars(dat)\n",
    "    #print(\"printing\")\n",
    "    #print(dat)\n",
    "\n",
    "    return dat\n",
    "\n",
    "\n",
    "if __name__ == \"__main__\":\n",
    "    pass"
   ]
  },
  {
   "cell_type": "code",
   "execution_count": 16,
   "metadata": {},
   "outputs": [
    {
     "data": {
      "text/plain": [
       "array([(2020.,  1.,  1.,  0.,  0., 0., 7., 8.4, 165.52, 0.13, 1.2, 1.1, 282., 100.  ,  8.4, 1024., nan),\n",
       "       (2020.,  1.,  1.,  0., 30., 0., 7., 8.8, 165.13, 0.13, 1. , 1.1, 278.,  99.82,  8.8, 1024., nan),\n",
       "       (2020.,  1.,  1.,  1.,  0., 0., 7., 9.1, 162.24, 0.13, 0.9, 1.2, 274., 100.  ,  9.1, 1024., nan),\n",
       "       ...,\n",
       "       (2018., 12., 31., 22., 30., 0., 4., 9.8, 154.01, 0.11, 0.9, 1.7, 277.,  97.42, 10.2, 1024., nan),\n",
       "       (2018., 12., 31., 23.,  0., 0., 4., 9.8, 159.06, 0.11, 0.8, 1.7, 278.,  98.29, 10.1, 1024., nan),\n",
       "       (2018., 12., 31., 23., 30., 0., 4., 9.8, 163.17, 0.11, 0.8, 1.7, 286.,  96.99, 10.3, 1024., nan)],\n",
       "      dtype={'names':['Year','Month','Day','Hour','Minute','GHI','Cloud_Type','Dew_Point','Solar_Zenith_Angle','Surface_Albedo','Wind_Speed','Precipitable_Water','Wind_Direction','Relative_Humidity','Temperature','Pressure','f0'], 'formats':['<f8','<f8','<f8','<f8','<f8','<f8','<f8','<f8','<f8','<f8','<f8','<f8','<f8','<f8','<f8','<f8','<f8'], 'offsets':[0,8,16,24,32,56,88,96,104,120,128,136,144,152,160,168,176], 'itemsize':184})"
      ]
     },
     "execution_count": 16,
     "metadata": {},
     "output_type": "execute_result"
    }
   ],
   "source": [
    "read_and_preprocess()\n"
   ]
  },
  {
   "cell_type": "code",
   "execution_count": 1,
   "metadata": {},
   "outputs": [
    {
     "name": "stderr",
     "output_type": "stream",
     "text": [
      "ERROR:root:No traceback has been produced, nothing to debug.\n"
     ]
    }
   ],
   "source": [
    "%debug"
   ]
  },
  {
   "cell_type": "code",
   "execution_count": null,
   "metadata": {},
   "outputs": [],
   "source": []
  }
 ],
 "metadata": {
  "kernelspec": {
   "display_name": "Python 3",
   "language": "python",
   "name": "python3"
  },
  "language_info": {
   "codemirror_mode": {
    "name": "ipython",
    "version": 3
   },
   "file_extension": ".py",
   "mimetype": "text/x-python",
   "name": "python",
   "nbconvert_exporter": "python",
   "pygments_lexer": "ipython3",
   "version": "3.8.5"
  }
 },
 "nbformat": 4,
 "nbformat_minor": 5
}
